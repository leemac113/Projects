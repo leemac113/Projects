{
 "cells": [
  {
   "cell_type": "markdown",
   "metadata": {},
   "source": [
    "# Predicting Election into the National Baseball Hall of Fame"
   ]
  },
  {
   "cell_type": "markdown",
   "metadata": {},
   "source": [
    "## Project Goal"
   ]
  },
  {
   "cell_type": "markdown",
   "metadata": {},
   "source": [
    "The goal of this project is to find out whether a model built exclusively on traditional statistics can do a better job of predicting Hall of Fame induction by the Baseball Writers' Association of America (BBWAA) than one built solely using the more advanced statistics we use to measure player value today."
   ]
  },
  {
   "cell_type": "markdown",
   "metadata": {},
   "source": [
    "## Introduction to the Hall of Fame and Baseball Stats"
   ]
  },
  {
   "cell_type": "markdown",
   "metadata": {},
   "source": [
    "In 1936, Major League Baseball established its National Baseball Hall of Fame in Cooperstown, NY, and since that point, a group of 400+ long-tenured baseball writers (the BBWAA) has been the primary hurdle between the most talented major league players and baseball immortality.  The writers have voted annually since 1966 (and most of the years before that), and the rules of who appears on the ballot, who is allowed to remain, and how many players the writers are permitted to vote for have evolved throughout the generations, as have the voting bodies, the players, and indeed the game of baseball itself.  The threshold for election is 75%, and to get such a large group of people of varying expertise, preferences, and interest in the sport to independently agree to induct a player into what many are convinced is and should be the most exclusive shrine out there is no easy task.\n",
    "\n",
    "There is one objective set of measures that the voters can look to, one more reliable than intangible qualities like \"fame\" or \"heart\": statistics, a phenomenon nearly synonymous with baseball for as long as there have been newspapers to report them.  However, those have evolved quite dramatically as well.  For example, once upon a time we could point to one pitcher with a higher \"win\" total than another pitcher, and say that first pitcher was better.  However, with the advent of data analytics, it has become quite clear that said statistic is largely influenced by the offensive production of the pitcher's team, and a pitcher's value can be much more accurately estimated by his ability to prevent the other team from scoring runs (a quality that can be quantified and then scaled against the league average-- ERA+).\n",
    "\n",
    "The emergence of these new statistics has created something of a chasm among the baseball writers who vote for the Hall of Fame each year-- some have bought into the sabermetric movement, while others have clung tight to the traditional statistics, as well as the eye test (\"I covered him as a player, and I never believed I was watching a Hall of Famer\").  This conflict has spawned plenty of grassroots movements on both sides of the aisle from writers and fans alike, and as we speak, those conversations are in full force, as the Hall of Fame Class of 2019 will be announced on January 22nd, less than two weeks from the presentation of this project.  \n",
    "\n",
    "One day, I hope to have some say on who gets elected into the Baseball Hall of Fame.  And if that day ever comes, I will have plenty to say.  But for now, I'll settle for analyzing the voting patterns of the BBWAA, which is what I set out to do here."
   ]
  },
  {
   "cell_type": "markdown",
   "metadata": {},
   "source": [
    "## Problem Summary and Plan of Action"
   ]
  },
  {
   "cell_type": "markdown",
   "metadata": {},
   "source": [
    "__Problem Summary__"
   ]
  },
  {
   "cell_type": "markdown",
   "metadata": {},
   "source": [
    "As stated at the top, my goal here was to determine whether a model built purely on traditional baseball statistics could do a better job of predicting Hall of Fame election by the BBWAA than a similar one built while only using advanced statistics.  (The distinction of being voted in by the BBWAA is a necessary one-- there are other avenues of Hall of Fame induction, such as 16-person \"Veterans Committees\" made up of former players and executives that meet once every few years to discuss candidates in a panel before voting on them, and players inducted by those avenues are not considered in this project.)  My hypothesis was that such a model could be built, especially given the fact that the writers did not have access to those advanced statistics until recently, and the models would be built on historical voting data.  That being said, that outcome was far from a certainty, because of the powerful nature of the advanced statistics I planned to use.\n",
    "\n",
    "The specific advanced statistics I used to measure against the traditional ones include WAR (Wins Above Replacement, an aggregate statistic meant to determine the number of wins a certain player is worth above a replacement-level player), WAR7 (their WAR from the best 7 seasons of their career-- essentially a measure of their \"peak value\"), and JAWS (the average of the two aforementioned statistics, developed by baseball statistician and genius Jay Jaffe).  This is significant because these statistics have just about every traditional statistic of value baked into them, and so they not only do a great job of retrospectively (and currently) determining value, but are highly correlated with actual Hall of Fame membership.  These three statistics, along with a fourth (the aforementioned ERA+ for pitchers, and OPS+ for hitters, a similar statistic that adds a hitter's On-Base Percentage and Slugging Percentages together, then scales that number against the league average), would make up the features of the advanced statistical models I tested against."
   ]
  },
  {
   "cell_type": "markdown",
   "metadata": {},
   "source": [
    "__Plan of Action__"
   ]
  },
  {
   "cell_type": "markdown",
   "metadata": {},
   "source": [
    "In order to perform this analysis, my overall plan would be to build the best possible models (one for hitters and one for pitchers, since the statistics are different) for predicting Hall of Fame election by the BBWAA while exclusively using traditional statistics (limiting the amount of features to be considered at once to 4, to match the number of advanced features at our disposal), and to then measure their accuracy against the best possible models built from the 4 aforementioned advanced statistics.  Once it was determined whether these traditional models or the advanced models were more accurate, I would then use the best ones to attempt to predict which players on the 2019 ballot (and players with at least 10 years of Major League service, active or recently retired but yet to appear on a Hall of Fame ballot) would eventually be elected by the writers.\n",
    "\n",
    "__To be clear:__ My goal here was not to use the results of the comparative accuracy analysis to make a claim that traditional statistics are a better predictor of being voted into the Hall of Fame than advanced ones (or vice versa), nor was it to build the best possible predictive model of Hall of Fame induction (such a model would likely need to rely on both traditional and advanced statistics), but merely to see if I could build a predictive model with only traditional statistics at my disposal that performed better than a model built on these specific advanced ones."
   ]
  },
  {
   "cell_type": "markdown",
   "metadata": {},
   "source": [
    "# Data Retrieval/Preliminary Cleaning"
   ]
  },
  {
   "cell_type": "markdown",
   "metadata": {},
   "source": [
    "__Data Retrieval__"
   ]
  },
  {
   "cell_type": "markdown",
   "metadata": {},
   "source": [
    "The two primary datasets I needed to create (one for hitters, one for pitchers) would need to contain the statistics of every MLB player who has appeared on a BBWAA Hall of Fame ballot since 1966.  As was mentioned in the introduction, the rules of Hall of Fame voting have evolved quite a bit over the years (the most recent major change, decreasing the number of years a player could spend on the ballot without being elected from 15 to 10, happened in 2014), but 1966 was the most logical cutpoint because it was the year that elections began to be held annually, it was around the time when the number of players appearing on the ballot began to be limited to roughly 40-50 players (so writers didn't have to sift through 120-player ballots anymore), and the rule had just been instituted that a player could no longer appear on the ballot more than 20 years after their retirement, meaning the writers were more likely to have actually seen them play.\n",
    "\n",
    "The original list of players was downloaded from Sean Lahman's Baseball Database (https://data.world/dave/lahman-sabremetrics-dataset/), a free, relational database of baseball statistics dating back to 1871 (this link only provides information up to 2016, so I had to impute the last two years of Hall of Fame data on my own).  The statistics corresponding to those names were then downloaded from various statistical pages from Baseball-Reference.com's database (example here:  https://www.baseball-reference.com/leaders/jaws_1B.shtml) and attached to the corresponding players (these entire pages needed to be downloaded to do so-- most of the players on the Baseball-Reference pages were not part of the final datasets).  It was also necessary to retrieve the names of all the players who were inducted into the Hall of Fame by the BBWAA in that time (as opposed to all Hall of Fame inductees), found here: https://www.baseball-reference.com/bullpen/Hall_of_Fame_Voting_Percentages."
   ]
  },
  {
   "cell_type": "markdown",
   "metadata": {},
   "source": [
    "__Preliminary Cleaning in Excel__"
   ]
  },
  {
   "cell_type": "markdown",
   "metadata": {},
   "source": [
    "Once the data had been pulled into Excel, the following reorganization and cleaning steps were taken:\n",
    "\n",
    "1. I created six tables-- two for hitters/pitchers who have appeared on a ballot since 1966 (excluding those currently on the 2019 ballot), two for hitters/pitchers on the 2019 ballot, and two for hitters/pitchers eligible for consideration in the future (i.e. anyone who has played 10 years or more who is either active, retired in the last 5 years and has not yet appeared on the ballot, or is currently on the ballot).\n",
    "2. In doing the necessary VLOOKUPS to link the Baseball-Reference statistics to the proper players, I discovered many name duplicates (mostly fathers and sons, e.g. Ken Griffey Sr. and Ken Griffey Jr. both being listed as Ken Griffey), so I needed to change several names so a player wasn't linked to inaccurate statistics.\n",
    "3. I determined that relief pitchers needed to be excluded from the pitcher analysis, as their low innings totals would skew the data significantly and make it very difficult to determine the best possible models for pitchers."
   ]
  },
  {
   "cell_type": "markdown",
   "metadata": {},
   "source": [
    "## Data Dictionary"
   ]
  },
  {
   "cell_type": "markdown",
   "metadata": {},
   "source": [
    "__Hitter Statistics__"
   ]
  },
  {
   "cell_type": "markdown",
   "metadata": {},
   "source": [
    "WAR (Wins Above Replacement)- aggregate statistic that uses a number of factors to determine the number of wins a certain player is worth above a replacement-level player.  Full explanation for hitters here: https://www.baseball-reference.com/about/war_explained_position.shtml\n",
    "\n",
    "WAR7- WAR from the 7 best years of a player's career (\"peak value\")\n",
    "\n",
    "JAWS- Average of WAR and WAR7\n",
    "\n",
    "ASG- All-Star Games\n",
    "\n",
    "AB- At-Bats\n",
    "\n",
    "R- Runs\n",
    "\n",
    "H- Hits\n",
    "\n",
    "HR- Homeruns\n",
    "\n",
    "RBI- Runs Batted In\n",
    "\n",
    "BB- Walks\n",
    "\n",
    "BA- Batting Average (Hits per AB)\n",
    "\n",
    "OBP- On-Base Percentage (% of Plate Apperances that a player reaches base safely)\n",
    "\n",
    "SLG- Slugging Percentage (Total Bases per AB)\n",
    "\n",
    "OPS- OBP + SLG\n",
    "\n",
    "OPS+- Adjusted OPS (accounting for external factors such as ballparks played in) so that 100 is the league average (so 150 would be 50% better than the league average)"
   ]
  },
  {
   "cell_type": "markdown",
   "metadata": {},
   "source": [
    "__Pitcher Statistics__"
   ]
  },
  {
   "cell_type": "markdown",
   "metadata": {},
   "source": [
    "WAR (Wins Above Replacement)- aggregate statistic that uses a number of factors to determine the number of wins a certain player is worth above a replacement-level player.  Full explanation for pitchers here:  https://www.baseball-reference.com/about/war_explained_pitch.shtml\n",
    "\n",
    "(WAR7, JAWS, ASG explained above)\n",
    "\n",
    "W- Wins\n",
    "\n",
    "L- Losses\n",
    "\n",
    "W-L%- Winning Percentage\n",
    "\n",
    "ERA- Earned Run Average per 9 Innings\n",
    "\n",
    "ERA+- Adjusted ERA (accounting for external factors such as ballparks played in) so that 100 is the league average (so 150 would be 50% better than the league average)\n",
    "\n",
    "CG- Complete Games\n",
    "\n",
    "SHO- Shutouts\n",
    "\n",
    "IP- Innings Pitched\n",
    "\n",
    "H- Hits Allowed\n",
    "\n",
    "ER- Earned Runs Allowed\n",
    "\n",
    "HR- Homeruns Allowed\n",
    "\n",
    "BB- Walks Allowed\n",
    "\n",
    "SO- Strikeouts"
   ]
  },
  {
   "cell_type": "markdown",
   "metadata": {},
   "source": [
    "## Exploratory Data Analysis"
   ]
  },
  {
   "cell_type": "markdown",
   "metadata": {},
   "source": [
    "The following two datasets consist of every MLB player (excluding relief pitchers) who has appeared on a BBWAA Hall of Fame ballot since 1966."
   ]
  },
  {
   "cell_type": "code",
   "execution_count": 22,
   "metadata": {},
   "outputs": [],
   "source": [
    "import pandas as pd\n",
    "import seaborn as sns\n",
    "import matplotlib.pyplot as plt\n",
    "% matplotlib inline\n",
    "\n",
    "plt.style.use('fivethirtyeight')\n",
    "plt.rcParams['figure.figsize']=(8,6)\n",
    "plt.rcParams['font.size']=14"
   ]
  },
  {
   "cell_type": "code",
   "execution_count": 2,
   "metadata": {},
   "outputs": [],
   "source": [
    "hit=pd.read_csv('Ind_CSVs/HitterSet.csv')"
   ]
  },
  {
   "cell_type": "code",
   "execution_count": 3,
   "metadata": {},
   "outputs": [],
   "source": [
    "pitch=pd.read_csv('Ind_CSVs/PitcherSet.csv')"
   ]
  },
  {
   "cell_type": "code",
   "execution_count": 4,
   "metadata": {},
   "outputs": [
    {
     "data": {
      "text/html": [
       "<div>\n",
       "<style scoped>\n",
       "    .dataframe tbody tr th:only-of-type {\n",
       "        vertical-align: middle;\n",
       "    }\n",
       "\n",
       "    .dataframe tbody tr th {\n",
       "        vertical-align: top;\n",
       "    }\n",
       "\n",
       "    .dataframe thead th {\n",
       "        text-align: right;\n",
       "    }\n",
       "</style>\n",
       "<table border=\"1\" class=\"dataframe\">\n",
       "  <thead>\n",
       "    <tr style=\"text-align: right;\">\n",
       "      <th></th>\n",
       "      <th>Name</th>\n",
       "      <th>HoF</th>\n",
       "      <th>WAR</th>\n",
       "      <th>WAR7</th>\n",
       "      <th>JAWS</th>\n",
       "      <th>Yrs</th>\n",
       "      <th>From</th>\n",
       "      <th>To</th>\n",
       "      <th>ASG</th>\n",
       "      <th>G</th>\n",
       "      <th>...</th>\n",
       "      <th>RBI</th>\n",
       "      <th>SB</th>\n",
       "      <th>CS</th>\n",
       "      <th>BB</th>\n",
       "      <th>SO</th>\n",
       "      <th>BA</th>\n",
       "      <th>OBP</th>\n",
       "      <th>SLG</th>\n",
       "      <th>OPS</th>\n",
       "      <th>OPS+</th>\n",
       "    </tr>\n",
       "  </thead>\n",
       "  <tbody>\n",
       "    <tr>\n",
       "      <th>0</th>\n",
       "      <td>Ivan Rodriguez</td>\n",
       "      <td>1</td>\n",
       "      <td>68.7</td>\n",
       "      <td>39.8</td>\n",
       "      <td>54.3</td>\n",
       "      <td>21</td>\n",
       "      <td>1991</td>\n",
       "      <td>2011</td>\n",
       "      <td>14</td>\n",
       "      <td>2543</td>\n",
       "      <td>...</td>\n",
       "      <td>1332</td>\n",
       "      <td>127</td>\n",
       "      <td>64</td>\n",
       "      <td>513</td>\n",
       "      <td>1474</td>\n",
       "      <td>0.296</td>\n",
       "      <td>0.334</td>\n",
       "      <td>0.464</td>\n",
       "      <td>0.798</td>\n",
       "      <td>106</td>\n",
       "    </tr>\n",
       "    <tr>\n",
       "      <th>1</th>\n",
       "      <td>Jorge Posada</td>\n",
       "      <td>0</td>\n",
       "      <td>42.8</td>\n",
       "      <td>32.7</td>\n",
       "      <td>37.7</td>\n",
       "      <td>17</td>\n",
       "      <td>1995</td>\n",
       "      <td>2011</td>\n",
       "      <td>5</td>\n",
       "      <td>1829</td>\n",
       "      <td>...</td>\n",
       "      <td>1065</td>\n",
       "      <td>20</td>\n",
       "      <td>21</td>\n",
       "      <td>936</td>\n",
       "      <td>1453</td>\n",
       "      <td>0.273</td>\n",
       "      <td>0.374</td>\n",
       "      <td>0.474</td>\n",
       "      <td>0.848</td>\n",
       "      <td>121</td>\n",
       "    </tr>\n",
       "    <tr>\n",
       "      <th>2</th>\n",
       "      <td>Jason Varitek</td>\n",
       "      <td>0</td>\n",
       "      <td>24.2</td>\n",
       "      <td>18.8</td>\n",
       "      <td>21.5</td>\n",
       "      <td>15</td>\n",
       "      <td>1997</td>\n",
       "      <td>2011</td>\n",
       "      <td>3</td>\n",
       "      <td>1546</td>\n",
       "      <td>...</td>\n",
       "      <td>757</td>\n",
       "      <td>25</td>\n",
       "      <td>18</td>\n",
       "      <td>614</td>\n",
       "      <td>1216</td>\n",
       "      <td>0.256</td>\n",
       "      <td>0.341</td>\n",
       "      <td>0.435</td>\n",
       "      <td>0.776</td>\n",
       "      <td>99</td>\n",
       "    </tr>\n",
       "    <tr>\n",
       "      <th>3</th>\n",
       "      <td>Jason Kendall</td>\n",
       "      <td>0</td>\n",
       "      <td>41.7</td>\n",
       "      <td>30.4</td>\n",
       "      <td>36.0</td>\n",
       "      <td>15</td>\n",
       "      <td>1996</td>\n",
       "      <td>2010</td>\n",
       "      <td>3</td>\n",
       "      <td>2085</td>\n",
       "      <td>...</td>\n",
       "      <td>744</td>\n",
       "      <td>189</td>\n",
       "      <td>89</td>\n",
       "      <td>721</td>\n",
       "      <td>686</td>\n",
       "      <td>0.288</td>\n",
       "      <td>0.366</td>\n",
       "      <td>0.378</td>\n",
       "      <td>0.744</td>\n",
       "      <td>95</td>\n",
       "    </tr>\n",
       "    <tr>\n",
       "      <th>4</th>\n",
       "      <td>Brad Ausmus</td>\n",
       "      <td>0</td>\n",
       "      <td>16.5</td>\n",
       "      <td>15.1</td>\n",
       "      <td>15.8</td>\n",
       "      <td>18</td>\n",
       "      <td>1993</td>\n",
       "      <td>2010</td>\n",
       "      <td>1</td>\n",
       "      <td>1971</td>\n",
       "      <td>...</td>\n",
       "      <td>607</td>\n",
       "      <td>102</td>\n",
       "      <td>53</td>\n",
       "      <td>634</td>\n",
       "      <td>1034</td>\n",
       "      <td>0.251</td>\n",
       "      <td>0.325</td>\n",
       "      <td>0.344</td>\n",
       "      <td>0.669</td>\n",
       "      <td>75</td>\n",
       "    </tr>\n",
       "  </tbody>\n",
       "</table>\n",
       "<p>5 rows × 27 columns</p>\n",
       "</div>"
      ],
      "text/plain": [
       "             Name  HoF   WAR  WAR7  JAWS  Yrs  From    To  ASG     G  ...   \\\n",
       "0  Ivan Rodriguez    1  68.7  39.8  54.3   21  1991  2011   14  2543  ...    \n",
       "1    Jorge Posada    0  42.8  32.7  37.7   17  1995  2011    5  1829  ...    \n",
       "2   Jason Varitek    0  24.2  18.8  21.5   15  1997  2011    3  1546  ...    \n",
       "3   Jason Kendall    0  41.7  30.4  36.0   15  1996  2010    3  2085  ...    \n",
       "4     Brad Ausmus    0  16.5  15.1  15.8   18  1993  2010    1  1971  ...    \n",
       "\n",
       "    RBI   SB  CS   BB    SO     BA    OBP    SLG    OPS  OPS+  \n",
       "0  1332  127  64  513  1474  0.296  0.334  0.464  0.798   106  \n",
       "1  1065   20  21  936  1453  0.273  0.374  0.474  0.848   121  \n",
       "2   757   25  18  614  1216  0.256  0.341  0.435  0.776    99  \n",
       "3   744  189  89  721   686  0.288  0.366  0.378  0.744    95  \n",
       "4   607  102  53  634  1034  0.251  0.325  0.344  0.669    75  \n",
       "\n",
       "[5 rows x 27 columns]"
      ]
     },
     "execution_count": 4,
     "metadata": {},
     "output_type": "execute_result"
    }
   ],
   "source": [
    "hit.head()"
   ]
  },
  {
   "cell_type": "code",
   "execution_count": 5,
   "metadata": {},
   "outputs": [
    {
     "data": {
      "text/html": [
       "<div>\n",
       "<style scoped>\n",
       "    .dataframe tbody tr th:only-of-type {\n",
       "        vertical-align: middle;\n",
       "    }\n",
       "\n",
       "    .dataframe tbody tr th {\n",
       "        vertical-align: top;\n",
       "    }\n",
       "\n",
       "    .dataframe thead th {\n",
       "        text-align: right;\n",
       "    }\n",
       "</style>\n",
       "<table border=\"1\" class=\"dataframe\">\n",
       "  <thead>\n",
       "    <tr style=\"text-align: right;\">\n",
       "      <th></th>\n",
       "      <th>Name</th>\n",
       "      <th>HoF</th>\n",
       "      <th>WAR</th>\n",
       "      <th>WAR7</th>\n",
       "      <th>JAWS</th>\n",
       "      <th>Yrs</th>\n",
       "      <th>From</th>\n",
       "      <th>To</th>\n",
       "      <th>ASG</th>\n",
       "      <th>W</th>\n",
       "      <th>...</th>\n",
       "      <th>R</th>\n",
       "      <th>ER</th>\n",
       "      <th>HR</th>\n",
       "      <th>BB</th>\n",
       "      <th>IBB</th>\n",
       "      <th>SO</th>\n",
       "      <th>HBP</th>\n",
       "      <th>BK</th>\n",
       "      <th>WP</th>\n",
       "      <th>BF</th>\n",
       "    </tr>\n",
       "  </thead>\n",
       "  <tbody>\n",
       "    <tr>\n",
       "      <th>0</th>\n",
       "      <td>Johan Santana</td>\n",
       "      <td>0</td>\n",
       "      <td>51.6</td>\n",
       "      <td>45.0</td>\n",
       "      <td>48.3</td>\n",
       "      <td>12</td>\n",
       "      <td>2000</td>\n",
       "      <td>2012</td>\n",
       "      <td>4</td>\n",
       "      <td>139</td>\n",
       "      <td>...</td>\n",
       "      <td>773</td>\n",
       "      <td>721</td>\n",
       "      <td>220</td>\n",
       "      <td>567</td>\n",
       "      <td>13.0</td>\n",
       "      <td>1988</td>\n",
       "      <td>36</td>\n",
       "      <td>12</td>\n",
       "      <td>68</td>\n",
       "      <td>8262</td>\n",
       "    </tr>\n",
       "    <tr>\n",
       "      <th>1</th>\n",
       "      <td>Jamie Moyer</td>\n",
       "      <td>0</td>\n",
       "      <td>49.9</td>\n",
       "      <td>32.9</td>\n",
       "      <td>41.4</td>\n",
       "      <td>25</td>\n",
       "      <td>1986</td>\n",
       "      <td>2012</td>\n",
       "      <td>1</td>\n",
       "      <td>269</td>\n",
       "      <td>...</td>\n",
       "      <td>2076</td>\n",
       "      <td>1926</td>\n",
       "      <td>522</td>\n",
       "      <td>1155</td>\n",
       "      <td>69.0</td>\n",
       "      <td>2441</td>\n",
       "      <td>146</td>\n",
       "      <td>12</td>\n",
       "      <td>57</td>\n",
       "      <td>17356</td>\n",
       "    </tr>\n",
       "    <tr>\n",
       "      <th>2</th>\n",
       "      <td>Carlos Zambrano</td>\n",
       "      <td>0</td>\n",
       "      <td>44.0</td>\n",
       "      <td>38.4</td>\n",
       "      <td>41.2</td>\n",
       "      <td>12</td>\n",
       "      <td>2001</td>\n",
       "      <td>2012</td>\n",
       "      <td>3</td>\n",
       "      <td>132</td>\n",
       "      <td>...</td>\n",
       "      <td>879</td>\n",
       "      <td>797</td>\n",
       "      <td>161</td>\n",
       "      <td>898</td>\n",
       "      <td>41.0</td>\n",
       "      <td>1637</td>\n",
       "      <td>102</td>\n",
       "      <td>5</td>\n",
       "      <td>58</td>\n",
       "      <td>8389</td>\n",
       "    </tr>\n",
       "    <tr>\n",
       "      <th>3</th>\n",
       "      <td>Chris Carpenter</td>\n",
       "      <td>0</td>\n",
       "      <td>34.1</td>\n",
       "      <td>29.4</td>\n",
       "      <td>31.8</td>\n",
       "      <td>15</td>\n",
       "      <td>1997</td>\n",
       "      <td>2012</td>\n",
       "      <td>3</td>\n",
       "      <td>144</td>\n",
       "      <td>...</td>\n",
       "      <td>1021</td>\n",
       "      <td>927</td>\n",
       "      <td>220</td>\n",
       "      <td>627</td>\n",
       "      <td>23.0</td>\n",
       "      <td>1697</td>\n",
       "      <td>85</td>\n",
       "      <td>3</td>\n",
       "      <td>51</td>\n",
       "      <td>9305</td>\n",
       "    </tr>\n",
       "    <tr>\n",
       "      <th>4</th>\n",
       "      <td>Livan Hernandez</td>\n",
       "      <td>0</td>\n",
       "      <td>30.2</td>\n",
       "      <td>27.5</td>\n",
       "      <td>28.9</td>\n",
       "      <td>17</td>\n",
       "      <td>1996</td>\n",
       "      <td>2012</td>\n",
       "      <td>2</td>\n",
       "      <td>178</td>\n",
       "      <td>...</td>\n",
       "      <td>1686</td>\n",
       "      <td>1572</td>\n",
       "      <td>362</td>\n",
       "      <td>1066</td>\n",
       "      <td>86.0</td>\n",
       "      <td>1976</td>\n",
       "      <td>78</td>\n",
       "      <td>13</td>\n",
       "      <td>41</td>\n",
       "      <td>13816</td>\n",
       "    </tr>\n",
       "  </tbody>\n",
       "</table>\n",
       "<p>5 rows × 32 columns</p>\n",
       "</div>"
      ],
      "text/plain": [
       "              Name  HoF   WAR  WAR7  JAWS  Yrs  From    To  ASG    W  ...    \\\n",
       "0    Johan Santana    0  51.6  45.0  48.3   12  2000  2012    4  139  ...     \n",
       "1      Jamie Moyer    0  49.9  32.9  41.4   25  1986  2012    1  269  ...     \n",
       "2  Carlos Zambrano    0  44.0  38.4  41.2   12  2001  2012    3  132  ...     \n",
       "3  Chris Carpenter    0  34.1  29.4  31.8   15  1997  2012    3  144  ...     \n",
       "4  Livan Hernandez    0  30.2  27.5  28.9   17  1996  2012    2  178  ...     \n",
       "\n",
       "      R    ER   HR    BB   IBB    SO  HBP  BK  WP     BF  \n",
       "0   773   721  220   567  13.0  1988   36  12  68   8262  \n",
       "1  2076  1926  522  1155  69.0  2441  146  12  57  17356  \n",
       "2   879   797  161   898  41.0  1637  102   5  58   8389  \n",
       "3  1021   927  220   627  23.0  1697   85   3  51   9305  \n",
       "4  1686  1572  362  1066  86.0  1976   78  13  41  13816  \n",
       "\n",
       "[5 rows x 32 columns]"
      ]
     },
     "execution_count": 5,
     "metadata": {},
     "output_type": "execute_result"
    }
   ],
   "source": [
    "pitch.head()"
   ]
  },
  {
   "cell_type": "markdown",
   "metadata": {},
   "source": [
    "__Key note:__  I have already coded the HoF column into 0s and 1s on Excel, but a \"0\" indicates that the player was not voted in by the BBWAA, not necessarily that they did not make the Hall of Fame (as mentioned above, there are Hall of Famers on this list who were admitted via other avenues, and they are not considered as Hall of Famers for the sake of this project, since the goal is to build a model that predicts how the writers will vote)."
   ]
  },
  {
   "cell_type": "code",
   "execution_count": 6,
   "metadata": {},
   "outputs": [
    {
     "data": {
      "text/html": [
       "<div>\n",
       "<style scoped>\n",
       "    .dataframe tbody tr th:only-of-type {\n",
       "        vertical-align: middle;\n",
       "    }\n",
       "\n",
       "    .dataframe tbody tr th {\n",
       "        vertical-align: top;\n",
       "    }\n",
       "\n",
       "    .dataframe thead th {\n",
       "        text-align: right;\n",
       "    }\n",
       "</style>\n",
       "<table border=\"1\" class=\"dataframe\">\n",
       "  <thead>\n",
       "    <tr style=\"text-align: right;\">\n",
       "      <th></th>\n",
       "      <th>HoF</th>\n",
       "      <th>WAR</th>\n",
       "      <th>WAR7</th>\n",
       "      <th>JAWS</th>\n",
       "      <th>Yrs</th>\n",
       "      <th>From</th>\n",
       "      <th>To</th>\n",
       "      <th>ASG</th>\n",
       "      <th>G</th>\n",
       "      <th>PA</th>\n",
       "      <th>...</th>\n",
       "      <th>RBI</th>\n",
       "      <th>SB</th>\n",
       "      <th>CS</th>\n",
       "      <th>BB</th>\n",
       "      <th>SO</th>\n",
       "      <th>BA</th>\n",
       "      <th>OBP</th>\n",
       "      <th>SLG</th>\n",
       "      <th>OPS</th>\n",
       "      <th>OPS+</th>\n",
       "    </tr>\n",
       "    <tr>\n",
       "      <th>Name</th>\n",
       "      <th></th>\n",
       "      <th></th>\n",
       "      <th></th>\n",
       "      <th></th>\n",
       "      <th></th>\n",
       "      <th></th>\n",
       "      <th></th>\n",
       "      <th></th>\n",
       "      <th></th>\n",
       "      <th></th>\n",
       "      <th></th>\n",
       "      <th></th>\n",
       "      <th></th>\n",
       "      <th></th>\n",
       "      <th></th>\n",
       "      <th></th>\n",
       "      <th></th>\n",
       "      <th></th>\n",
       "      <th></th>\n",
       "      <th></th>\n",
       "      <th></th>\n",
       "    </tr>\n",
       "  </thead>\n",
       "  <tbody>\n",
       "    <tr>\n",
       "      <th>Ivan Rodriguez</th>\n",
       "      <td>1</td>\n",
       "      <td>68.7</td>\n",
       "      <td>39.8</td>\n",
       "      <td>54.3</td>\n",
       "      <td>21</td>\n",
       "      <td>1991</td>\n",
       "      <td>2011</td>\n",
       "      <td>14</td>\n",
       "      <td>2543</td>\n",
       "      <td>10270</td>\n",
       "      <td>...</td>\n",
       "      <td>1332</td>\n",
       "      <td>127</td>\n",
       "      <td>64</td>\n",
       "      <td>513</td>\n",
       "      <td>1474</td>\n",
       "      <td>0.296</td>\n",
       "      <td>0.334</td>\n",
       "      <td>0.464</td>\n",
       "      <td>0.798</td>\n",
       "      <td>106</td>\n",
       "    </tr>\n",
       "    <tr>\n",
       "      <th>Jorge Posada</th>\n",
       "      <td>0</td>\n",
       "      <td>42.8</td>\n",
       "      <td>32.7</td>\n",
       "      <td>37.7</td>\n",
       "      <td>17</td>\n",
       "      <td>1995</td>\n",
       "      <td>2011</td>\n",
       "      <td>5</td>\n",
       "      <td>1829</td>\n",
       "      <td>7150</td>\n",
       "      <td>...</td>\n",
       "      <td>1065</td>\n",
       "      <td>20</td>\n",
       "      <td>21</td>\n",
       "      <td>936</td>\n",
       "      <td>1453</td>\n",
       "      <td>0.273</td>\n",
       "      <td>0.374</td>\n",
       "      <td>0.474</td>\n",
       "      <td>0.848</td>\n",
       "      <td>121</td>\n",
       "    </tr>\n",
       "    <tr>\n",
       "      <th>Jason Varitek</th>\n",
       "      <td>0</td>\n",
       "      <td>24.2</td>\n",
       "      <td>18.8</td>\n",
       "      <td>21.5</td>\n",
       "      <td>15</td>\n",
       "      <td>1997</td>\n",
       "      <td>2011</td>\n",
       "      <td>3</td>\n",
       "      <td>1546</td>\n",
       "      <td>5839</td>\n",
       "      <td>...</td>\n",
       "      <td>757</td>\n",
       "      <td>25</td>\n",
       "      <td>18</td>\n",
       "      <td>614</td>\n",
       "      <td>1216</td>\n",
       "      <td>0.256</td>\n",
       "      <td>0.341</td>\n",
       "      <td>0.435</td>\n",
       "      <td>0.776</td>\n",
       "      <td>99</td>\n",
       "    </tr>\n",
       "    <tr>\n",
       "      <th>Jason Kendall</th>\n",
       "      <td>0</td>\n",
       "      <td>41.7</td>\n",
       "      <td>30.4</td>\n",
       "      <td>36.0</td>\n",
       "      <td>15</td>\n",
       "      <td>1996</td>\n",
       "      <td>2010</td>\n",
       "      <td>3</td>\n",
       "      <td>2085</td>\n",
       "      <td>8702</td>\n",
       "      <td>...</td>\n",
       "      <td>744</td>\n",
       "      <td>189</td>\n",
       "      <td>89</td>\n",
       "      <td>721</td>\n",
       "      <td>686</td>\n",
       "      <td>0.288</td>\n",
       "      <td>0.366</td>\n",
       "      <td>0.378</td>\n",
       "      <td>0.744</td>\n",
       "      <td>95</td>\n",
       "    </tr>\n",
       "    <tr>\n",
       "      <th>Brad Ausmus</th>\n",
       "      <td>0</td>\n",
       "      <td>16.5</td>\n",
       "      <td>15.1</td>\n",
       "      <td>15.8</td>\n",
       "      <td>18</td>\n",
       "      <td>1993</td>\n",
       "      <td>2010</td>\n",
       "      <td>1</td>\n",
       "      <td>1971</td>\n",
       "      <td>7102</td>\n",
       "      <td>...</td>\n",
       "      <td>607</td>\n",
       "      <td>102</td>\n",
       "      <td>53</td>\n",
       "      <td>634</td>\n",
       "      <td>1034</td>\n",
       "      <td>0.251</td>\n",
       "      <td>0.325</td>\n",
       "      <td>0.344</td>\n",
       "      <td>0.669</td>\n",
       "      <td>75</td>\n",
       "    </tr>\n",
       "  </tbody>\n",
       "</table>\n",
       "<p>5 rows × 26 columns</p>\n",
       "</div>"
      ],
      "text/plain": [
       "                HoF   WAR  WAR7  JAWS  Yrs  From    To  ASG     G     PA  \\\n",
       "Name                                                                       \n",
       "Ivan Rodriguez    1  68.7  39.8  54.3   21  1991  2011   14  2543  10270   \n",
       "Jorge Posada      0  42.8  32.7  37.7   17  1995  2011    5  1829   7150   \n",
       "Jason Varitek     0  24.2  18.8  21.5   15  1997  2011    3  1546   5839   \n",
       "Jason Kendall     0  41.7  30.4  36.0   15  1996  2010    3  2085   8702   \n",
       "Brad Ausmus       0  16.5  15.1  15.8   18  1993  2010    1  1971   7102   \n",
       "\n",
       "                ...    RBI   SB  CS   BB    SO     BA    OBP    SLG    OPS  \\\n",
       "Name            ...                                                          \n",
       "Ivan Rodriguez  ...   1332  127  64  513  1474  0.296  0.334  0.464  0.798   \n",
       "Jorge Posada    ...   1065   20  21  936  1453  0.273  0.374  0.474  0.848   \n",
       "Jason Varitek   ...    757   25  18  614  1216  0.256  0.341  0.435  0.776   \n",
       "Jason Kendall   ...    744  189  89  721   686  0.288  0.366  0.378  0.744   \n",
       "Brad Ausmus     ...    607  102  53  634  1034  0.251  0.325  0.344  0.669   \n",
       "\n",
       "                OPS+  \n",
       "Name                  \n",
       "Ivan Rodriguez   106  \n",
       "Jorge Posada     121  \n",
       "Jason Varitek     99  \n",
       "Jason Kendall     95  \n",
       "Brad Ausmus       75  \n",
       "\n",
       "[5 rows x 26 columns]"
      ]
     },
     "execution_count": 6,
     "metadata": {},
     "output_type": "execute_result"
    }
   ],
   "source": [
    "hit=hit.set_index('Name')\n",
    "hit.head()"
   ]
  },
  {
   "cell_type": "code",
   "execution_count": 7,
   "metadata": {},
   "outputs": [
    {
     "data": {
      "text/html": [
       "<div>\n",
       "<style scoped>\n",
       "    .dataframe tbody tr th:only-of-type {\n",
       "        vertical-align: middle;\n",
       "    }\n",
       "\n",
       "    .dataframe tbody tr th {\n",
       "        vertical-align: top;\n",
       "    }\n",
       "\n",
       "    .dataframe thead th {\n",
       "        text-align: right;\n",
       "    }\n",
       "</style>\n",
       "<table border=\"1\" class=\"dataframe\">\n",
       "  <thead>\n",
       "    <tr style=\"text-align: right;\">\n",
       "      <th></th>\n",
       "      <th>HoF</th>\n",
       "      <th>WAR</th>\n",
       "      <th>WAR7</th>\n",
       "      <th>JAWS</th>\n",
       "      <th>Yrs</th>\n",
       "      <th>From</th>\n",
       "      <th>To</th>\n",
       "      <th>ASG</th>\n",
       "      <th>W</th>\n",
       "      <th>L</th>\n",
       "      <th>...</th>\n",
       "      <th>R</th>\n",
       "      <th>ER</th>\n",
       "      <th>HR</th>\n",
       "      <th>BB</th>\n",
       "      <th>IBB</th>\n",
       "      <th>SO</th>\n",
       "      <th>HBP</th>\n",
       "      <th>BK</th>\n",
       "      <th>WP</th>\n",
       "      <th>BF</th>\n",
       "    </tr>\n",
       "    <tr>\n",
       "      <th>Name</th>\n",
       "      <th></th>\n",
       "      <th></th>\n",
       "      <th></th>\n",
       "      <th></th>\n",
       "      <th></th>\n",
       "      <th></th>\n",
       "      <th></th>\n",
       "      <th></th>\n",
       "      <th></th>\n",
       "      <th></th>\n",
       "      <th></th>\n",
       "      <th></th>\n",
       "      <th></th>\n",
       "      <th></th>\n",
       "      <th></th>\n",
       "      <th></th>\n",
       "      <th></th>\n",
       "      <th></th>\n",
       "      <th></th>\n",
       "      <th></th>\n",
       "      <th></th>\n",
       "    </tr>\n",
       "  </thead>\n",
       "  <tbody>\n",
       "    <tr>\n",
       "      <th>Johan Santana</th>\n",
       "      <td>0</td>\n",
       "      <td>51.6</td>\n",
       "      <td>45.0</td>\n",
       "      <td>48.3</td>\n",
       "      <td>12</td>\n",
       "      <td>2000</td>\n",
       "      <td>2012</td>\n",
       "      <td>4</td>\n",
       "      <td>139</td>\n",
       "      <td>78</td>\n",
       "      <td>...</td>\n",
       "      <td>773</td>\n",
       "      <td>721</td>\n",
       "      <td>220</td>\n",
       "      <td>567</td>\n",
       "      <td>13.0</td>\n",
       "      <td>1988</td>\n",
       "      <td>36</td>\n",
       "      <td>12</td>\n",
       "      <td>68</td>\n",
       "      <td>8262</td>\n",
       "    </tr>\n",
       "    <tr>\n",
       "      <th>Jamie Moyer</th>\n",
       "      <td>0</td>\n",
       "      <td>49.9</td>\n",
       "      <td>32.9</td>\n",
       "      <td>41.4</td>\n",
       "      <td>25</td>\n",
       "      <td>1986</td>\n",
       "      <td>2012</td>\n",
       "      <td>1</td>\n",
       "      <td>269</td>\n",
       "      <td>209</td>\n",
       "      <td>...</td>\n",
       "      <td>2076</td>\n",
       "      <td>1926</td>\n",
       "      <td>522</td>\n",
       "      <td>1155</td>\n",
       "      <td>69.0</td>\n",
       "      <td>2441</td>\n",
       "      <td>146</td>\n",
       "      <td>12</td>\n",
       "      <td>57</td>\n",
       "      <td>17356</td>\n",
       "    </tr>\n",
       "    <tr>\n",
       "      <th>Carlos Zambrano</th>\n",
       "      <td>0</td>\n",
       "      <td>44.0</td>\n",
       "      <td>38.4</td>\n",
       "      <td>41.2</td>\n",
       "      <td>12</td>\n",
       "      <td>2001</td>\n",
       "      <td>2012</td>\n",
       "      <td>3</td>\n",
       "      <td>132</td>\n",
       "      <td>91</td>\n",
       "      <td>...</td>\n",
       "      <td>879</td>\n",
       "      <td>797</td>\n",
       "      <td>161</td>\n",
       "      <td>898</td>\n",
       "      <td>41.0</td>\n",
       "      <td>1637</td>\n",
       "      <td>102</td>\n",
       "      <td>5</td>\n",
       "      <td>58</td>\n",
       "      <td>8389</td>\n",
       "    </tr>\n",
       "    <tr>\n",
       "      <th>Chris Carpenter</th>\n",
       "      <td>0</td>\n",
       "      <td>34.1</td>\n",
       "      <td>29.4</td>\n",
       "      <td>31.8</td>\n",
       "      <td>15</td>\n",
       "      <td>1997</td>\n",
       "      <td>2012</td>\n",
       "      <td>3</td>\n",
       "      <td>144</td>\n",
       "      <td>94</td>\n",
       "      <td>...</td>\n",
       "      <td>1021</td>\n",
       "      <td>927</td>\n",
       "      <td>220</td>\n",
       "      <td>627</td>\n",
       "      <td>23.0</td>\n",
       "      <td>1697</td>\n",
       "      <td>85</td>\n",
       "      <td>3</td>\n",
       "      <td>51</td>\n",
       "      <td>9305</td>\n",
       "    </tr>\n",
       "    <tr>\n",
       "      <th>Livan Hernandez</th>\n",
       "      <td>0</td>\n",
       "      <td>30.2</td>\n",
       "      <td>27.5</td>\n",
       "      <td>28.9</td>\n",
       "      <td>17</td>\n",
       "      <td>1996</td>\n",
       "      <td>2012</td>\n",
       "      <td>2</td>\n",
       "      <td>178</td>\n",
       "      <td>177</td>\n",
       "      <td>...</td>\n",
       "      <td>1686</td>\n",
       "      <td>1572</td>\n",
       "      <td>362</td>\n",
       "      <td>1066</td>\n",
       "      <td>86.0</td>\n",
       "      <td>1976</td>\n",
       "      <td>78</td>\n",
       "      <td>13</td>\n",
       "      <td>41</td>\n",
       "      <td>13816</td>\n",
       "    </tr>\n",
       "  </tbody>\n",
       "</table>\n",
       "<p>5 rows × 31 columns</p>\n",
       "</div>"
      ],
      "text/plain": [
       "                 HoF   WAR  WAR7  JAWS  Yrs  From    To  ASG    W    L  ...    \\\n",
       "Name                                                                    ...     \n",
       "Johan Santana      0  51.6  45.0  48.3   12  2000  2012    4  139   78  ...     \n",
       "Jamie Moyer        0  49.9  32.9  41.4   25  1986  2012    1  269  209  ...     \n",
       "Carlos Zambrano    0  44.0  38.4  41.2   12  2001  2012    3  132   91  ...     \n",
       "Chris Carpenter    0  34.1  29.4  31.8   15  1997  2012    3  144   94  ...     \n",
       "Livan Hernandez    0  30.2  27.5  28.9   17  1996  2012    2  178  177  ...     \n",
       "\n",
       "                    R    ER   HR    BB   IBB    SO  HBP  BK  WP     BF  \n",
       "Name                                                                    \n",
       "Johan Santana     773   721  220   567  13.0  1988   36  12  68   8262  \n",
       "Jamie Moyer      2076  1926  522  1155  69.0  2441  146  12  57  17356  \n",
       "Carlos Zambrano   879   797  161   898  41.0  1637  102   5  58   8389  \n",
       "Chris Carpenter  1021   927  220   627  23.0  1697   85   3  51   9305  \n",
       "Livan Hernandez  1686  1572  362  1066  86.0  1976   78  13  41  13816  \n",
       "\n",
       "[5 rows x 31 columns]"
      ]
     },
     "execution_count": 7,
     "metadata": {},
     "output_type": "execute_result"
    }
   ],
   "source": [
    "pitch=pitch.set_index('Name')\n",
    "pitch.head()"
   ]
  },
  {
   "cell_type": "code",
   "execution_count": 8,
   "metadata": {},
   "outputs": [
    {
     "data": {
      "text/plain": [
       "(496, 26)"
      ]
     },
     "execution_count": 8,
     "metadata": {},
     "output_type": "execute_result"
    }
   ],
   "source": [
    "hit.shape"
   ]
  },
  {
   "cell_type": "code",
   "execution_count": 9,
   "metadata": {},
   "outputs": [
    {
     "data": {
      "text/plain": [
       "(198, 31)"
      ]
     },
     "execution_count": 9,
     "metadata": {},
     "output_type": "execute_result"
    }
   ],
   "source": [
    "pitch.shape"
   ]
  },
  {
   "cell_type": "code",
   "execution_count": 10,
   "metadata": {},
   "outputs": [
    {
     "data": {
      "text/plain": [
       "HoF       int64\n",
       "WAR     float64\n",
       "WAR7    float64\n",
       "JAWS    float64\n",
       "Yrs       int64\n",
       "From      int64\n",
       "To        int64\n",
       "ASG       int64\n",
       "G         int64\n",
       "PA        int64\n",
       "AB        int64\n",
       "R         int64\n",
       "H         int64\n",
       "2B        int64\n",
       "3B        int64\n",
       "HR        int64\n",
       "RBI       int64\n",
       "SB        int64\n",
       "CS        int64\n",
       "BB        int64\n",
       "SO        int64\n",
       "BA      float64\n",
       "OBP     float64\n",
       "SLG     float64\n",
       "OPS     float64\n",
       "OPS+      int64\n",
       "dtype: object"
      ]
     },
     "execution_count": 10,
     "metadata": {},
     "output_type": "execute_result"
    }
   ],
   "source": [
    "hit.dtypes"
   ]
  },
  {
   "cell_type": "code",
   "execution_count": 11,
   "metadata": {},
   "outputs": [
    {
     "data": {
      "text/html": [
       "<div>\n",
       "<style scoped>\n",
       "    .dataframe tbody tr th:only-of-type {\n",
       "        vertical-align: middle;\n",
       "    }\n",
       "\n",
       "    .dataframe tbody tr th {\n",
       "        vertical-align: top;\n",
       "    }\n",
       "\n",
       "    .dataframe thead th {\n",
       "        text-align: right;\n",
       "    }\n",
       "</style>\n",
       "<table border=\"1\" class=\"dataframe\">\n",
       "  <thead>\n",
       "    <tr style=\"text-align: right;\">\n",
       "      <th></th>\n",
       "      <th>HoF</th>\n",
       "      <th>WAR</th>\n",
       "      <th>WAR7</th>\n",
       "      <th>JAWS</th>\n",
       "      <th>Yrs</th>\n",
       "      <th>ASG</th>\n",
       "      <th>AB</th>\n",
       "      <th>R</th>\n",
       "      <th>H</th>\n",
       "      <th>HR</th>\n",
       "      <th>RBI</th>\n",
       "      <th>BB</th>\n",
       "      <th>BA</th>\n",
       "      <th>OBP</th>\n",
       "      <th>SLG</th>\n",
       "      <th>OPS</th>\n",
       "      <th>OPS+</th>\n",
       "    </tr>\n",
       "    <tr>\n",
       "      <th>Name</th>\n",
       "      <th></th>\n",
       "      <th></th>\n",
       "      <th></th>\n",
       "      <th></th>\n",
       "      <th></th>\n",
       "      <th></th>\n",
       "      <th></th>\n",
       "      <th></th>\n",
       "      <th></th>\n",
       "      <th></th>\n",
       "      <th></th>\n",
       "      <th></th>\n",
       "      <th></th>\n",
       "      <th></th>\n",
       "      <th></th>\n",
       "      <th></th>\n",
       "      <th></th>\n",
       "    </tr>\n",
       "  </thead>\n",
       "  <tbody>\n",
       "    <tr>\n",
       "      <th>Ivan Rodriguez</th>\n",
       "      <td>1</td>\n",
       "      <td>68.7</td>\n",
       "      <td>39.8</td>\n",
       "      <td>54.3</td>\n",
       "      <td>21</td>\n",
       "      <td>14</td>\n",
       "      <td>9592</td>\n",
       "      <td>1354</td>\n",
       "      <td>2844</td>\n",
       "      <td>311</td>\n",
       "      <td>1332</td>\n",
       "      <td>513</td>\n",
       "      <td>0.296</td>\n",
       "      <td>0.334</td>\n",
       "      <td>0.464</td>\n",
       "      <td>0.798</td>\n",
       "      <td>106</td>\n",
       "    </tr>\n",
       "    <tr>\n",
       "      <th>Jorge Posada</th>\n",
       "      <td>0</td>\n",
       "      <td>42.8</td>\n",
       "      <td>32.7</td>\n",
       "      <td>37.7</td>\n",
       "      <td>17</td>\n",
       "      <td>5</td>\n",
       "      <td>6092</td>\n",
       "      <td>900</td>\n",
       "      <td>1664</td>\n",
       "      <td>275</td>\n",
       "      <td>1065</td>\n",
       "      <td>936</td>\n",
       "      <td>0.273</td>\n",
       "      <td>0.374</td>\n",
       "      <td>0.474</td>\n",
       "      <td>0.848</td>\n",
       "      <td>121</td>\n",
       "    </tr>\n",
       "    <tr>\n",
       "      <th>Jason Varitek</th>\n",
       "      <td>0</td>\n",
       "      <td>24.2</td>\n",
       "      <td>18.8</td>\n",
       "      <td>21.5</td>\n",
       "      <td>15</td>\n",
       "      <td>3</td>\n",
       "      <td>5099</td>\n",
       "      <td>664</td>\n",
       "      <td>1307</td>\n",
       "      <td>193</td>\n",
       "      <td>757</td>\n",
       "      <td>614</td>\n",
       "      <td>0.256</td>\n",
       "      <td>0.341</td>\n",
       "      <td>0.435</td>\n",
       "      <td>0.776</td>\n",
       "      <td>99</td>\n",
       "    </tr>\n",
       "    <tr>\n",
       "      <th>Jason Kendall</th>\n",
       "      <td>0</td>\n",
       "      <td>41.7</td>\n",
       "      <td>30.4</td>\n",
       "      <td>36.0</td>\n",
       "      <td>15</td>\n",
       "      <td>3</td>\n",
       "      <td>7627</td>\n",
       "      <td>1030</td>\n",
       "      <td>2195</td>\n",
       "      <td>75</td>\n",
       "      <td>744</td>\n",
       "      <td>721</td>\n",
       "      <td>0.288</td>\n",
       "      <td>0.366</td>\n",
       "      <td>0.378</td>\n",
       "      <td>0.744</td>\n",
       "      <td>95</td>\n",
       "    </tr>\n",
       "    <tr>\n",
       "      <th>Brad Ausmus</th>\n",
       "      <td>0</td>\n",
       "      <td>16.5</td>\n",
       "      <td>15.1</td>\n",
       "      <td>15.8</td>\n",
       "      <td>18</td>\n",
       "      <td>1</td>\n",
       "      <td>6279</td>\n",
       "      <td>718</td>\n",
       "      <td>1579</td>\n",
       "      <td>80</td>\n",
       "      <td>607</td>\n",
       "      <td>634</td>\n",
       "      <td>0.251</td>\n",
       "      <td>0.325</td>\n",
       "      <td>0.344</td>\n",
       "      <td>0.669</td>\n",
       "      <td>75</td>\n",
       "    </tr>\n",
       "  </tbody>\n",
       "</table>\n",
       "</div>"
      ],
      "text/plain": [
       "                HoF   WAR  WAR7  JAWS  Yrs  ASG    AB     R     H   HR   RBI  \\\n",
       "Name                                                                           \n",
       "Ivan Rodriguez    1  68.7  39.8  54.3   21   14  9592  1354  2844  311  1332   \n",
       "Jorge Posada      0  42.8  32.7  37.7   17    5  6092   900  1664  275  1065   \n",
       "Jason Varitek     0  24.2  18.8  21.5   15    3  5099   664  1307  193   757   \n",
       "Jason Kendall     0  41.7  30.4  36.0   15    3  7627  1030  2195   75   744   \n",
       "Brad Ausmus       0  16.5  15.1  15.8   18    1  6279   718  1579   80   607   \n",
       "\n",
       "                 BB     BA    OBP    SLG    OPS  OPS+  \n",
       "Name                                                   \n",
       "Ivan Rodriguez  513  0.296  0.334  0.464  0.798   106  \n",
       "Jorge Posada    936  0.273  0.374  0.474  0.848   121  \n",
       "Jason Varitek   614  0.256  0.341  0.435  0.776    99  \n",
       "Jason Kendall   721  0.288  0.366  0.378  0.744    95  \n",
       "Brad Ausmus     634  0.251  0.325  0.344  0.669    75  "
      ]
     },
     "execution_count": 11,
     "metadata": {},
     "output_type": "execute_result"
    }
   ],
   "source": [
    "hit=hit.drop(['From','To','G','PA','2B','3B','SB','CS','SO'], axis='columns')\n",
    "hit.head()"
   ]
  },
  {
   "cell_type": "code",
   "execution_count": 12,
   "metadata": {},
   "outputs": [
    {
     "data": {
      "text/plain": [
       "HoF       int64\n",
       "WAR     float64\n",
       "WAR7    float64\n",
       "JAWS    float64\n",
       "Yrs       int64\n",
       "From      int64\n",
       "To        int64\n",
       "ASG       int64\n",
       "W         int64\n",
       "L         int64\n",
       "W-L%    float64\n",
       "ERA     float64\n",
       "ERA+      int64\n",
       "G         int64\n",
       "GS        int64\n",
       "GF        int64\n",
       "CG        int64\n",
       "SHO       int64\n",
       "SV        int64\n",
       "IP      float64\n",
       "H         int64\n",
       "R         int64\n",
       "ER        int64\n",
       "HR        int64\n",
       "BB        int64\n",
       "IBB     float64\n",
       "SO        int64\n",
       "HBP       int64\n",
       "BK        int64\n",
       "WP        int64\n",
       "BF        int64\n",
       "dtype: object"
      ]
     },
     "execution_count": 12,
     "metadata": {},
     "output_type": "execute_result"
    }
   ],
   "source": [
    "pitch.dtypes"
   ]
  },
  {
   "cell_type": "code",
   "execution_count": 13,
   "metadata": {},
   "outputs": [
    {
     "data": {
      "text/html": [
       "<div>\n",
       "<style scoped>\n",
       "    .dataframe tbody tr th:only-of-type {\n",
       "        vertical-align: middle;\n",
       "    }\n",
       "\n",
       "    .dataframe tbody tr th {\n",
       "        vertical-align: top;\n",
       "    }\n",
       "\n",
       "    .dataframe thead th {\n",
       "        text-align: right;\n",
       "    }\n",
       "</style>\n",
       "<table border=\"1\" class=\"dataframe\">\n",
       "  <thead>\n",
       "    <tr style=\"text-align: right;\">\n",
       "      <th></th>\n",
       "      <th>HoF</th>\n",
       "      <th>WAR</th>\n",
       "      <th>WAR7</th>\n",
       "      <th>JAWS</th>\n",
       "      <th>Yrs</th>\n",
       "      <th>ASG</th>\n",
       "      <th>W</th>\n",
       "      <th>L</th>\n",
       "      <th>W-L%</th>\n",
       "      <th>ERA</th>\n",
       "      <th>ERA+</th>\n",
       "      <th>CG</th>\n",
       "      <th>SHO</th>\n",
       "      <th>IP</th>\n",
       "      <th>H</th>\n",
       "      <th>ER</th>\n",
       "      <th>HR</th>\n",
       "      <th>BB</th>\n",
       "      <th>SO</th>\n",
       "    </tr>\n",
       "    <tr>\n",
       "      <th>Name</th>\n",
       "      <th></th>\n",
       "      <th></th>\n",
       "      <th></th>\n",
       "      <th></th>\n",
       "      <th></th>\n",
       "      <th></th>\n",
       "      <th></th>\n",
       "      <th></th>\n",
       "      <th></th>\n",
       "      <th></th>\n",
       "      <th></th>\n",
       "      <th></th>\n",
       "      <th></th>\n",
       "      <th></th>\n",
       "      <th></th>\n",
       "      <th></th>\n",
       "      <th></th>\n",
       "      <th></th>\n",
       "      <th></th>\n",
       "    </tr>\n",
       "  </thead>\n",
       "  <tbody>\n",
       "    <tr>\n",
       "      <th>Johan Santana</th>\n",
       "      <td>0</td>\n",
       "      <td>51.6</td>\n",
       "      <td>45.0</td>\n",
       "      <td>48.3</td>\n",
       "      <td>12</td>\n",
       "      <td>4</td>\n",
       "      <td>139</td>\n",
       "      <td>78</td>\n",
       "      <td>0.641</td>\n",
       "      <td>3.20</td>\n",
       "      <td>136</td>\n",
       "      <td>15</td>\n",
       "      <td>10</td>\n",
       "      <td>2025.2</td>\n",
       "      <td>1726</td>\n",
       "      <td>721</td>\n",
       "      <td>220</td>\n",
       "      <td>567</td>\n",
       "      <td>1988</td>\n",
       "    </tr>\n",
       "    <tr>\n",
       "      <th>Jamie Moyer</th>\n",
       "      <td>0</td>\n",
       "      <td>49.9</td>\n",
       "      <td>32.9</td>\n",
       "      <td>41.4</td>\n",
       "      <td>25</td>\n",
       "      <td>1</td>\n",
       "      <td>269</td>\n",
       "      <td>209</td>\n",
       "      <td>0.563</td>\n",
       "      <td>4.25</td>\n",
       "      <td>103</td>\n",
       "      <td>33</td>\n",
       "      <td>10</td>\n",
       "      <td>4074.0</td>\n",
       "      <td>4231</td>\n",
       "      <td>1926</td>\n",
       "      <td>522</td>\n",
       "      <td>1155</td>\n",
       "      <td>2441</td>\n",
       "    </tr>\n",
       "    <tr>\n",
       "      <th>Carlos Zambrano</th>\n",
       "      <td>0</td>\n",
       "      <td>44.0</td>\n",
       "      <td>38.4</td>\n",
       "      <td>41.2</td>\n",
       "      <td>12</td>\n",
       "      <td>3</td>\n",
       "      <td>132</td>\n",
       "      <td>91</td>\n",
       "      <td>0.592</td>\n",
       "      <td>3.66</td>\n",
       "      <td>120</td>\n",
       "      <td>10</td>\n",
       "      <td>5</td>\n",
       "      <td>1959.0</td>\n",
       "      <td>1709</td>\n",
       "      <td>797</td>\n",
       "      <td>161</td>\n",
       "      <td>898</td>\n",
       "      <td>1637</td>\n",
       "    </tr>\n",
       "    <tr>\n",
       "      <th>Chris Carpenter</th>\n",
       "      <td>0</td>\n",
       "      <td>34.1</td>\n",
       "      <td>29.4</td>\n",
       "      <td>31.8</td>\n",
       "      <td>15</td>\n",
       "      <td>3</td>\n",
       "      <td>144</td>\n",
       "      <td>94</td>\n",
       "      <td>0.605</td>\n",
       "      <td>3.76</td>\n",
       "      <td>116</td>\n",
       "      <td>33</td>\n",
       "      <td>15</td>\n",
       "      <td>2219.1</td>\n",
       "      <td>2205</td>\n",
       "      <td>927</td>\n",
       "      <td>220</td>\n",
       "      <td>627</td>\n",
       "      <td>1697</td>\n",
       "    </tr>\n",
       "    <tr>\n",
       "      <th>Livan Hernandez</th>\n",
       "      <td>0</td>\n",
       "      <td>30.2</td>\n",
       "      <td>27.5</td>\n",
       "      <td>28.9</td>\n",
       "      <td>17</td>\n",
       "      <td>2</td>\n",
       "      <td>178</td>\n",
       "      <td>177</td>\n",
       "      <td>0.501</td>\n",
       "      <td>4.44</td>\n",
       "      <td>95</td>\n",
       "      <td>50</td>\n",
       "      <td>9</td>\n",
       "      <td>3189.0</td>\n",
       "      <td>3525</td>\n",
       "      <td>1572</td>\n",
       "      <td>362</td>\n",
       "      <td>1066</td>\n",
       "      <td>1976</td>\n",
       "    </tr>\n",
       "  </tbody>\n",
       "</table>\n",
       "</div>"
      ],
      "text/plain": [
       "                 HoF   WAR  WAR7  JAWS  Yrs  ASG    W    L   W-L%   ERA  ERA+  \\\n",
       "Name                                                                            \n",
       "Johan Santana      0  51.6  45.0  48.3   12    4  139   78  0.641  3.20   136   \n",
       "Jamie Moyer        0  49.9  32.9  41.4   25    1  269  209  0.563  4.25   103   \n",
       "Carlos Zambrano    0  44.0  38.4  41.2   12    3  132   91  0.592  3.66   120   \n",
       "Chris Carpenter    0  34.1  29.4  31.8   15    3  144   94  0.605  3.76   116   \n",
       "Livan Hernandez    0  30.2  27.5  28.9   17    2  178  177  0.501  4.44    95   \n",
       "\n",
       "                 CG  SHO      IP     H    ER   HR    BB    SO  \n",
       "Name                                                           \n",
       "Johan Santana    15   10  2025.2  1726   721  220   567  1988  \n",
       "Jamie Moyer      33   10  4074.0  4231  1926  522  1155  2441  \n",
       "Carlos Zambrano  10    5  1959.0  1709   797  161   898  1637  \n",
       "Chris Carpenter  33   15  2219.1  2205   927  220   627  1697  \n",
       "Livan Hernandez  50    9  3189.0  3525  1572  362  1066  1976  "
      ]
     },
     "execution_count": 13,
     "metadata": {},
     "output_type": "execute_result"
    }
   ],
   "source": [
    "pitch=pitch.drop(['From','To','G','GS','GF','SV','R','IBB','HBP','BK','WP','BF'], axis='columns')\n",
    "pitch.head()"
   ]
  },
  {
   "cell_type": "markdown",
   "metadata": {},
   "source": [
    "The above removes stats that are either irrelevant as far as this project is concerned or are redundant (e.g. games and innings pitched are both measures of a pitcher's longevity, so looking at both isn't necessary)."
   ]
  },
  {
   "cell_type": "code",
   "execution_count": 14,
   "metadata": {},
   "outputs": [
    {
     "name": "stdout",
     "output_type": "stream",
     "text": [
      "(496, 17)\n",
      "(198, 19)\n"
     ]
    }
   ],
   "source": [
    "print(hit.shape)\n",
    "print(pitch.shape)"
   ]
  },
  {
   "cell_type": "code",
   "execution_count": 15,
   "metadata": {},
   "outputs": [
    {
     "data": {
      "text/plain": [
       "HoF     0\n",
       "WAR     0\n",
       "WAR7    0\n",
       "JAWS    0\n",
       "Yrs     0\n",
       "ASG     0\n",
       "AB      0\n",
       "R       0\n",
       "H       0\n",
       "HR      0\n",
       "RBI     0\n",
       "BB      0\n",
       "BA      0\n",
       "OBP     0\n",
       "SLG     0\n",
       "OPS     0\n",
       "OPS+    0\n",
       "dtype: int64"
      ]
     },
     "execution_count": 15,
     "metadata": {},
     "output_type": "execute_result"
    }
   ],
   "source": [
    "hit.isnull().sum()"
   ]
  },
  {
   "cell_type": "code",
   "execution_count": 16,
   "metadata": {},
   "outputs": [
    {
     "data": {
      "text/plain": [
       "HoF     0\n",
       "WAR     0\n",
       "WAR7    0\n",
       "JAWS    0\n",
       "Yrs     0\n",
       "ASG     0\n",
       "W       0\n",
       "L       0\n",
       "W-L%    0\n",
       "ERA     0\n",
       "ERA+    0\n",
       "CG      0\n",
       "SHO     0\n",
       "IP      0\n",
       "H       0\n",
       "ER      0\n",
       "HR      0\n",
       "BB      0\n",
       "SO      0\n",
       "dtype: int64"
      ]
     },
     "execution_count": 16,
     "metadata": {},
     "output_type": "execute_result"
    }
   ],
   "source": [
    "pitch.isnull().sum()"
   ]
  },
  {
   "cell_type": "code",
   "execution_count": 17,
   "metadata": {},
   "outputs": [
    {
     "data": {
      "text/html": [
       "<div>\n",
       "<style scoped>\n",
       "    .dataframe tbody tr th:only-of-type {\n",
       "        vertical-align: middle;\n",
       "    }\n",
       "\n",
       "    .dataframe tbody tr th {\n",
       "        vertical-align: top;\n",
       "    }\n",
       "\n",
       "    .dataframe thead th {\n",
       "        text-align: right;\n",
       "    }\n",
       "</style>\n",
       "<table border=\"1\" class=\"dataframe\">\n",
       "  <thead>\n",
       "    <tr style=\"text-align: right;\">\n",
       "      <th></th>\n",
       "      <th>HoF</th>\n",
       "      <th>WAR</th>\n",
       "      <th>WAR7</th>\n",
       "      <th>JAWS</th>\n",
       "      <th>Yrs</th>\n",
       "      <th>ASG</th>\n",
       "      <th>AB</th>\n",
       "      <th>R</th>\n",
       "      <th>H</th>\n",
       "      <th>HR</th>\n",
       "      <th>RBI</th>\n",
       "      <th>BB</th>\n",
       "      <th>BA</th>\n",
       "      <th>OBP</th>\n",
       "      <th>SLG</th>\n",
       "      <th>OPS</th>\n",
       "      <th>OPS+</th>\n",
       "    </tr>\n",
       "  </thead>\n",
       "  <tbody>\n",
       "    <tr>\n",
       "      <th>count</th>\n",
       "      <td>496.000000</td>\n",
       "      <td>496.000000</td>\n",
       "      <td>496.000000</td>\n",
       "      <td>496.000000</td>\n",
       "      <td>496.000000</td>\n",
       "      <td>496.000000</td>\n",
       "      <td>496.000000</td>\n",
       "      <td>496.000000</td>\n",
       "      <td>496.000000</td>\n",
       "      <td>496.000000</td>\n",
       "      <td>496.000000</td>\n",
       "      <td>496.000000</td>\n",
       "      <td>496.000000</td>\n",
       "      <td>496.000000</td>\n",
       "      <td>496.000000</td>\n",
       "      <td>496.000000</td>\n",
       "      <td>496.000000</td>\n",
       "    </tr>\n",
       "    <tr>\n",
       "      <th>mean</th>\n",
       "      <td>0.116935</td>\n",
       "      <td>34.880847</td>\n",
       "      <td>26.411895</td>\n",
       "      <td>30.649597</td>\n",
       "      <td>15.506048</td>\n",
       "      <td>4.018145</td>\n",
       "      <td>6178.122984</td>\n",
       "      <td>878.385081</td>\n",
       "      <td>1709.540323</td>\n",
       "      <td>193.735887</td>\n",
       "      <td>849.139113</td>\n",
       "      <td>661.798387</td>\n",
       "      <td>0.273123</td>\n",
       "      <td>0.343589</td>\n",
       "      <td>0.425587</td>\n",
       "      <td>0.769111</td>\n",
       "      <td>109.576613</td>\n",
       "    </tr>\n",
       "    <tr>\n",
       "      <th>std</th>\n",
       "      <td>0.321668</td>\n",
       "      <td>23.506133</td>\n",
       "      <td>12.667195</td>\n",
       "      <td>17.916385</td>\n",
       "      <td>3.234280</td>\n",
       "      <td>4.272732</td>\n",
       "      <td>2100.496970</td>\n",
       "      <td>370.786218</td>\n",
       "      <td>640.261546</td>\n",
       "      <td>134.957834</td>\n",
       "      <td>389.119725</td>\n",
       "      <td>343.450647</td>\n",
       "      <td>0.020951</td>\n",
       "      <td>0.028865</td>\n",
       "      <td>0.059691</td>\n",
       "      <td>0.081460</td>\n",
       "      <td>19.831262</td>\n",
       "    </tr>\n",
       "    <tr>\n",
       "      <th>min</th>\n",
       "      <td>0.000000</td>\n",
       "      <td>-2.800000</td>\n",
       "      <td>0.100000</td>\n",
       "      <td>-0.800000</td>\n",
       "      <td>6.000000</td>\n",
       "      <td>0.000000</td>\n",
       "      <td>661.000000</td>\n",
       "      <td>54.000000</td>\n",
       "      <td>153.000000</td>\n",
       "      <td>6.000000</td>\n",
       "      <td>66.000000</td>\n",
       "      <td>44.000000</td>\n",
       "      <td>0.193000</td>\n",
       "      <td>0.252000</td>\n",
       "      <td>0.259000</td>\n",
       "      <td>0.529000</td>\n",
       "      <td>50.000000</td>\n",
       "    </tr>\n",
       "    <tr>\n",
       "      <th>25%</th>\n",
       "      <td>0.000000</td>\n",
       "      <td>18.875000</td>\n",
       "      <td>17.775000</td>\n",
       "      <td>18.450000</td>\n",
       "      <td>13.000000</td>\n",
       "      <td>1.000000</td>\n",
       "      <td>4894.750000</td>\n",
       "      <td>642.500000</td>\n",
       "      <td>1313.000000</td>\n",
       "      <td>85.750000</td>\n",
       "      <td>574.750000</td>\n",
       "      <td>435.250000</td>\n",
       "      <td>0.260000</td>\n",
       "      <td>0.325000</td>\n",
       "      <td>0.388000</td>\n",
       "      <td>0.720750</td>\n",
       "      <td>97.000000</td>\n",
       "    </tr>\n",
       "    <tr>\n",
       "      <th>50%</th>\n",
       "      <td>0.000000</td>\n",
       "      <td>30.400000</td>\n",
       "      <td>25.300000</td>\n",
       "      <td>27.650000</td>\n",
       "      <td>15.000000</td>\n",
       "      <td>3.000000</td>\n",
       "      <td>6129.500000</td>\n",
       "      <td>870.000000</td>\n",
       "      <td>1678.500000</td>\n",
       "      <td>172.500000</td>\n",
       "      <td>825.000000</td>\n",
       "      <td>608.000000</td>\n",
       "      <td>0.273000</td>\n",
       "      <td>0.343000</td>\n",
       "      <td>0.427000</td>\n",
       "      <td>0.775000</td>\n",
       "      <td>111.000000</td>\n",
       "    </tr>\n",
       "    <tr>\n",
       "      <th>75%</th>\n",
       "      <td>0.000000</td>\n",
       "      <td>45.425000</td>\n",
       "      <td>34.125000</td>\n",
       "      <td>40.150000</td>\n",
       "      <td>18.000000</td>\n",
       "      <td>6.000000</td>\n",
       "      <td>7403.500000</td>\n",
       "      <td>1092.500000</td>\n",
       "      <td>2099.500000</td>\n",
       "      <td>275.000000</td>\n",
       "      <td>1097.500000</td>\n",
       "      <td>849.250000</td>\n",
       "      <td>0.287000</td>\n",
       "      <td>0.362000</td>\n",
       "      <td>0.465000</td>\n",
       "      <td>0.821000</td>\n",
       "      <td>122.000000</td>\n",
       "    </tr>\n",
       "    <tr>\n",
       "      <th>max</th>\n",
       "      <td>1.000000</td>\n",
       "      <td>156.400000</td>\n",
       "      <td>73.700000</td>\n",
       "      <td>115.000000</td>\n",
       "      <td>25.000000</td>\n",
       "      <td>25.000000</td>\n",
       "      <td>14053.000000</td>\n",
       "      <td>2295.000000</td>\n",
       "      <td>4256.000000</td>\n",
       "      <td>755.000000</td>\n",
       "      <td>2297.000000</td>\n",
       "      <td>2190.000000</td>\n",
       "      <td>0.344000</td>\n",
       "      <td>0.482000</td>\n",
       "      <td>0.634000</td>\n",
       "      <td>1.116000</td>\n",
       "      <td>190.000000</td>\n",
       "    </tr>\n",
       "  </tbody>\n",
       "</table>\n",
       "</div>"
      ],
      "text/plain": [
       "              HoF         WAR        WAR7        JAWS         Yrs         ASG  \\\n",
       "count  496.000000  496.000000  496.000000  496.000000  496.000000  496.000000   \n",
       "mean     0.116935   34.880847   26.411895   30.649597   15.506048    4.018145   \n",
       "std      0.321668   23.506133   12.667195   17.916385    3.234280    4.272732   \n",
       "min      0.000000   -2.800000    0.100000   -0.800000    6.000000    0.000000   \n",
       "25%      0.000000   18.875000   17.775000   18.450000   13.000000    1.000000   \n",
       "50%      0.000000   30.400000   25.300000   27.650000   15.000000    3.000000   \n",
       "75%      0.000000   45.425000   34.125000   40.150000   18.000000    6.000000   \n",
       "max      1.000000  156.400000   73.700000  115.000000   25.000000   25.000000   \n",
       "\n",
       "                 AB            R            H          HR          RBI  \\\n",
       "count    496.000000   496.000000   496.000000  496.000000   496.000000   \n",
       "mean    6178.122984   878.385081  1709.540323  193.735887   849.139113   \n",
       "std     2100.496970   370.786218   640.261546  134.957834   389.119725   \n",
       "min      661.000000    54.000000   153.000000    6.000000    66.000000   \n",
       "25%     4894.750000   642.500000  1313.000000   85.750000   574.750000   \n",
       "50%     6129.500000   870.000000  1678.500000  172.500000   825.000000   \n",
       "75%     7403.500000  1092.500000  2099.500000  275.000000  1097.500000   \n",
       "max    14053.000000  2295.000000  4256.000000  755.000000  2297.000000   \n",
       "\n",
       "                BB          BA         OBP         SLG         OPS        OPS+  \n",
       "count   496.000000  496.000000  496.000000  496.000000  496.000000  496.000000  \n",
       "mean    661.798387    0.273123    0.343589    0.425587    0.769111  109.576613  \n",
       "std     343.450647    0.020951    0.028865    0.059691    0.081460   19.831262  \n",
       "min      44.000000    0.193000    0.252000    0.259000    0.529000   50.000000  \n",
       "25%     435.250000    0.260000    0.325000    0.388000    0.720750   97.000000  \n",
       "50%     608.000000    0.273000    0.343000    0.427000    0.775000  111.000000  \n",
       "75%     849.250000    0.287000    0.362000    0.465000    0.821000  122.000000  \n",
       "max    2190.000000    0.344000    0.482000    0.634000    1.116000  190.000000  "
      ]
     },
     "execution_count": 17,
     "metadata": {},
     "output_type": "execute_result"
    }
   ],
   "source": [
    "hit.describe()"
   ]
  },
  {
   "cell_type": "markdown",
   "metadata": {},
   "source": [
    "11.7% of the hitters appearing on Hall of Fame ballots since 1966 were elected by the writers."
   ]
  },
  {
   "cell_type": "code",
   "execution_count": 18,
   "metadata": {},
   "outputs": [
    {
     "data": {
      "text/plain": [
       "0    0.883065\n",
       "1    0.116935\n",
       "Name: HoF, dtype: float64"
      ]
     },
     "execution_count": 18,
     "metadata": {},
     "output_type": "execute_result"
    }
   ],
   "source": [
    "hit['HoF'].value_counts(normalize='True')"
   ]
  },
  {
   "cell_type": "markdown",
   "metadata": {},
   "source": [
    "Average WAR (Wins Above Replacement) for Hall of Famers vs. non-Hall of Famers is depicted below-- obviously the difference is quite stark, as WAR is the best aggregate evaluator we have of the value a player adds."
   ]
  },
  {
   "cell_type": "code",
   "execution_count": 19,
   "metadata": {},
   "outputs": [
    {
     "name": "stdout",
     "output_type": "stream",
     "text": [
      "77.7\n",
      "29.210730593607302\n"
     ]
    }
   ],
   "source": [
    "print(hit.loc[hit.HoF==1, 'WAR'].mean())\n",
    "print(hit.loc[hit.HoF==0, 'WAR'].mean())"
   ]
  },
  {
   "cell_type": "markdown",
   "metadata": {},
   "source": [
    "We can see below (unsurprisingly) that every statistic is significantly better for Hall of Famers than non-Hall of Famers.  The same can be seen with the pitcher statistics as well."
   ]
  },
  {
   "cell_type": "code",
   "execution_count": 20,
   "metadata": {},
   "outputs": [
    {
     "data": {
      "text/html": [
       "<div>\n",
       "<style scoped>\n",
       "    .dataframe tbody tr th:only-of-type {\n",
       "        vertical-align: middle;\n",
       "    }\n",
       "\n",
       "    .dataframe tbody tr th {\n",
       "        vertical-align: top;\n",
       "    }\n",
       "\n",
       "    .dataframe thead th {\n",
       "        text-align: right;\n",
       "    }\n",
       "</style>\n",
       "<table border=\"1\" class=\"dataframe\">\n",
       "  <thead>\n",
       "    <tr style=\"text-align: right;\">\n",
       "      <th></th>\n",
       "      <th>WAR</th>\n",
       "      <th>WAR7</th>\n",
       "      <th>JAWS</th>\n",
       "      <th>Yrs</th>\n",
       "      <th>ASG</th>\n",
       "      <th>AB</th>\n",
       "      <th>R</th>\n",
       "      <th>H</th>\n",
       "      <th>HR</th>\n",
       "      <th>RBI</th>\n",
       "      <th>BB</th>\n",
       "      <th>BA</th>\n",
       "      <th>OBP</th>\n",
       "      <th>SLG</th>\n",
       "      <th>OPS</th>\n",
       "      <th>OPS+</th>\n",
       "    </tr>\n",
       "    <tr>\n",
       "      <th>HoF</th>\n",
       "      <th></th>\n",
       "      <th></th>\n",
       "      <th></th>\n",
       "      <th></th>\n",
       "      <th></th>\n",
       "      <th></th>\n",
       "      <th></th>\n",
       "      <th></th>\n",
       "      <th></th>\n",
       "      <th></th>\n",
       "      <th></th>\n",
       "      <th></th>\n",
       "      <th></th>\n",
       "      <th></th>\n",
       "      <th></th>\n",
       "      <th></th>\n",
       "    </tr>\n",
       "  </thead>\n",
       "  <tbody>\n",
       "    <tr>\n",
       "      <th>0</th>\n",
       "      <td>29.210731</td>\n",
       "      <td>23.688584</td>\n",
       "      <td>26.452740</td>\n",
       "      <td>15.000000</td>\n",
       "      <td>2.986301</td>\n",
       "      <td>5794.285388</td>\n",
       "      <td>801.570776</td>\n",
       "      <td>1586.134703</td>\n",
       "      <td>170.175799</td>\n",
       "      <td>774.431507</td>\n",
       "      <td>600.029680</td>\n",
       "      <td>0.270753</td>\n",
       "      <td>0.340059</td>\n",
       "      <td>0.417856</td>\n",
       "      <td>0.757858</td>\n",
       "      <td>106.691781</td>\n",
       "    </tr>\n",
       "    <tr>\n",
       "      <th>1</th>\n",
       "      <td>77.700000</td>\n",
       "      <td>46.977586</td>\n",
       "      <td>62.343103</td>\n",
       "      <td>19.327586</td>\n",
       "      <td>11.810345</td>\n",
       "      <td>9076.758621</td>\n",
       "      <td>1458.465517</td>\n",
       "      <td>2641.465517</td>\n",
       "      <td>371.655172</td>\n",
       "      <td>1413.310345</td>\n",
       "      <td>1128.258621</td>\n",
       "      <td>0.291017</td>\n",
       "      <td>0.370241</td>\n",
       "      <td>0.483966</td>\n",
       "      <td>0.854086</td>\n",
       "      <td>131.362069</td>\n",
       "    </tr>\n",
       "  </tbody>\n",
       "</table>\n",
       "</div>"
      ],
      "text/plain": [
       "           WAR       WAR7       JAWS        Yrs        ASG           AB  \\\n",
       "HoF                                                                       \n",
       "0    29.210731  23.688584  26.452740  15.000000   2.986301  5794.285388   \n",
       "1    77.700000  46.977586  62.343103  19.327586  11.810345  9076.758621   \n",
       "\n",
       "               R            H          HR          RBI           BB        BA  \\\n",
       "HoF                                                                             \n",
       "0     801.570776  1586.134703  170.175799   774.431507   600.029680  0.270753   \n",
       "1    1458.465517  2641.465517  371.655172  1413.310345  1128.258621  0.291017   \n",
       "\n",
       "          OBP       SLG       OPS        OPS+  \n",
       "HoF                                            \n",
       "0    0.340059  0.417856  0.757858  106.691781  \n",
       "1    0.370241  0.483966  0.854086  131.362069  "
      ]
     },
     "execution_count": 20,
     "metadata": {},
     "output_type": "execute_result"
    }
   ],
   "source": [
    "hit.groupby('HoF').mean()"
   ]
  },
  {
   "cell_type": "code",
   "execution_count": 23,
   "metadata": {},
   "outputs": [
    {
     "data": {
      "text/plain": [
       "<matplotlib.axes._subplots.AxesSubplot at 0x112494898>"
      ]
     },
     "execution_count": 23,
     "metadata": {},
     "output_type": "execute_result"
    },
    {
     "data": {
      "image/png": "[encoded data removed]",
      "text/plain": [
       "<Figure size 576x432 with 1 Axes>"
      ]
     },
     "metadata": {},
     "output_type": "display_data"
    }
   ],
   "source": [
    "hit.groupby('HoF')['H','R','RBI','HR'].mean().T.plot(kind='bar')"
   ]
  },
  {
   "cell_type": "code",
   "execution_count": 24,
   "metadata": {},
   "outputs": [
    {
     "data": {
      "text/plain": [
       "<matplotlib.axes._subplots.AxesSubplot at 0x1170f8128>"
      ]
     },
     "execution_count": 24,
     "metadata": {},
     "output_type": "execute_result"
    },
    {
     "data": {
      "image/png": "[encoded data removed]",
      "text/plain": [
       "<Figure size 576x432 with 1 Axes>"
      ]
     },
     "metadata": {},
     "output_type": "display_data"
    }
   ],
   "source": [
    "hit.groupby('HoF')['OPS+','WAR','WAR7'].mean().T.plot(kind='bar')"
   ]
  },
  {
   "cell_type": "code",
   "execution_count": 25,
   "metadata": {},
   "outputs": [
    {
     "data": {
      "text/html": [
       "<div>\n",
       "<style scoped>\n",
       "    .dataframe tbody tr th:only-of-type {\n",
       "        vertical-align: middle;\n",
       "    }\n",
       "\n",
       "    .dataframe tbody tr th {\n",
       "        vertical-align: top;\n",
       "    }\n",
       "\n",
       "    .dataframe thead th {\n",
       "        text-align: right;\n",
       "    }\n",
       "</style>\n",
       "<table border=\"1\" class=\"dataframe\">\n",
       "  <thead>\n",
       "    <tr style=\"text-align: right;\">\n",
       "      <th></th>\n",
       "      <th>HoF</th>\n",
       "      <th>WAR</th>\n",
       "      <th>WAR7</th>\n",
       "      <th>JAWS</th>\n",
       "      <th>Yrs</th>\n",
       "      <th>ASG</th>\n",
       "      <th>W</th>\n",
       "      <th>L</th>\n",
       "      <th>W-L%</th>\n",
       "      <th>ERA</th>\n",
       "      <th>ERA+</th>\n",
       "      <th>CG</th>\n",
       "      <th>SHO</th>\n",
       "      <th>IP</th>\n",
       "      <th>H</th>\n",
       "      <th>ER</th>\n",
       "      <th>HR</th>\n",
       "      <th>BB</th>\n",
       "      <th>SO</th>\n",
       "    </tr>\n",
       "  </thead>\n",
       "  <tbody>\n",
       "    <tr>\n",
       "      <th>count</th>\n",
       "      <td>198.000000</td>\n",
       "      <td>198.000000</td>\n",
       "      <td>198.000000</td>\n",
       "      <td>198.000000</td>\n",
       "      <td>198.000000</td>\n",
       "      <td>198.000000</td>\n",
       "      <td>198.000000</td>\n",
       "      <td>198.000000</td>\n",
       "      <td>198.000000</td>\n",
       "      <td>198.000000</td>\n",
       "      <td>198.000000</td>\n",
       "      <td>198.000000</td>\n",
       "      <td>198.000000</td>\n",
       "      <td>198.000000</td>\n",
       "      <td>198.000000</td>\n",
       "      <td>198.000000</td>\n",
       "      <td>198.000000</td>\n",
       "      <td>198.000000</td>\n",
       "      <td>198.000000</td>\n",
       "    </tr>\n",
       "    <tr>\n",
       "      <th>mean</th>\n",
       "      <td>0.126263</td>\n",
       "      <td>38.325758</td>\n",
       "      <td>30.230808</td>\n",
       "      <td>34.276263</td>\n",
       "      <td>15.570707</td>\n",
       "      <td>2.939394</td>\n",
       "      <td>169.611111</td>\n",
       "      <td>137.949495</td>\n",
       "      <td>0.549990</td>\n",
       "      <td>3.574192</td>\n",
       "      <td>108.792929</td>\n",
       "      <td>101.707071</td>\n",
       "      <td>23.474747</td>\n",
       "      <td>2714.443434</td>\n",
       "      <td>2584.378788</td>\n",
       "      <td>1068.035354</td>\n",
       "      <td>232.974747</td>\n",
       "      <td>877.626263</td>\n",
       "      <td>1683.732323</td>\n",
       "    </tr>\n",
       "    <tr>\n",
       "      <th>std</th>\n",
       "      <td>0.332987</td>\n",
       "      <td>21.132257</td>\n",
       "      <td>11.133514</td>\n",
       "      <td>15.919273</td>\n",
       "      <td>3.791863</td>\n",
       "      <td>2.793459</td>\n",
       "      <td>59.825425</td>\n",
       "      <td>46.491389</td>\n",
       "      <td>0.047266</td>\n",
       "      <td>0.380084</td>\n",
       "      <td>10.102146</td>\n",
       "      <td>71.222359</td>\n",
       "      <td>13.443126</td>\n",
       "      <td>913.692383</td>\n",
       "      <td>849.694459</td>\n",
       "      <td>339.343355</td>\n",
       "      <td>89.701391</td>\n",
       "      <td>330.605830</td>\n",
       "      <td>766.986657</td>\n",
       "    </tr>\n",
       "    <tr>\n",
       "      <th>min</th>\n",
       "      <td>0.000000</td>\n",
       "      <td>2.000000</td>\n",
       "      <td>6.200000</td>\n",
       "      <td>4.100000</td>\n",
       "      <td>10.000000</td>\n",
       "      <td>0.000000</td>\n",
       "      <td>68.000000</td>\n",
       "      <td>62.000000</td>\n",
       "      <td>0.422000</td>\n",
       "      <td>2.280000</td>\n",
       "      <td>85.000000</td>\n",
       "      <td>4.000000</td>\n",
       "      <td>1.000000</td>\n",
       "      <td>1177.100000</td>\n",
       "      <td>1147.000000</td>\n",
       "      <td>461.000000</td>\n",
       "      <td>65.000000</td>\n",
       "      <td>292.000000</td>\n",
       "      <td>572.000000</td>\n",
       "    </tr>\n",
       "    <tr>\n",
       "      <th>25%</th>\n",
       "      <td>0.000000</td>\n",
       "      <td>22.000000</td>\n",
       "      <td>21.025000</td>\n",
       "      <td>21.625000</td>\n",
       "      <td>12.250000</td>\n",
       "      <td>1.000000</td>\n",
       "      <td>126.250000</td>\n",
       "      <td>105.250000</td>\n",
       "      <td>0.521750</td>\n",
       "      <td>3.300000</td>\n",
       "      <td>102.000000</td>\n",
       "      <td>54.250000</td>\n",
       "      <td>13.000000</td>\n",
       "      <td>2065.875000</td>\n",
       "      <td>1988.500000</td>\n",
       "      <td>814.500000</td>\n",
       "      <td>172.250000</td>\n",
       "      <td>627.250000</td>\n",
       "      <td>1137.250000</td>\n",
       "    </tr>\n",
       "    <tr>\n",
       "      <th>50%</th>\n",
       "      <td>0.000000</td>\n",
       "      <td>32.800000</td>\n",
       "      <td>28.850000</td>\n",
       "      <td>31.150000</td>\n",
       "      <td>15.000000</td>\n",
       "      <td>2.000000</td>\n",
       "      <td>151.500000</td>\n",
       "      <td>129.000000</td>\n",
       "      <td>0.546500</td>\n",
       "      <td>3.565000</td>\n",
       "      <td>107.000000</td>\n",
       "      <td>79.000000</td>\n",
       "      <td>20.500000</td>\n",
       "      <td>2492.100000</td>\n",
       "      <td>2437.500000</td>\n",
       "      <td>1010.000000</td>\n",
       "      <td>220.000000</td>\n",
       "      <td>816.000000</td>\n",
       "      <td>1556.500000</td>\n",
       "    </tr>\n",
       "    <tr>\n",
       "      <th>75%</th>\n",
       "      <td>0.000000</td>\n",
       "      <td>48.950000</td>\n",
       "      <td>37.300000</td>\n",
       "      <td>42.975000</td>\n",
       "      <td>18.000000</td>\n",
       "      <td>4.000000</td>\n",
       "      <td>206.250000</td>\n",
       "      <td>160.750000</td>\n",
       "      <td>0.577000</td>\n",
       "      <td>3.810000</td>\n",
       "      <td>114.750000</td>\n",
       "      <td>131.750000</td>\n",
       "      <td>31.000000</td>\n",
       "      <td>3195.075000</td>\n",
       "      <td>3063.250000</td>\n",
       "      <td>1245.250000</td>\n",
       "      <td>279.000000</td>\n",
       "      <td>1065.250000</td>\n",
       "      <td>1992.500000</td>\n",
       "    </tr>\n",
       "    <tr>\n",
       "      <th>max</th>\n",
       "      <td>1.000000</td>\n",
       "      <td>110.100000</td>\n",
       "      <td>61.500000</td>\n",
       "      <td>84.800000</td>\n",
       "      <td>27.000000</td>\n",
       "      <td>17.000000</td>\n",
       "      <td>363.000000</td>\n",
       "      <td>292.000000</td>\n",
       "      <td>0.690000</td>\n",
       "      <td>4.830000</td>\n",
       "      <td>154.000000</td>\n",
       "      <td>394.000000</td>\n",
       "      <td>63.000000</td>\n",
       "      <td>5404.000000</td>\n",
       "      <td>5044.000000</td>\n",
       "      <td>2012.000000</td>\n",
       "      <td>522.000000</td>\n",
       "      <td>2795.000000</td>\n",
       "      <td>5714.000000</td>\n",
       "    </tr>\n",
       "  </tbody>\n",
       "</table>\n",
       "</div>"
      ],
      "text/plain": [
       "              HoF         WAR        WAR7        JAWS         Yrs         ASG  \\\n",
       "count  198.000000  198.000000  198.000000  198.000000  198.000000  198.000000   \n",
       "mean     0.126263   38.325758   30.230808   34.276263   15.570707    2.939394   \n",
       "std      0.332987   21.132257   11.133514   15.919273    3.791863    2.793459   \n",
       "min      0.000000    2.000000    6.200000    4.100000   10.000000    0.000000   \n",
       "25%      0.000000   22.000000   21.025000   21.625000   12.250000    1.000000   \n",
       "50%      0.000000   32.800000   28.850000   31.150000   15.000000    2.000000   \n",
       "75%      0.000000   48.950000   37.300000   42.975000   18.000000    4.000000   \n",
       "max      1.000000  110.100000   61.500000   84.800000   27.000000   17.000000   \n",
       "\n",
       "                W           L        W-L%         ERA        ERA+          CG  \\\n",
       "count  198.000000  198.000000  198.000000  198.000000  198.000000  198.000000   \n",
       "mean   169.611111  137.949495    0.549990    3.574192  108.792929  101.707071   \n",
       "std     59.825425   46.491389    0.047266    0.380084   10.102146   71.222359   \n",
       "min     68.000000   62.000000    0.422000    2.280000   85.000000    4.000000   \n",
       "25%    126.250000  105.250000    0.521750    3.300000  102.000000   54.250000   \n",
       "50%    151.500000  129.000000    0.546500    3.565000  107.000000   79.000000   \n",
       "75%    206.250000  160.750000    0.577000    3.810000  114.750000  131.750000   \n",
       "max    363.000000  292.000000    0.690000    4.830000  154.000000  394.000000   \n",
       "\n",
       "              SHO           IP            H           ER          HR  \\\n",
       "count  198.000000   198.000000   198.000000   198.000000  198.000000   \n",
       "mean    23.474747  2714.443434  2584.378788  1068.035354  232.974747   \n",
       "std     13.443126   913.692383   849.694459   339.343355   89.701391   \n",
       "min      1.000000  1177.100000  1147.000000   461.000000   65.000000   \n",
       "25%     13.000000  2065.875000  1988.500000   814.500000  172.250000   \n",
       "50%     20.500000  2492.100000  2437.500000  1010.000000  220.000000   \n",
       "75%     31.000000  3195.075000  3063.250000  1245.250000  279.000000   \n",
       "max     63.000000  5404.000000  5044.000000  2012.000000  522.000000   \n",
       "\n",
       "                BB           SO  \n",
       "count   198.000000   198.000000  \n",
       "mean    877.626263  1683.732323  \n",
       "std     330.605830   766.986657  \n",
       "min     292.000000   572.000000  \n",
       "25%     627.250000  1137.250000  \n",
       "50%     816.000000  1556.500000  \n",
       "75%    1065.250000  1992.500000  \n",
       "max    2795.000000  5714.000000  "
      ]
     },
     "execution_count": 25,
     "metadata": {},
     "output_type": "execute_result"
    }
   ],
   "source": [
    "pitch.describe()"
   ]
  },
  {
   "cell_type": "markdown",
   "metadata": {},
   "source": [
    "12.6% of the starting pitchers appearing on Hall of Fame ballots since 1966 were elected by the writers."
   ]
  },
  {
   "cell_type": "code",
   "execution_count": 26,
   "metadata": {},
   "outputs": [
    {
     "data": {
      "text/plain": [
       "0    0.873737\n",
       "1    0.126263\n",
       "Name: HoF, dtype: float64"
      ]
     },
     "execution_count": 26,
     "metadata": {},
     "output_type": "execute_result"
    }
   ],
   "source": [
    "pitch['HoF'].value_counts(normalize='True')"
   ]
  },
  {
   "cell_type": "markdown",
   "metadata": {},
   "source": [
    "As above, we have the average WAR for Hall of Famers vs. non-Hall of Famers."
   ]
  },
  {
   "cell_type": "code",
   "execution_count": 27,
   "metadata": {},
   "outputs": [
    {
     "name": "stdout",
     "output_type": "stream",
     "text": [
      "78.26400000000002\n",
      "32.55433526011561\n"
     ]
    }
   ],
   "source": [
    "print(pitch.loc[pitch.HoF==1, 'WAR'].mean())\n",
    "print(pitch.loc[pitch.HoF==0, 'WAR'].mean())"
   ]
  },
  {
   "cell_type": "code",
   "execution_count": 28,
   "metadata": {},
   "outputs": [
    {
     "data": {
      "text/html": [
       "<div>\n",
       "<style scoped>\n",
       "    .dataframe tbody tr th:only-of-type {\n",
       "        vertical-align: middle;\n",
       "    }\n",
       "\n",
       "    .dataframe tbody tr th {\n",
       "        vertical-align: top;\n",
       "    }\n",
       "\n",
       "    .dataframe thead th {\n",
       "        text-align: right;\n",
       "    }\n",
       "</style>\n",
       "<table border=\"1\" class=\"dataframe\">\n",
       "  <thead>\n",
       "    <tr style=\"text-align: right;\">\n",
       "      <th></th>\n",
       "      <th>WAR</th>\n",
       "      <th>WAR7</th>\n",
       "      <th>JAWS</th>\n",
       "      <th>Yrs</th>\n",
       "      <th>ASG</th>\n",
       "      <th>W</th>\n",
       "      <th>L</th>\n",
       "      <th>W-L%</th>\n",
       "      <th>ERA</th>\n",
       "      <th>ERA+</th>\n",
       "      <th>CG</th>\n",
       "      <th>SHO</th>\n",
       "      <th>IP</th>\n",
       "      <th>H</th>\n",
       "      <th>ER</th>\n",
       "      <th>HR</th>\n",
       "      <th>BB</th>\n",
       "      <th>SO</th>\n",
       "    </tr>\n",
       "    <tr>\n",
       "      <th>HoF</th>\n",
       "      <th></th>\n",
       "      <th></th>\n",
       "      <th></th>\n",
       "      <th></th>\n",
       "      <th></th>\n",
       "      <th></th>\n",
       "      <th></th>\n",
       "      <th></th>\n",
       "      <th></th>\n",
       "      <th></th>\n",
       "      <th></th>\n",
       "      <th></th>\n",
       "      <th></th>\n",
       "      <th></th>\n",
       "      <th></th>\n",
       "      <th></th>\n",
       "      <th></th>\n",
       "      <th></th>\n",
       "    </tr>\n",
       "  </thead>\n",
       "  <tbody>\n",
       "    <tr>\n",
       "      <th>0</th>\n",
       "      <td>32.554335</td>\n",
       "      <td>27.636416</td>\n",
       "      <td>30.093064</td>\n",
       "      <td>14.953757</td>\n",
       "      <td>2.219653</td>\n",
       "      <td>154.17341</td>\n",
       "      <td>129.312139</td>\n",
       "      <td>0.544249</td>\n",
       "      <td>3.632081</td>\n",
       "      <td>107.046243</td>\n",
       "      <td>86.601156</td>\n",
       "      <td>20.265896</td>\n",
       "      <td>2493.104624</td>\n",
       "      <td>2411.208092</td>\n",
       "      <td>1004.531792</td>\n",
       "      <td>216.317919</td>\n",
       "      <td>815.982659</td>\n",
       "      <td>1493.843931</td>\n",
       "    </tr>\n",
       "    <tr>\n",
       "      <th>1</th>\n",
       "      <td>78.264000</td>\n",
       "      <td>48.184000</td>\n",
       "      <td>63.224000</td>\n",
       "      <td>19.840000</td>\n",
       "      <td>7.920000</td>\n",
       "      <td>276.44000</td>\n",
       "      <td>197.720000</td>\n",
       "      <td>0.589720</td>\n",
       "      <td>3.173600</td>\n",
       "      <td>120.880000</td>\n",
       "      <td>206.240000</td>\n",
       "      <td>45.680000</td>\n",
       "      <td>4246.108000</td>\n",
       "      <td>3782.720000</td>\n",
       "      <td>1507.480000</td>\n",
       "      <td>348.240000</td>\n",
       "      <td>1304.200000</td>\n",
       "      <td>2997.760000</td>\n",
       "    </tr>\n",
       "  </tbody>\n",
       "</table>\n",
       "</div>"
      ],
      "text/plain": [
       "           WAR       WAR7       JAWS        Yrs       ASG          W  \\\n",
       "HoF                                                                    \n",
       "0    32.554335  27.636416  30.093064  14.953757  2.219653  154.17341   \n",
       "1    78.264000  48.184000  63.224000  19.840000  7.920000  276.44000   \n",
       "\n",
       "              L      W-L%       ERA        ERA+          CG        SHO  \\\n",
       "HoF                                                                      \n",
       "0    129.312139  0.544249  3.632081  107.046243   86.601156  20.265896   \n",
       "1    197.720000  0.589720  3.173600  120.880000  206.240000  45.680000   \n",
       "\n",
       "              IP            H           ER          HR           BB  \\\n",
       "HoF                                                                   \n",
       "0    2493.104624  2411.208092  1004.531792  216.317919   815.982659   \n",
       "1    4246.108000  3782.720000  1507.480000  348.240000  1304.200000   \n",
       "\n",
       "              SO  \n",
       "HoF               \n",
       "0    1493.843931  \n",
       "1    2997.760000  "
      ]
     },
     "execution_count": 28,
     "metadata": {},
     "output_type": "execute_result"
    }
   ],
   "source": [
    "pitch.groupby('HoF').mean()"
   ]
  },
  {
   "cell_type": "code",
   "execution_count": 29,
   "metadata": {},
   "outputs": [
    {
     "data": {
      "text/plain": [
       "<matplotlib.axes._subplots.AxesSubplot at 0x1173611d0>"
      ]
     },
     "execution_count": 29,
     "metadata": {},
     "output_type": "execute_result"
    },
    {
     "data": {
      "image/png": "[encoded data removed]",
      "text/plain": [
       "<Figure size 576x432 with 1 Axes>"
      ]
     },
     "metadata": {},
     "output_type": "display_data"
    }
   ],
   "source": [
    "pitch.groupby('HoF')['W','L','CG','SHO'].mean().T.plot(kind='bar') #notice I included losses here, even though that's a negative stat, to illustrate that Hall of Fame pitchers played longer"
   ]
  },
  {
   "cell_type": "code",
   "execution_count": 30,
   "metadata": {},
   "outputs": [
    {
     "data": {
      "text/plain": [
       "<matplotlib.axes._subplots.AxesSubplot at 0x117485550>"
      ]
     },
     "execution_count": 30,
     "metadata": {},
     "output_type": "execute_result"
    },
    {
     "data": {
      "image/png": "[encoded data removed]",
      "text/plain": [
       "<Figure size 576x432 with 1 Axes>"
      ]
     },
     "metadata": {},
     "output_type": "display_data"
    }
   ],
   "source": [
    "pitch.groupby('HoF')['ERA+','WAR','WAR7'].mean().T.plot(kind='bar')"
   ]
  },
  {
   "cell_type": "markdown",
   "metadata": {},
   "source": [
    "Below, we have correlations of different statistics with each other, and more specifically with Hall of Fame outcomes."
   ]
  },
  {
   "cell_type": "code",
   "execution_count": 31,
   "metadata": {},
   "outputs": [
    {
     "data": {
      "text/plain": [
       "<matplotlib.axes._subplots.AxesSubplot at 0x1175bfc50>"
      ]
     },
     "execution_count": 31,
     "metadata": {},
     "output_type": "execute_result"
    },
    {
     "data": {
      "image/png": "[encoded data removed]",
      "text/plain": [
       "<Figure size 576x432 with 2 Axes>"
      ]
     },
     "metadata": {},
     "output_type": "display_data"
    }
   ],
   "source": [
    "sns.heatmap(hit.corr(), vmin=-1, vmax=1, cmap='RdBu')"
   ]
  },
  {
   "cell_type": "code",
   "execution_count": 32,
   "metadata": {},
   "outputs": [
    {
     "data": {
      "text/plain": [
       "HoF     1.000000\n",
       "ASG     0.664308\n",
       "WAR     0.663548\n",
       "JAWS    0.644370\n",
       "WAR7    0.591396\n",
       "R       0.569875\n",
       "H       0.530199\n",
       "RBI     0.528132\n",
       "AB      0.502674\n",
       "BB      0.494727\n",
       "HR      0.480220\n",
       "Yrs     0.430403\n",
       "OPS+    0.400158\n",
       "OPS     0.379983\n",
       "SLG     0.356254\n",
       "OBP     0.336340\n",
       "BA      0.311113\n",
       "Name: HoF, dtype: float64"
      ]
     },
     "execution_count": 32,
     "metadata": {},
     "output_type": "execute_result"
    }
   ],
   "source": [
    "hit.corr().loc['HoF'].sort_values(ascending=False)"
   ]
  },
  {
   "cell_type": "code",
   "execution_count": 33,
   "metadata": {},
   "outputs": [
    {
     "data": {
      "text/plain": [
       "<matplotlib.axes._subplots.AxesSubplot at 0x117768cf8>"
      ]
     },
     "execution_count": 33,
     "metadata": {},
     "output_type": "execute_result"
    },
    {
     "data": {
      "image/png": "[encoded data removed]",
      "text/plain": [
       "<Figure size 576x432 with 2 Axes>"
      ]
     },
     "metadata": {},
     "output_type": "display_data"
    }
   ],
   "source": [
    "sns.heatmap(pitch.corr(), vmin=-1, vmax=1, cmap='RdBu')"
   ]
  },
  {
   "cell_type": "code",
   "execution_count": 34,
   "metadata": {},
   "outputs": [
    {
     "data": {
      "text/plain": [
       "HoF     1.000000\n",
       "WAR     0.720260\n",
       "JAWS    0.693007\n",
       "W       0.680533\n",
       "ASG     0.679495\n",
       "SO      0.652925\n",
       "IP      0.638866\n",
       "SHO     0.629509\n",
       "WAR7    0.614548\n",
       "CG      0.559349\n",
       "H       0.537482\n",
       "ER      0.493527\n",
       "BB      0.491734\n",
       "L       0.489960\n",
       "HR      0.489718\n",
       "ERA+    0.455988\n",
       "Yrs     0.429091\n",
       "W-L%    0.320342\n",
       "ERA    -0.401669\n",
       "Name: HoF, dtype: float64"
      ]
     },
     "execution_count": 34,
     "metadata": {},
     "output_type": "execute_result"
    }
   ],
   "source": [
    "pitch.corr().loc['HoF'].sort_values(ascending=False)"
   ]
  },
  {
   "cell_type": "markdown",
   "metadata": {},
   "source": [
    "Of particular note here, besides how highly correlated every statistic is with being in the Hall of Fame (even the negative ones for pitchers, since Hall of Famers are generally around long enough to accumulate more statistics in general) is that WAR and JAWS appear to be most highly correlated with being voted into the Hall of Fame for both hitters and pitchers, but also that All-Star appearances seem to be extremely important, interesting since unlike all the other statistics, that one is also the result of a vote (and essentially a popularity contest)."
   ]
  },
  {
   "cell_type": "markdown",
   "metadata": {},
   "source": [
    "# Model Selection"
   ]
  },
  {
   "cell_type": "markdown",
   "metadata": {},
   "source": [
    "The first step of my analysis was to select the model types I would use to predict who the writers would vote into the Hall of Fame.  This is clearly a classification problem, so I chose from four classifier model types:  Logisitic Regression, K-Nearest Neighbors, Decision Trees, and Random Forest.  Since in some way I would be using every statistic (both the traditional and advanced ones) as features, I fed all of them into each of the four classifiers to see which had the highest accuracy."
   ]
  },
  {
   "cell_type": "code",
   "execution_count": 35,
   "metadata": {},
   "outputs": [],
   "source": [
    "import pandas as pd\n",
    "import numpy as np\n",
    "from sklearn.metrics import accuracy_score, confusion_matrix\n",
    "from sklearn.linear_model import LogisticRegression\n",
    "from sklearn.neighbors import KNeighborsClassifier\n",
    "from sklearn.tree import DecisionTreeClassifier\n",
    "from sklearn.ensemble import RandomForestClassifier\n",
    "from sklearn.model_selection import train_test_split, cross_val_score"
   ]
  },
  {
   "cell_type": "code",
   "execution_count": 36,
   "metadata": {},
   "outputs": [],
   "source": [
    "feature_cols=feature_cols=hit.columns.drop(['HoF'])\n",
    "X=hit[feature_cols]\n",
    "y=hit['HoF']\n",
    "\n",
    "X_train,X_test,y_train,y_test = train_test_split(X,y, random_state=1)"
   ]
  },
  {
   "cell_type": "code",
   "execution_count": 37,
   "metadata": {},
   "outputs": [],
   "source": [
    "classifiers = []\n",
    "\n",
    "model1= LogisticRegression()\n",
    "classifiers.append(model1)\n",
    "\n",
    "model2= KNeighborsClassifier()\n",
    "classifiers.append(model2)\n",
    "\n",
    "model3= DecisionTreeClassifier()\n",
    "classifiers.append(model3)\n",
    "\n",
    "model4= RandomForestClassifier()\n",
    "classifiers.append(model4)"
   ]
  },
  {
   "cell_type": "code",
   "execution_count": 38,
   "metadata": {},
   "outputs": [
    {
     "name": "stdout",
     "output_type": "stream",
     "text": [
      "LogisticRegression(C=1.0, class_weight=None, dual=False, fit_intercept=True,\n",
      "          intercept_scaling=1, max_iter=100, multi_class='ovr', n_jobs=1,\n",
      "          penalty='l2', random_state=None, solver='liblinear', tol=0.0001,\n",
      "          verbose=0, warm_start=False): Accuracy is 0.9516129032258065\n",
      "LogisticRegression(C=1.0, class_weight=None, dual=False, fit_intercept=True,\n",
      "          intercept_scaling=1, max_iter=100, multi_class='ovr', n_jobs=1,\n",
      "          penalty='l2', random_state=None, solver='liblinear', tol=0.0001,\n",
      "          verbose=0, warm_start=False):  Confusion Matrix is [[107   2]\n",
      " [  4  11]]\n",
      "KNeighborsClassifier(algorithm='auto', leaf_size=30, metric='minkowski',\n",
      "           metric_params=None, n_jobs=1, n_neighbors=5, p=2,\n",
      "           weights='uniform'): Accuracy is 0.9274193548387096\n",
      "KNeighborsClassifier(algorithm='auto', leaf_size=30, metric='minkowski',\n",
      "           metric_params=None, n_jobs=1, n_neighbors=5, p=2,\n",
      "           weights='uniform'):  Confusion Matrix is [[107   2]\n",
      " [  7   8]]\n",
      "DecisionTreeClassifier(class_weight=None, criterion='gini', max_depth=None,\n",
      "            max_features=None, max_leaf_nodes=None,\n",
      "            min_impurity_decrease=0.0, min_impurity_split=None,\n",
      "            min_samples_leaf=1, min_samples_split=2,\n",
      "            min_weight_fraction_leaf=0.0, presort=False, random_state=None,\n",
      "            splitter='best'): Accuracy is 0.9354838709677419\n",
      "DecisionTreeClassifier(class_weight=None, criterion='gini', max_depth=None,\n",
      "            max_features=None, max_leaf_nodes=None,\n",
      "            min_impurity_decrease=0.0, min_impurity_split=None,\n",
      "            min_samples_leaf=1, min_samples_split=2,\n",
      "            min_weight_fraction_leaf=0.0, presort=False, random_state=None,\n",
      "            splitter='best'):  Confusion Matrix is [[108   1]\n",
      " [  7   8]]\n",
      "RandomForestClassifier(bootstrap=True, class_weight=None, criterion='gini',\n",
      "            max_depth=None, max_features='auto', max_leaf_nodes=None,\n",
      "            min_impurity_decrease=0.0, min_impurity_split=None,\n",
      "            min_samples_leaf=1, min_samples_split=2,\n",
      "            min_weight_fraction_leaf=0.0, n_estimators=10, n_jobs=1,\n",
      "            oob_score=False, random_state=None, verbose=0,\n",
      "            warm_start=False): Accuracy is 0.9435483870967742\n",
      "RandomForestClassifier(bootstrap=True, class_weight=None, criterion='gini',\n",
      "            max_depth=None, max_features='auto', max_leaf_nodes=None,\n",
      "            min_impurity_decrease=0.0, min_impurity_split=None,\n",
      "            min_samples_leaf=1, min_samples_split=2,\n",
      "            min_weight_fraction_leaf=0.0, n_estimators=10, n_jobs=1,\n",
      "            oob_score=False, random_state=None, verbose=0,\n",
      "            warm_start=False):  Confusion Matrix is [[108   1]\n",
      " [  6   9]]\n"
     ]
    }
   ],
   "source": [
    "accuracy=[]\n",
    "\n",
    "for clf in classifiers:\n",
    "    clf.fit(X_train,y_train)\n",
    "    y_pred=clf.predict(X_test)\n",
    "    acc=accuracy_score(y_test,y_pred)\n",
    "    print(\"%s: Accuracy is %s\" %(clf,acc))\n",
    "    cm= confusion_matrix(y_test,y_pred)\n",
    "    print(\"%s:  Confusion Matrix is %s\" %(clf,cm))\n",
    "    accuracy.append(acc)"
   ]
  },
  {
   "cell_type": "code",
   "execution_count": 39,
   "metadata": {},
   "outputs": [
    {
     "data": {
      "text/plain": [
       "<matplotlib.axes._subplots.AxesSubplot at 0x1a1ce07c18>"
      ]
     },
     "execution_count": 39,
     "metadata": {},
     "output_type": "execute_result"
    },
    {
     "data": {
      "image/png": "[encoded data removed]",
      "text/plain": [
       "<Figure size 576x432 with 1 Axes>"
      ]
     },
     "metadata": {},
     "output_type": "display_data"
    }
   ],
   "source": [
    "data = pd.DataFrame(accuracy, columns=['Accuracy'], index=['LogReg','KNN','DecisionTree','RandomForest'])\n",
    "data.sort_values(by='Accuracy').plot(kind='barh', legend=False)"
   ]
  },
  {
   "cell_type": "markdown",
   "metadata": {},
   "source": [
    "For the __hitter__ dataset, the results indicated that an untuned Logistic Regression model performed with the highest accuracy (95.2%) given all the features, and that a Random Forest finished a close second at 94.4%.  While I had initially thought to just try one model, I decided I would test both of these, since a Random Forest model provides more opportunities for tuning than a simple Logistic Regression model, and I might be able to make that one better (this would turn out to be correct).  I then performed the same process on the pitchers."
   ]
  },
  {
   "cell_type": "code",
   "execution_count": 40,
   "metadata": {},
   "outputs": [],
   "source": [
    "feature_cols=feature_cols=pitch.columns.drop(['HoF'])\n",
    "X=pitch[feature_cols]\n",
    "y=pitch['HoF']\n",
    "\n",
    "X_train,X_test,y_train,y_test = train_test_split(X,y, random_state=1)"
   ]
  },
  {
   "cell_type": "code",
   "execution_count": 41,
   "metadata": {},
   "outputs": [],
   "source": [
    "classifiers = []\n",
    "\n",
    "model1= LogisticRegression()\n",
    "classifiers.append(model1)\n",
    "\n",
    "model2= KNeighborsClassifier()\n",
    "classifiers.append(model2)\n",
    "\n",
    "model3= DecisionTreeClassifier()\n",
    "classifiers.append(model3)\n",
    "\n",
    "model4= RandomForestClassifier()\n",
    "classifiers.append(model4)"
   ]
  },
  {
   "cell_type": "code",
   "execution_count": 42,
   "metadata": {},
   "outputs": [
    {
     "name": "stdout",
     "output_type": "stream",
     "text": [
      "LogisticRegression(C=1.0, class_weight=None, dual=False, fit_intercept=True,\n",
      "          intercept_scaling=1, max_iter=100, multi_class='ovr', n_jobs=1,\n",
      "          penalty='l2', random_state=None, solver='liblinear', tol=0.0001,\n",
      "          verbose=0, warm_start=False): Accuracy is 1.0\n",
      "LogisticRegression(C=1.0, class_weight=None, dual=False, fit_intercept=True,\n",
      "          intercept_scaling=1, max_iter=100, multi_class='ovr', n_jobs=1,\n",
      "          penalty='l2', random_state=None, solver='liblinear', tol=0.0001,\n",
      "          verbose=0, warm_start=False):  Confusion Matrix is [[44  0]\n",
      " [ 0  6]]\n",
      "KNeighborsClassifier(algorithm='auto', leaf_size=30, metric='minkowski',\n",
      "           metric_params=None, n_jobs=1, n_neighbors=5, p=2,\n",
      "           weights='uniform'): Accuracy is 0.96\n",
      "KNeighborsClassifier(algorithm='auto', leaf_size=30, metric='minkowski',\n",
      "           metric_params=None, n_jobs=1, n_neighbors=5, p=2,\n",
      "           weights='uniform'):  Confusion Matrix is [[44  0]\n",
      " [ 2  4]]\n",
      "DecisionTreeClassifier(class_weight=None, criterion='gini', max_depth=None,\n",
      "            max_features=None, max_leaf_nodes=None,\n",
      "            min_impurity_decrease=0.0, min_impurity_split=None,\n",
      "            min_samples_leaf=1, min_samples_split=2,\n",
      "            min_weight_fraction_leaf=0.0, presort=False, random_state=None,\n",
      "            splitter='best'): Accuracy is 0.94\n",
      "DecisionTreeClassifier(class_weight=None, criterion='gini', max_depth=None,\n",
      "            max_features=None, max_leaf_nodes=None,\n",
      "            min_impurity_decrease=0.0, min_impurity_split=None,\n",
      "            min_samples_leaf=1, min_samples_split=2,\n",
      "            min_weight_fraction_leaf=0.0, presort=False, random_state=None,\n",
      "            splitter='best'):  Confusion Matrix is [[42  2]\n",
      " [ 1  5]]\n",
      "RandomForestClassifier(bootstrap=True, class_weight=None, criterion='gini',\n",
      "            max_depth=None, max_features='auto', max_leaf_nodes=None,\n",
      "            min_impurity_decrease=0.0, min_impurity_split=None,\n",
      "            min_samples_leaf=1, min_samples_split=2,\n",
      "            min_weight_fraction_leaf=0.0, n_estimators=10, n_jobs=1,\n",
      "            oob_score=False, random_state=None, verbose=0,\n",
      "            warm_start=False): Accuracy is 0.98\n",
      "RandomForestClassifier(bootstrap=True, class_weight=None, criterion='gini',\n",
      "            max_depth=None, max_features='auto', max_leaf_nodes=None,\n",
      "            min_impurity_decrease=0.0, min_impurity_split=None,\n",
      "            min_samples_leaf=1, min_samples_split=2,\n",
      "            min_weight_fraction_leaf=0.0, n_estimators=10, n_jobs=1,\n",
      "            oob_score=False, random_state=None, verbose=0,\n",
      "            warm_start=False):  Confusion Matrix is [[44  0]\n",
      " [ 1  5]]\n"
     ]
    }
   ],
   "source": [
    "accuracy=[]\n",
    "\n",
    "for clf in classifiers:\n",
    "    clf.fit(X_train,y_train)\n",
    "    y_pred=clf.predict(X_test)\n",
    "    acc=accuracy_score(y_test,y_pred)\n",
    "    print(\"%s: Accuracy is %s\" %(clf,acc))\n",
    "    cm= confusion_matrix(y_test,y_pred)\n",
    "    print(\"%s:  Confusion Matrix is %s\" %(clf,cm))\n",
    "    accuracy.append(acc)"
   ]
  },
  {
   "cell_type": "code",
   "execution_count": 43,
   "metadata": {},
   "outputs": [
    {
     "data": {
      "text/plain": [
       "<matplotlib.axes._subplots.AxesSubplot at 0x1a1ceabb70>"
      ]
     },
     "execution_count": 43,
     "metadata": {},
     "output_type": "execute_result"
    },
    {
     "data": {
      "image/png": "[encoded data removed]",
      "text/plain": [
       "<Figure size 576x432 with 1 Axes>"
      ]
     },
     "metadata": {},
     "output_type": "display_data"
    }
   ],
   "source": [
    "data = pd.DataFrame(accuracy, columns=['Accuracy'], index=['LogReg','KNN','DecisionTree','RandomForest'])\n",
    "data.sort_values(by='Accuracy').plot(kind='barh', legend=False)"
   ]
  },
  {
   "cell_type": "markdown",
   "metadata": {},
   "source": [
    "For the __pitcher__ dataset, an untuned Logistic Regression model performed perfectly, while the Random Forest model had just one false negative.  For the same reasons above, I decided I would look at those two model types.  \n",
    "\n",
    "Once again, it is important to note here that these stellar accuracy results are due to the fact that I'm using all of the traditional and advanced statistics at my disposal, which is not what I plan to do for the rest of this project, as building the best possible model out of all the statistics is not my stated goal."
   ]
  },
  {
   "cell_type": "markdown",
   "metadata": {},
   "source": [
    "__Next Step__"
   ]
  },
  {
   "cell_type": "markdown",
   "metadata": {},
   "source": [
    "Having decided upon Random Forest and Logistic Regression models, the next thing to do was to build and tune those models around exclusively traditional statistics, and see how they performed."
   ]
  },
  {
   "cell_type": "markdown",
   "metadata": {},
   "source": [
    "# Building A Traditional Hitting Model"
   ]
  },
  {
   "cell_type": "markdown",
   "metadata": {},
   "source": [
    "__Option 1: Random Forest__"
   ]
  },
  {
   "cell_type": "code",
   "execution_count": 45,
   "metadata": {},
   "outputs": [],
   "source": [
    "feature_cols=hit.columns.drop(['HoF','WAR','JAWS','WAR7','OPS+'])\n",
    "X=hit[feature_cols]\n",
    "y=hit['HoF']\n",
    "\n",
    "X_train,X_test,y_train,y_test = train_test_split(X,y, random_state=1)"
   ]
  },
  {
   "cell_type": "code",
   "execution_count": 46,
   "metadata": {},
   "outputs": [],
   "source": [
    "rftradhit=RandomForestClassifier(random_state=1,max_features=4,oob_score=True)"
   ]
  },
  {
   "cell_type": "markdown",
   "metadata": {},
   "source": [
    "__Note:__  My Random Forest model takes every hitting feature outside of the advanced statistics (WAR, WAR7, JAWS, OPS+), but max_features is set to 4, so that no tree is allowed to try more features than will be available in our advanced models."
   ]
  },
  {
   "cell_type": "code",
   "execution_count": 47,
   "metadata": {},
   "outputs": [
    {
     "name": "stderr",
     "output_type": "stream",
     "text": [
      "/Users/leemac113/anaconda3/lib/python3.6/site-packages/sklearn/ensemble/forest.py:453: UserWarning: Some inputs do not have OOB scores. This probably means too few trees were used to compute any reliable oob estimates.\n",
      "  warn(\"Some inputs do not have OOB scores. \"\n",
      "/Users/leemac113/anaconda3/lib/python3.6/site-packages/sklearn/ensemble/forest.py:458: RuntimeWarning: invalid value encountered in true_divide\n",
      "  predictions[k].sum(axis=1)[:, np.newaxis])\n"
     ]
    },
    {
     "data": {
      "text/plain": [
       "RandomForestClassifier(bootstrap=True, class_weight=None, criterion='gini',\n",
       "            max_depth=None, max_features=4, max_leaf_nodes=None,\n",
       "            min_impurity_decrease=0.0, min_impurity_split=None,\n",
       "            min_samples_leaf=1, min_samples_split=2,\n",
       "            min_weight_fraction_leaf=0.0, n_estimators=10, n_jobs=1,\n",
       "            oob_score=True, random_state=1, verbose=0, warm_start=False)"
      ]
     },
     "execution_count": 47,
     "metadata": {},
     "output_type": "execute_result"
    }
   ],
   "source": [
    "rftradhit.fit(X_train,y_train)"
   ]
  },
  {
   "cell_type": "markdown",
   "metadata": {},
   "source": [
    "__OOB score note:__  I continuously received the above error message as I tried to find OOB scores in this project because there need to be more estimators in order for them to be reliable.  However, the best cross-validation scores arose from lower \"n_estimators\" parameters, which created something of a conflict.  My decision was to use GridSearch cross-validation as my measure of reliability rather than OOB score."
   ]
  },
  {
   "cell_type": "code",
   "execution_count": 48,
   "metadata": {},
   "outputs": [
    {
     "data": {
      "text/plain": [
       "RandomForestClassifier(bootstrap=True, class_weight=None, criterion='gini',\n",
       "            max_depth=None, max_features=4, max_leaf_nodes=None,\n",
       "            min_impurity_decrease=0.0, min_impurity_split=None,\n",
       "            min_samples_leaf=1, min_samples_split=2,\n",
       "            min_weight_fraction_leaf=0.0, n_estimators=10, n_jobs=1,\n",
       "            oob_score=False, random_state=1, verbose=0, warm_start=False)"
      ]
     },
     "execution_count": 48,
     "metadata": {},
     "output_type": "execute_result"
    }
   ],
   "source": [
    "rftradhit=RandomForestClassifier(random_state=1,max_features=4)\n",
    "rftradhit.fit(X_train,y_train)"
   ]
  },
  {
   "cell_type": "code",
   "execution_count": 49,
   "metadata": {},
   "outputs": [
    {
     "data": {
      "text/plain": [
       "0.9435483870967742"
      ]
     },
     "execution_count": 49,
     "metadata": {},
     "output_type": "execute_result"
    }
   ],
   "source": [
    "y_pred=rftradhit.predict(X_test)\n",
    "accuracy_score(y_test,y_pred)"
   ]
  },
  {
   "cell_type": "code",
   "execution_count": 50,
   "metadata": {},
   "outputs": [
    {
     "data": {
      "text/plain": [
       "0    0.879032\n",
       "1    0.120968\n",
       "Name: HoF, dtype: float64"
      ]
     },
     "execution_count": 50,
     "metadata": {},
     "output_type": "execute_result"
    }
   ],
   "source": [
    "y_test.value_counts(normalize=True) "
   ]
  },
  {
   "cell_type": "markdown",
   "metadata": {},
   "source": [
    "Our relatively untuned Random Forest hitting model is performing __6.4% better__ than the null baseline.  Next, we tune it using __cross-validated grid search__."
   ]
  },
  {
   "cell_type": "code",
   "execution_count": 51,
   "metadata": {},
   "outputs": [
    {
     "name": "stdout",
     "output_type": "stream",
     "text": [
      "5 0.9433824509440948\n",
      "6 0.9380783102358988\n",
      "7 0.948836977138864\n",
      "8 0.9381287580943571\n",
      "9 0.9406213704994193\n",
      "10 0.9381816026552869\n",
      "11 0.9486965240641713\n",
      "12 0.940630600358423\n"
     ]
    }
   ],
   "source": [
    "results=[]\n",
    "for num in range(5,13):\n",
    "    result= np.mean(cross_val_score(rftradhit,X_train,y_train, cv=num, scoring='accuracy'))\n",
    "    print(num,result)\n",
    "    results.append([num,result])"
   ]
  },
  {
   "cell_type": "markdown",
   "metadata": {},
   "source": [
    "Our GridSearch will use __cv=7__, and will look to find the best parameters for __max_depth__ and __n_estimators__."
   ]
  },
  {
   "cell_type": "code",
   "execution_count": 192,
   "metadata": {},
   "outputs": [],
   "source": [
    "from sklearn.model_selection import GridSearchCV"
   ]
  },
  {
   "cell_type": "code",
   "execution_count": 194,
   "metadata": {},
   "outputs": [],
   "source": [
    "rftradhit=RandomForestClassifier(random_state=1,max_features=4)\n",
    "\n",
    "parameters = {\n",
    "    'max_depth': range(1,13),\n",
    "    'n_estimators': range(1,101)\n",
    "}\n",
    "\n",
    "clf=GridSearchCV(rftradhit, parameters, cv=7, scoring='accuracy',verbose=1)"
   ]
  },
  {
   "cell_type": "code",
   "execution_count": 195,
   "metadata": {},
   "outputs": [
    {
     "name": "stdout",
     "output_type": "stream",
     "text": [
      "Fitting 7 folds for each of 1200 candidates, totalling 8400 fits\n"
     ]
    },
    {
     "name": "stderr",
     "output_type": "stream",
     "text": [
      "[Parallel(n_jobs=1)]: Done 8400 out of 8400 | elapsed: 10.8min finished\n"
     ]
    },
    {
     "data": {
      "text/plain": [
       "GridSearchCV(cv=7, error_score='raise',\n",
       "       estimator=RandomForestClassifier(bootstrap=True, class_weight=None, criterion='gini',\n",
       "            max_depth=None, max_features=4, max_leaf_nodes=None,\n",
       "            min_impurity_decrease=0.0, min_impurity_split=None,\n",
       "            min_samples_leaf=1, min_samples_split=2,\n",
       "            min_weight_fraction_leaf=0.0, n_estimators=10, n_jobs=1,\n",
       "            oob_score=False, random_state=1, verbose=0, warm_start=False),\n",
       "       fit_params=None, iid=True, n_jobs=1,\n",
       "       param_grid={'max_depth': range(1, 13), 'n_estimators': range(1, 101)},\n",
       "       pre_dispatch='2*n_jobs', refit=True, return_train_score='warn',\n",
       "       scoring='accuracy', verbose=1)"
      ]
     },
     "execution_count": 195,
     "metadata": {},
     "output_type": "execute_result"
    }
   ],
   "source": [
    "clf.fit(X_train,y_train)"
   ]
  },
  {
   "cell_type": "code",
   "execution_count": 196,
   "metadata": {},
   "outputs": [
    {
     "name": "stdout",
     "output_type": "stream",
     "text": [
      "{'max_depth': 6, 'n_estimators': 9}\n",
      "0.956989247311828\n"
     ]
    }
   ],
   "source": [
    "print(clf.best_params_)\n",
    "print(clf.best_score_)"
   ]
  },
  {
   "cell_type": "code",
   "execution_count": 52,
   "metadata": {},
   "outputs": [
    {
     "data": {
      "text/plain": [
       "RandomForestClassifier(bootstrap=True, class_weight=None, criterion='gini',\n",
       "            max_depth=6, max_features=4, max_leaf_nodes=None,\n",
       "            min_impurity_decrease=0.0, min_impurity_split=None,\n",
       "            min_samples_leaf=1, min_samples_split=2,\n",
       "            min_weight_fraction_leaf=0.0, n_estimators=9, n_jobs=1,\n",
       "            oob_score=False, random_state=1, verbose=0, warm_start=False)"
      ]
     },
     "execution_count": 52,
     "metadata": {},
     "output_type": "execute_result"
    }
   ],
   "source": [
    "rftradhit=RandomForestClassifier(n_estimators=9, max_depth=6,max_features=4, random_state=1)\n",
    "rftradhit.fit(X_train,y_train)"
   ]
  },
  {
   "cell_type": "code",
   "execution_count": 54,
   "metadata": {},
   "outputs": [
    {
     "data": {
      "text/html": [
       "<div>\n",
       "<style scoped>\n",
       "    .dataframe tbody tr th:only-of-type {\n",
       "        vertical-align: middle;\n",
       "    }\n",
       "\n",
       "    .dataframe tbody tr th {\n",
       "        vertical-align: top;\n",
       "    }\n",
       "\n",
       "    .dataframe thead th {\n",
       "        text-align: right;\n",
       "    }\n",
       "</style>\n",
       "<table border=\"1\" class=\"dataframe\">\n",
       "  <thead>\n",
       "    <tr style=\"text-align: right;\">\n",
       "      <th></th>\n",
       "      <th>feature</th>\n",
       "      <th>importance</th>\n",
       "    </tr>\n",
       "  </thead>\n",
       "  <tbody>\n",
       "    <tr>\n",
       "      <th>4</th>\n",
       "      <td>H</td>\n",
       "      <td>0.216749</td>\n",
       "    </tr>\n",
       "    <tr>\n",
       "      <th>3</th>\n",
       "      <td>R</td>\n",
       "      <td>0.161170</td>\n",
       "    </tr>\n",
       "    <tr>\n",
       "      <th>1</th>\n",
       "      <td>ASG</td>\n",
       "      <td>0.154922</td>\n",
       "    </tr>\n",
       "    <tr>\n",
       "      <th>6</th>\n",
       "      <td>RBI</td>\n",
       "      <td>0.109143</td>\n",
       "    </tr>\n",
       "    <tr>\n",
       "      <th>2</th>\n",
       "      <td>AB</td>\n",
       "      <td>0.078584</td>\n",
       "    </tr>\n",
       "    <tr>\n",
       "      <th>7</th>\n",
       "      <td>BB</td>\n",
       "      <td>0.061365</td>\n",
       "    </tr>\n",
       "    <tr>\n",
       "      <th>5</th>\n",
       "      <td>HR</td>\n",
       "      <td>0.053569</td>\n",
       "    </tr>\n",
       "    <tr>\n",
       "      <th>10</th>\n",
       "      <td>SLG</td>\n",
       "      <td>0.050172</td>\n",
       "    </tr>\n",
       "    <tr>\n",
       "      <th>11</th>\n",
       "      <td>OPS</td>\n",
       "      <td>0.039289</td>\n",
       "    </tr>\n",
       "    <tr>\n",
       "      <th>9</th>\n",
       "      <td>OBP</td>\n",
       "      <td>0.029746</td>\n",
       "    </tr>\n",
       "    <tr>\n",
       "      <th>8</th>\n",
       "      <td>BA</td>\n",
       "      <td>0.024961</td>\n",
       "    </tr>\n",
       "    <tr>\n",
       "      <th>0</th>\n",
       "      <td>Yrs</td>\n",
       "      <td>0.020329</td>\n",
       "    </tr>\n",
       "  </tbody>\n",
       "</table>\n",
       "</div>"
      ],
      "text/plain": [
       "   feature  importance\n",
       "4        H    0.216749\n",
       "3        R    0.161170\n",
       "1      ASG    0.154922\n",
       "6      RBI    0.109143\n",
       "2       AB    0.078584\n",
       "7       BB    0.061365\n",
       "5       HR    0.053569\n",
       "10     SLG    0.050172\n",
       "11     OPS    0.039289\n",
       "9      OBP    0.029746\n",
       "8       BA    0.024961\n",
       "0      Yrs    0.020329"
      ]
     },
     "execution_count": 54,
     "metadata": {},
     "output_type": "execute_result"
    }
   ],
   "source": [
    "feat_imp= pd.DataFrame({'feature': feature_cols, 'importance':rftradhit.feature_importances_}).sort_values(by='importance', ascending=False)\n",
    "feat_imp"
   ]
  },
  {
   "cell_type": "code",
   "execution_count": 56,
   "metadata": {},
   "outputs": [
    {
     "data": {
      "text/html": [
       "<div>\n",
       "<style scoped>\n",
       "    .dataframe tbody tr th:only-of-type {\n",
       "        vertical-align: middle;\n",
       "    }\n",
       "\n",
       "    .dataframe tbody tr th {\n",
       "        vertical-align: top;\n",
       "    }\n",
       "\n",
       "    .dataframe thead th {\n",
       "        text-align: right;\n",
       "    }\n",
       "</style>\n",
       "<table border=\"1\" class=\"dataframe\">\n",
       "  <thead>\n",
       "    <tr style=\"text-align: right;\">\n",
       "      <th></th>\n",
       "      <th>feature</th>\n",
       "      <th>importance</th>\n",
       "    </tr>\n",
       "  </thead>\n",
       "  <tbody>\n",
       "    <tr>\n",
       "      <th>4</th>\n",
       "      <td>H</td>\n",
       "      <td>0.216749</td>\n",
       "    </tr>\n",
       "    <tr>\n",
       "      <th>3</th>\n",
       "      <td>R</td>\n",
       "      <td>0.161170</td>\n",
       "    </tr>\n",
       "    <tr>\n",
       "      <th>1</th>\n",
       "      <td>ASG</td>\n",
       "      <td>0.154922</td>\n",
       "    </tr>\n",
       "    <tr>\n",
       "      <th>6</th>\n",
       "      <td>RBI</td>\n",
       "      <td>0.109143</td>\n",
       "    </tr>\n",
       "  </tbody>\n",
       "</table>\n",
       "</div>"
      ],
      "text/plain": [
       "  feature  importance\n",
       "4       H    0.216749\n",
       "3       R    0.161170\n",
       "1     ASG    0.154922\n",
       "6     RBI    0.109143"
      ]
     },
     "execution_count": 56,
     "metadata": {},
     "output_type": "execute_result"
    }
   ],
   "source": [
    "feat_imp.head(4)"
   ]
  },
  {
   "cell_type": "markdown",
   "metadata": {},
   "source": [
    "Our best parameters are __9 estimators__ and a __max_depth of 6__, our best cross-validated score is __95.7%__, and our 4 most important traditional features are __hits, runs, All-Star Games, and RBIs__."
   ]
  },
  {
   "cell_type": "code",
   "execution_count": 57,
   "metadata": {},
   "outputs": [
    {
     "data": {
      "text/plain": [
       "0.9596774193548387"
      ]
     },
     "execution_count": 57,
     "metadata": {},
     "output_type": "execute_result"
    }
   ],
   "source": [
    "y_pred=rftradhit.predict(X_test)\n",
    "rftradhit.score(X_test,y_test)"
   ]
  },
  {
   "cell_type": "code",
   "execution_count": 58,
   "metadata": {},
   "outputs": [
    {
     "data": {
      "text/plain": [
       "0    0.879032\n",
       "1    0.120968\n",
       "Name: HoF, dtype: float64"
      ]
     },
     "execution_count": 58,
     "metadata": {},
     "output_type": "execute_result"
    }
   ],
   "source": [
    "y_test.value_counts(normalize=True)"
   ]
  },
  {
   "cell_type": "code",
   "execution_count": 59,
   "metadata": {},
   "outputs": [
    {
     "data": {
      "text/plain": [
       "Text(0.5,8.74,'Predicted label')"
      ]
     },
     "execution_count": 59,
     "metadata": {},
     "output_type": "execute_result"
    },
    {
     "data": {
      "image/png": "[encoded data removed]",
      "text/plain": [
       "<Figure size 576x432 with 2 Axes>"
      ]
     },
     "metadata": {},
     "output_type": "display_data"
    }
   ],
   "source": [
    "cm = confusion_matrix(y_test, y_pred)\n",
    "\n",
    "sns.heatmap(cm, annot=True, fmt=\"d\", linewidths=.5)\n",
    "\n",
    "plt.ylabel('True label')\n",
    "plt.xlabel('Predicted label')"
   ]
  },
  {
   "cell_type": "markdown",
   "metadata": {},
   "source": [
    "After tuning our Random Forest model, our accuracy score on the test data has climbed to about __96% (8% better than our null baseline)__, and our model is predicting __11/15 hitters who were voted into the Hall of Fame, and only one false positive.__"
   ]
  },
  {
   "cell_type": "code",
   "execution_count": 60,
   "metadata": {},
   "outputs": [
    {
     "name": "stderr",
     "output_type": "stream",
     "text": [
      "/Users/leemac113/anaconda3/lib/python3.6/site-packages/ipykernel_launcher.py:1: SettingWithCopyWarning: \n",
      "A value is trying to be set on a copy of a slice from a DataFrame.\n",
      "Try using .loc[row_indexer,col_indexer] = value instead\n",
      "\n",
      "See the caveats in the documentation: http://pandas.pydata.org/pandas-docs/stable/indexing.html#indexing-view-versus-copy\n",
      "  \"\"\"Entry point for launching an IPython kernel.\n"
     ]
    }
   ],
   "source": [
    "X_test['HoF_prob']=rftradhit.predict_proba(X_test)[:,1]"
   ]
  },
  {
   "cell_type": "code",
   "execution_count": 61,
   "metadata": {},
   "outputs": [],
   "source": [
    "HoF_test=pd.concat([hit['HoF'],X_test['HoF_prob']],axis=1, join='inner')"
   ]
  },
  {
   "cell_type": "code",
   "execution_count": 62,
   "metadata": {},
   "outputs": [
    {
     "data": {
      "text/html": [
       "<div>\n",
       "<style scoped>\n",
       "    .dataframe tbody tr th:only-of-type {\n",
       "        vertical-align: middle;\n",
       "    }\n",
       "\n",
       "    .dataframe tbody tr th {\n",
       "        vertical-align: top;\n",
       "    }\n",
       "\n",
       "    .dataframe thead th {\n",
       "        text-align: right;\n",
       "    }\n",
       "</style>\n",
       "<table border=\"1\" class=\"dataframe\">\n",
       "  <thead>\n",
       "    <tr style=\"text-align: right;\">\n",
       "      <th></th>\n",
       "      <th>HoF</th>\n",
       "      <th>HoF_prob</th>\n",
       "    </tr>\n",
       "    <tr>\n",
       "      <th>Name</th>\n",
       "      <th></th>\n",
       "      <th></th>\n",
       "    </tr>\n",
       "  </thead>\n",
       "  <tbody>\n",
       "    <tr>\n",
       "      <th>Mike Schmidt</th>\n",
       "      <td>1</td>\n",
       "      <td>1.000000</td>\n",
       "    </tr>\n",
       "    <tr>\n",
       "      <th>Rod Carew</th>\n",
       "      <td>1</td>\n",
       "      <td>1.000000</td>\n",
       "    </tr>\n",
       "    <tr>\n",
       "      <th>Eddie Mathews</th>\n",
       "      <td>1</td>\n",
       "      <td>0.909722</td>\n",
       "    </tr>\n",
       "    <tr>\n",
       "      <th>Cal Ripken</th>\n",
       "      <td>1</td>\n",
       "      <td>0.888889</td>\n",
       "    </tr>\n",
       "    <tr>\n",
       "      <th>Al Kaline</th>\n",
       "      <td>1</td>\n",
       "      <td>0.888889</td>\n",
       "    </tr>\n",
       "    <tr>\n",
       "      <th>Vladimir Guerrero</th>\n",
       "      <td>1</td>\n",
       "      <td>0.827160</td>\n",
       "    </tr>\n",
       "    <tr>\n",
       "      <th>Mickey Mantle</th>\n",
       "      <td>1</td>\n",
       "      <td>0.777778</td>\n",
       "    </tr>\n",
       "    <tr>\n",
       "      <th>Willie Stargell</th>\n",
       "      <td>1</td>\n",
       "      <td>0.666667</td>\n",
       "    </tr>\n",
       "    <tr>\n",
       "      <th>Rafael Palmeiro</th>\n",
       "      <td>0</td>\n",
       "      <td>0.666667</td>\n",
       "    </tr>\n",
       "    <tr>\n",
       "      <th>Mike Piazza</th>\n",
       "      <td>1</td>\n",
       "      <td>0.576389</td>\n",
       "    </tr>\n",
       "    <tr>\n",
       "      <th>Tim Raines</th>\n",
       "      <td>1</td>\n",
       "      <td>0.555556</td>\n",
       "    </tr>\n",
       "    <tr>\n",
       "      <th>Brooks Robinson</th>\n",
       "      <td>1</td>\n",
       "      <td>0.555556</td>\n",
       "    </tr>\n",
       "    <tr>\n",
       "      <th>Juan Gonzalez</th>\n",
       "      <td>0</td>\n",
       "      <td>0.250000</td>\n",
       "    </tr>\n",
       "    <tr>\n",
       "      <th>Ryne Sandberg</th>\n",
       "      <td>1</td>\n",
       "      <td>0.243833</td>\n",
       "    </tr>\n",
       "    <tr>\n",
       "      <th>Orlando Cepeda</th>\n",
       "      <td>0</td>\n",
       "      <td>0.243833</td>\n",
       "    </tr>\n",
       "    <tr>\n",
       "      <th>Rick Dempsey</th>\n",
       "      <td>0</td>\n",
       "      <td>0.222999</td>\n",
       "    </tr>\n",
       "    <tr>\n",
       "      <th>Robin Yount</th>\n",
       "      <td>1</td>\n",
       "      <td>0.222222</td>\n",
       "    </tr>\n",
       "    <tr>\n",
       "      <th>Enos Slaughter</th>\n",
       "      <td>0</td>\n",
       "      <td>0.146759</td>\n",
       "    </tr>\n",
       "    <tr>\n",
       "      <th>Dave Concepcion</th>\n",
       "      <td>0</td>\n",
       "      <td>0.131944</td>\n",
       "    </tr>\n",
       "    <tr>\n",
       "      <th>Joe Gordon</th>\n",
       "      <td>0</td>\n",
       "      <td>0.111888</td>\n",
       "    </tr>\n",
       "    <tr>\n",
       "      <th>Kirby Puckett</th>\n",
       "      <td>1</td>\n",
       "      <td>0.111888</td>\n",
       "    </tr>\n",
       "    <tr>\n",
       "      <th>Bobby Richardson</th>\n",
       "      <td>0</td>\n",
       "      <td>0.111888</td>\n",
       "    </tr>\n",
       "    <tr>\n",
       "      <th>Jose Canseco</th>\n",
       "      <td>0</td>\n",
       "      <td>0.111111</td>\n",
       "    </tr>\n",
       "    <tr>\n",
       "      <th>Gary Gaetti</th>\n",
       "      <td>0</td>\n",
       "      <td>0.111111</td>\n",
       "    </tr>\n",
       "    <tr>\n",
       "      <th>Johnny Damon</th>\n",
       "      <td>0</td>\n",
       "      <td>0.111111</td>\n",
       "    </tr>\n",
       "    <tr>\n",
       "      <th>Richie Ashburn</th>\n",
       "      <td>0</td>\n",
       "      <td>0.111111</td>\n",
       "    </tr>\n",
       "    <tr>\n",
       "      <th>Minnie Minoso</th>\n",
       "      <td>0</td>\n",
       "      <td>0.035648</td>\n",
       "    </tr>\n",
       "    <tr>\n",
       "      <th>Bob Watson</th>\n",
       "      <td>0</td>\n",
       "      <td>0.028555</td>\n",
       "    </tr>\n",
       "    <tr>\n",
       "      <th>John Olerud</th>\n",
       "      <td>0</td>\n",
       "      <td>0.027778</td>\n",
       "    </tr>\n",
       "    <tr>\n",
       "      <th>Joe Torre</th>\n",
       "      <td>0</td>\n",
       "      <td>0.021610</td>\n",
       "    </tr>\n",
       "    <tr>\n",
       "      <th>...</th>\n",
       "      <td>...</td>\n",
       "      <td>...</td>\n",
       "    </tr>\n",
       "    <tr>\n",
       "      <th>Randy Hundley</th>\n",
       "      <td>0</td>\n",
       "      <td>0.000777</td>\n",
       "    </tr>\n",
       "    <tr>\n",
       "      <th>Manny Sanguillen</th>\n",
       "      <td>0</td>\n",
       "      <td>0.000777</td>\n",
       "    </tr>\n",
       "    <tr>\n",
       "      <th>Joe Ferguson</th>\n",
       "      <td>0</td>\n",
       "      <td>0.000777</td>\n",
       "    </tr>\n",
       "    <tr>\n",
       "      <th>Terry Steinbach</th>\n",
       "      <td>0</td>\n",
       "      <td>0.000777</td>\n",
       "    </tr>\n",
       "    <tr>\n",
       "      <th>Casey Blake</th>\n",
       "      <td>0</td>\n",
       "      <td>0.000777</td>\n",
       "    </tr>\n",
       "    <tr>\n",
       "      <th>Phil Nevin</th>\n",
       "      <td>0</td>\n",
       "      <td>0.000777</td>\n",
       "    </tr>\n",
       "    <tr>\n",
       "      <th>Travis Fryman</th>\n",
       "      <td>0</td>\n",
       "      <td>0.000777</td>\n",
       "    </tr>\n",
       "    <tr>\n",
       "      <th>Ron Cey</th>\n",
       "      <td>0</td>\n",
       "      <td>0.000777</td>\n",
       "    </tr>\n",
       "    <tr>\n",
       "      <th>Bobby Higginson</th>\n",
       "      <td>0</td>\n",
       "      <td>0.000777</td>\n",
       "    </tr>\n",
       "    <tr>\n",
       "      <th>B.J. Surhoff</th>\n",
       "      <td>0</td>\n",
       "      <td>0.000777</td>\n",
       "    </tr>\n",
       "    <tr>\n",
       "      <th>Rondell White</th>\n",
       "      <td>0</td>\n",
       "      <td>0.000777</td>\n",
       "    </tr>\n",
       "    <tr>\n",
       "      <th>Moises Alou</th>\n",
       "      <td>0</td>\n",
       "      <td>0.000777</td>\n",
       "    </tr>\n",
       "    <tr>\n",
       "      <th>Pat Burrell</th>\n",
       "      <td>0</td>\n",
       "      <td>0.000777</td>\n",
       "    </tr>\n",
       "    <tr>\n",
       "      <th>Carlos Lee</th>\n",
       "      <td>0</td>\n",
       "      <td>0.000777</td>\n",
       "    </tr>\n",
       "    <tr>\n",
       "      <th>Frankie Crosetti</th>\n",
       "      <td>0</td>\n",
       "      <td>0.000777</td>\n",
       "    </tr>\n",
       "    <tr>\n",
       "      <th>Paul Lo Duca</th>\n",
       "      <td>0</td>\n",
       "      <td>0.000777</td>\n",
       "    </tr>\n",
       "    <tr>\n",
       "      <th>Al Dark</th>\n",
       "      <td>0</td>\n",
       "      <td>0.000777</td>\n",
       "    </tr>\n",
       "    <tr>\n",
       "      <th>Maury Wills</th>\n",
       "      <td>0</td>\n",
       "      <td>0.000777</td>\n",
       "    </tr>\n",
       "    <tr>\n",
       "      <th>Leo Cardenas</th>\n",
       "      <td>0</td>\n",
       "      <td>0.000777</td>\n",
       "    </tr>\n",
       "    <tr>\n",
       "      <th>Don Kessinger</th>\n",
       "      <td>0</td>\n",
       "      <td>0.000777</td>\n",
       "    </tr>\n",
       "    <tr>\n",
       "      <th>Rick Burleson</th>\n",
       "      <td>0</td>\n",
       "      <td>0.000777</td>\n",
       "    </tr>\n",
       "    <tr>\n",
       "      <th>Hubie Brooks</th>\n",
       "      <td>0</td>\n",
       "      <td>0.000777</td>\n",
       "    </tr>\n",
       "    <tr>\n",
       "      <th>Alan Trammell</th>\n",
       "      <td>0</td>\n",
       "      <td>0.000777</td>\n",
       "    </tr>\n",
       "    <tr>\n",
       "      <th>Jay Bell</th>\n",
       "      <td>0</td>\n",
       "      <td>0.000777</td>\n",
       "    </tr>\n",
       "    <tr>\n",
       "      <th>Orlando Cabrera</th>\n",
       "      <td>0</td>\n",
       "      <td>0.000777</td>\n",
       "    </tr>\n",
       "    <tr>\n",
       "      <th>Grady Hatton</th>\n",
       "      <td>0</td>\n",
       "      <td>0.000777</td>\n",
       "    </tr>\n",
       "    <tr>\n",
       "      <th>Bill Melton</th>\n",
       "      <td>0</td>\n",
       "      <td>0.000777</td>\n",
       "    </tr>\n",
       "    <tr>\n",
       "      <th>Bob Bailey</th>\n",
       "      <td>0</td>\n",
       "      <td>0.000777</td>\n",
       "    </tr>\n",
       "    <tr>\n",
       "      <th>Toby Harrah</th>\n",
       "      <td>0</td>\n",
       "      <td>0.000777</td>\n",
       "    </tr>\n",
       "    <tr>\n",
       "      <th>Jimmy Stewart</th>\n",
       "      <td>0</td>\n",
       "      <td>0.000777</td>\n",
       "    </tr>\n",
       "  </tbody>\n",
       "</table>\n",
       "<p>124 rows × 2 columns</p>\n",
       "</div>"
      ],
      "text/plain": [
       "                   HoF  HoF_prob\n",
       "Name                            \n",
       "Mike Schmidt         1  1.000000\n",
       "Rod Carew            1  1.000000\n",
       "Eddie Mathews        1  0.909722\n",
       "Cal Ripken           1  0.888889\n",
       "Al Kaline            1  0.888889\n",
       "Vladimir Guerrero    1  0.827160\n",
       "Mickey Mantle        1  0.777778\n",
       "Willie Stargell      1  0.666667\n",
       "Rafael Palmeiro      0  0.666667\n",
       "Mike Piazza          1  0.576389\n",
       "Tim Raines           1  0.555556\n",
       "Brooks Robinson      1  0.555556\n",
       "Juan Gonzalez        0  0.250000\n",
       "Ryne Sandberg        1  0.243833\n",
       "Orlando Cepeda       0  0.243833\n",
       "Rick Dempsey         0  0.222999\n",
       "Robin Yount          1  0.222222\n",
       "Enos Slaughter       0  0.146759\n",
       "Dave Concepcion      0  0.131944\n",
       "Joe Gordon           0  0.111888\n",
       "Kirby Puckett        1  0.111888\n",
       "Bobby Richardson     0  0.111888\n",
       "Jose Canseco         0  0.111111\n",
       "Gary Gaetti          0  0.111111\n",
       "Johnny Damon         0  0.111111\n",
       "Richie Ashburn       0  0.111111\n",
       "Minnie Minoso        0  0.035648\n",
       "Bob Watson           0  0.028555\n",
       "John Olerud          0  0.027778\n",
       "Joe Torre            0  0.021610\n",
       "...                ...       ...\n",
       "Randy Hundley        0  0.000777\n",
       "Manny Sanguillen     0  0.000777\n",
       "Joe Ferguson         0  0.000777\n",
       "Terry Steinbach      0  0.000777\n",
       "Casey Blake          0  0.000777\n",
       "Phil Nevin           0  0.000777\n",
       "Travis Fryman        0  0.000777\n",
       "Ron Cey              0  0.000777\n",
       "Bobby Higginson      0  0.000777\n",
       "B.J. Surhoff         0  0.000777\n",
       "Rondell White        0  0.000777\n",
       "Moises Alou          0  0.000777\n",
       "Pat Burrell          0  0.000777\n",
       "Carlos Lee           0  0.000777\n",
       "Frankie Crosetti     0  0.000777\n",
       "Paul Lo Duca         0  0.000777\n",
       "Al Dark              0  0.000777\n",
       "Maury Wills          0  0.000777\n",
       "Leo Cardenas         0  0.000777\n",
       "Don Kessinger        0  0.000777\n",
       "Rick Burleson        0  0.000777\n",
       "Hubie Brooks         0  0.000777\n",
       "Alan Trammell        0  0.000777\n",
       "Jay Bell             0  0.000777\n",
       "Orlando Cabrera      0  0.000777\n",
       "Grady Hatton         0  0.000777\n",
       "Bill Melton          0  0.000777\n",
       "Bob Bailey           0  0.000777\n",
       "Toby Harrah          0  0.000777\n",
       "Jimmy Stewart        0  0.000777\n",
       "\n",
       "[124 rows x 2 columns]"
      ]
     },
     "execution_count": 62,
     "metadata": {},
     "output_type": "execute_result"
    }
   ],
   "source": [
    "HoF_test.sort_values('HoF_prob', ascending=False)"
   ]
  },
  {
   "cell_type": "markdown",
   "metadata": {},
   "source": [
    "Deeper analysis shows that __the one false positive was Rafael Palmeiro__, a player who easily has the counting statistics to be voted into the Hall of Fame, but was kept out due to an external factor that this model cannot account for:  testing positive for steroids."
   ]
  },
  {
   "cell_type": "code",
   "execution_count": 63,
   "metadata": {},
   "outputs": [
    {
     "data": {
      "text/html": [
       "<div>\n",
       "<style scoped>\n",
       "    .dataframe tbody tr th:only-of-type {\n",
       "        vertical-align: middle;\n",
       "    }\n",
       "\n",
       "    .dataframe tbody tr th {\n",
       "        vertical-align: top;\n",
       "    }\n",
       "\n",
       "    .dataframe thead th {\n",
       "        text-align: right;\n",
       "    }\n",
       "</style>\n",
       "<table border=\"1\" class=\"dataframe\">\n",
       "  <thead>\n",
       "    <tr style=\"text-align: right;\">\n",
       "      <th></th>\n",
       "      <th>HoF</th>\n",
       "      <th>HoF_prob</th>\n",
       "    </tr>\n",
       "    <tr>\n",
       "      <th>Name</th>\n",
       "      <th></th>\n",
       "      <th></th>\n",
       "    </tr>\n",
       "  </thead>\n",
       "  <tbody>\n",
       "    <tr>\n",
       "      <th>Rod Carew</th>\n",
       "      <td>1</td>\n",
       "      <td>1.000000</td>\n",
       "    </tr>\n",
       "    <tr>\n",
       "      <th>Mike Schmidt</th>\n",
       "      <td>1</td>\n",
       "      <td>1.000000</td>\n",
       "    </tr>\n",
       "    <tr>\n",
       "      <th>Eddie Mathews</th>\n",
       "      <td>1</td>\n",
       "      <td>0.909722</td>\n",
       "    </tr>\n",
       "    <tr>\n",
       "      <th>Cal Ripken</th>\n",
       "      <td>1</td>\n",
       "      <td>0.888889</td>\n",
       "    </tr>\n",
       "    <tr>\n",
       "      <th>Al Kaline</th>\n",
       "      <td>1</td>\n",
       "      <td>0.888889</td>\n",
       "    </tr>\n",
       "    <tr>\n",
       "      <th>Vladimir Guerrero</th>\n",
       "      <td>1</td>\n",
       "      <td>0.827160</td>\n",
       "    </tr>\n",
       "    <tr>\n",
       "      <th>Mickey Mantle</th>\n",
       "      <td>1</td>\n",
       "      <td>0.777778</td>\n",
       "    </tr>\n",
       "    <tr>\n",
       "      <th>Willie Stargell</th>\n",
       "      <td>1</td>\n",
       "      <td>0.666667</td>\n",
       "    </tr>\n",
       "    <tr>\n",
       "      <th>Mike Piazza</th>\n",
       "      <td>1</td>\n",
       "      <td>0.576389</td>\n",
       "    </tr>\n",
       "    <tr>\n",
       "      <th>Brooks Robinson</th>\n",
       "      <td>1</td>\n",
       "      <td>0.555556</td>\n",
       "    </tr>\n",
       "    <tr>\n",
       "      <th>Tim Raines</th>\n",
       "      <td>1</td>\n",
       "      <td>0.555556</td>\n",
       "    </tr>\n",
       "    <tr>\n",
       "      <th>Ryne Sandberg</th>\n",
       "      <td>1</td>\n",
       "      <td>0.243833</td>\n",
       "    </tr>\n",
       "    <tr>\n",
       "      <th>Robin Yount</th>\n",
       "      <td>1</td>\n",
       "      <td>0.222222</td>\n",
       "    </tr>\n",
       "    <tr>\n",
       "      <th>Kirby Puckett</th>\n",
       "      <td>1</td>\n",
       "      <td>0.111888</td>\n",
       "    </tr>\n",
       "    <tr>\n",
       "      <th>Gary Carter</th>\n",
       "      <td>1</td>\n",
       "      <td>0.021610</td>\n",
       "    </tr>\n",
       "  </tbody>\n",
       "</table>\n",
       "</div>"
      ],
      "text/plain": [
       "                   HoF  HoF_prob\n",
       "Name                            \n",
       "Rod Carew            1  1.000000\n",
       "Mike Schmidt         1  1.000000\n",
       "Eddie Mathews        1  0.909722\n",
       "Cal Ripken           1  0.888889\n",
       "Al Kaline            1  0.888889\n",
       "Vladimir Guerrero    1  0.827160\n",
       "Mickey Mantle        1  0.777778\n",
       "Willie Stargell      1  0.666667\n",
       "Mike Piazza          1  0.576389\n",
       "Brooks Robinson      1  0.555556\n",
       "Tim Raines           1  0.555556\n",
       "Ryne Sandberg        1  0.243833\n",
       "Robin Yount          1  0.222222\n",
       "Kirby Puckett        1  0.111888\n",
       "Gary Carter          1  0.021610"
      ]
     },
     "execution_count": 63,
     "metadata": {},
     "output_type": "execute_result"
    }
   ],
   "source": [
    "HoF_test.loc[HoF_test.HoF==1,:].sort_values('HoF_prob', ascending=False)"
   ]
  },
  {
   "cell_type": "markdown",
   "metadata": {},
   "source": [
    "__Option 2:  Logistic Regression__"
   ]
  },
  {
   "cell_type": "code",
   "execution_count": 64,
   "metadata": {},
   "outputs": [],
   "source": [
    "feature_cols=['ASG','R','H','RBI']\n",
    "X=hit[feature_cols]\n",
    "y=hit['HoF']\n",
    "\n",
    "X_train,X_test,y_train,y_test = train_test_split(X,y, random_state=1)"
   ]
  },
  {
   "cell_type": "markdown",
   "metadata": {},
   "source": [
    "__Note:__ Here I wanted to use the best 4 features I could, and I chose All-Star Games, Runs, Hits, and RBIs, as they were both the top 4 correlated with the HoF in our correlation matrix (outside of the advanced statistics), and the top 4 most important features in the above Random Forest."
   ]
  },
  {
   "cell_type": "code",
   "execution_count": 65,
   "metadata": {},
   "outputs": [],
   "source": [
    "lrtradhit=LogisticRegression(random_state=1)"
   ]
  },
  {
   "cell_type": "code",
   "execution_count": 66,
   "metadata": {},
   "outputs": [
    {
     "data": {
      "text/plain": [
       "LogisticRegression(C=1.0, class_weight=None, dual=False, fit_intercept=True,\n",
       "          intercept_scaling=1, max_iter=100, multi_class='ovr', n_jobs=1,\n",
       "          penalty='l2', random_state=1, solver='liblinear', tol=0.0001,\n",
       "          verbose=0, warm_start=False)"
      ]
     },
     "execution_count": 66,
     "metadata": {},
     "output_type": "execute_result"
    }
   ],
   "source": [
    "lrtradhit.fit(X_train,y_train)"
   ]
  },
  {
   "cell_type": "code",
   "execution_count": 67,
   "metadata": {},
   "outputs": [
    {
     "data": {
      "text/plain": [
       "0.9435483870967742"
      ]
     },
     "execution_count": 67,
     "metadata": {},
     "output_type": "execute_result"
    }
   ],
   "source": [
    "y_pred=lrtradhit.predict(X_test)\n",
    "accuracy_score(y_test,y_pred)"
   ]
  },
  {
   "cell_type": "code",
   "execution_count": 68,
   "metadata": {},
   "outputs": [
    {
     "data": {
      "text/plain": [
       "0    0.879032\n",
       "1    0.120968\n",
       "Name: HoF, dtype: float64"
      ]
     },
     "execution_count": 68,
     "metadata": {},
     "output_type": "execute_result"
    }
   ],
   "source": [
    "y_test.value_counts(normalize=True)"
   ]
  },
  {
   "cell_type": "markdown",
   "metadata": {},
   "source": [
    "As with our untuned Random Forest hitting model, our untuned Logistic Regression model performs __6.4% better__ than the null baseline.  Again, we tune using __cross-validated grid search__."
   ]
  },
  {
   "cell_type": "code",
   "execution_count": 69,
   "metadata": {},
   "outputs": [
    {
     "name": "stdout",
     "output_type": "stream",
     "text": [
      "5 0.9327878563495002\n",
      "6 0.9274976986505279\n",
      "7 0.9329140461215932\n",
      "8 0.9248284767190873\n",
      "9 0.9300393599174088\n",
      "10 0.9302908171329225\n",
      "11 0.9274732620320857\n",
      "12 0.932829301075269\n"
     ]
    }
   ],
   "source": [
    "results=[]\n",
    "for num in range(5,13):\n",
    "    result= np.mean(cross_val_score(lrtradhit,X_train,y_train, cv=num, scoring='accuracy'))\n",
    "    print(num,result)\n",
    "    results.append([num,result])"
   ]
  },
  {
   "cell_type": "markdown",
   "metadata": {},
   "source": [
    "Our GridSearch will use __cv=7__, and will look to find the best parameters for __C__."
   ]
  },
  {
   "cell_type": "code",
   "execution_count": 235,
   "metadata": {},
   "outputs": [],
   "source": [
    "lrtradhit=LogisticRegression(random_state=1)\n",
    "\n",
    "parameters = {\n",
    "    'C': [0.001, 0.01, 0.1, 1, 10, 100, 1000]\n",
    "}\n",
    "\n",
    "clf=GridSearchCV(lrtradhit, parameters, cv=7, scoring='accuracy',verbose=1)"
   ]
  },
  {
   "cell_type": "code",
   "execution_count": 236,
   "metadata": {},
   "outputs": [
    {
     "name": "stdout",
     "output_type": "stream",
     "text": [
      "Fitting 7 folds for each of 7 candidates, totalling 49 fits\n"
     ]
    },
    {
     "name": "stderr",
     "output_type": "stream",
     "text": [
      "[Parallel(n_jobs=1)]: Done  49 out of  49 | elapsed:    0.2s finished\n"
     ]
    },
    {
     "data": {
      "text/plain": [
       "GridSearchCV(cv=7, error_score='raise',\n",
       "       estimator=LogisticRegression(C=1.0, class_weight=None, dual=False, fit_intercept=True,\n",
       "          intercept_scaling=1, max_iter=100, multi_class='ovr', n_jobs=1,\n",
       "          penalty='l2', random_state=1, solver='liblinear', tol=0.0001,\n",
       "          verbose=0, warm_start=False),\n",
       "       fit_params=None, iid=True, n_jobs=1,\n",
       "       param_grid={'C': [0.001, 0.01, 0.1, 1, 10, 100, 1000]},\n",
       "       pre_dispatch='2*n_jobs', refit=True, return_train_score='warn',\n",
       "       scoring='accuracy', verbose=1)"
      ]
     },
     "execution_count": 236,
     "metadata": {},
     "output_type": "execute_result"
    }
   ],
   "source": [
    "clf.fit(X_train,y_train)"
   ]
  },
  {
   "cell_type": "code",
   "execution_count": 237,
   "metadata": {},
   "outputs": [
    {
     "name": "stdout",
     "output_type": "stream",
     "text": [
      "{'C': 100}\n",
      "0.9516129032258065\n"
     ]
    }
   ],
   "source": [
    "print(clf.best_params_)\n",
    "print(clf.best_score_)"
   ]
  },
  {
   "cell_type": "markdown",
   "metadata": {},
   "source": [
    "Our preferred __C__ value is __100__, and our best possible cross-validation score is __95.2%__."
   ]
  },
  {
   "cell_type": "code",
   "execution_count": 70,
   "metadata": {},
   "outputs": [
    {
     "data": {
      "text/plain": [
       "LogisticRegression(C=100, class_weight=None, dual=False, fit_intercept=True,\n",
       "          intercept_scaling=1, max_iter=100, multi_class='ovr', n_jobs=1,\n",
       "          penalty='l2', random_state=1, solver='liblinear', tol=0.0001,\n",
       "          verbose=0, warm_start=False)"
      ]
     },
     "execution_count": 70,
     "metadata": {},
     "output_type": "execute_result"
    }
   ],
   "source": [
    "lrtradhit=LogisticRegression(random_state=1, C=100)\n",
    "lrtradhit.fit(X_train,y_train)"
   ]
  },
  {
   "cell_type": "code",
   "execution_count": 71,
   "metadata": {},
   "outputs": [
    {
     "data": {
      "text/plain": [
       "0.9274193548387096"
      ]
     },
     "execution_count": 71,
     "metadata": {},
     "output_type": "execute_result"
    }
   ],
   "source": [
    "y_pred=lrtradhit.predict(X_test)\n",
    "lrtradhit.score(X_test,y_test)"
   ]
  },
  {
   "cell_type": "code",
   "execution_count": 72,
   "metadata": {},
   "outputs": [
    {
     "data": {
      "text/plain": [
       "0    0.879032\n",
       "1    0.120968\n",
       "Name: HoF, dtype: float64"
      ]
     },
     "execution_count": 72,
     "metadata": {},
     "output_type": "execute_result"
    }
   ],
   "source": [
    "y_test.value_counts(normalize=True)"
   ]
  },
  {
   "cell_type": "code",
   "execution_count": 73,
   "metadata": {},
   "outputs": [
    {
     "data": {
      "text/plain": [
       "Text(0.5,8.74,'Predicted label')"
      ]
     },
     "execution_count": 73,
     "metadata": {},
     "output_type": "execute_result"
    },
    {
     "data": {
      "image/png": "[encoded data removed]",
      "text/plain": [
       "<Figure size 576x432 with 2 Axes>"
      ]
     },
     "metadata": {},
     "output_type": "display_data"
    }
   ],
   "source": [
    "cm = confusion_matrix(y_test, y_pred)\n",
    "\n",
    "sns.heatmap(cm, annot=True, fmt=\"d\", linewidths=.5)\n",
    "\n",
    "plt.ylabel('True label')\n",
    "plt.xlabel('Predicted label')"
   ]
  },
  {
   "cell_type": "markdown",
   "metadata": {},
   "source": [
    "Our accuracy score on the test data actually went down to __92.7%__ here, and while cross-validation does show this is a better model than with C=1, our Random Forest model did better in both its cross-validation best score __(95.7%)__ and testing accuracy __(96%).__ \n",
    "\n",
    "__Therefore, we will use the Random Forest hitting model built from traditional statistics to test against a similar model built from the advanced ones.__\n",
    "\n",
    "Now, we perform the exact same process as above to build our traditional pitching model."
   ]
  },
  {
   "cell_type": "markdown",
   "metadata": {},
   "source": [
    "# Building A Traditional Pitching Model"
   ]
  },
  {
   "cell_type": "markdown",
   "metadata": {},
   "source": [
    "__Option 1:  Random Forest__"
   ]
  },
  {
   "cell_type": "code",
   "execution_count": 74,
   "metadata": {},
   "outputs": [],
   "source": [
    "feature_cols=pitch.columns.drop(['HoF','WAR','JAWS','WAR7','ERA+'])\n",
    "X=pitch[feature_cols]\n",
    "y=pitch['HoF']\n",
    "\n",
    "X_train,X_test,y_train,y_test = train_test_split(X,y, random_state=1)"
   ]
  },
  {
   "cell_type": "code",
   "execution_count": 75,
   "metadata": {},
   "outputs": [],
   "source": [
    "rftradpitch=RandomForestClassifier(random_state=1,max_features=4)"
   ]
  },
  {
   "cell_type": "code",
   "execution_count": 76,
   "metadata": {},
   "outputs": [
    {
     "data": {
      "text/plain": [
       "RandomForestClassifier(bootstrap=True, class_weight=None, criterion='gini',\n",
       "            max_depth=None, max_features=4, max_leaf_nodes=None,\n",
       "            min_impurity_decrease=0.0, min_impurity_split=None,\n",
       "            min_samples_leaf=1, min_samples_split=2,\n",
       "            min_weight_fraction_leaf=0.0, n_estimators=10, n_jobs=1,\n",
       "            oob_score=False, random_state=1, verbose=0, warm_start=False)"
      ]
     },
     "execution_count": 76,
     "metadata": {},
     "output_type": "execute_result"
    }
   ],
   "source": [
    "rftradpitch.fit(X_train,y_train)"
   ]
  },
  {
   "cell_type": "code",
   "execution_count": 77,
   "metadata": {},
   "outputs": [
    {
     "data": {
      "text/plain": [
       "1.0"
      ]
     },
     "execution_count": 77,
     "metadata": {},
     "output_type": "execute_result"
    }
   ],
   "source": [
    "y_pred=rftradpitch.predict(X_test)\n",
    "accuracy_score(y_test,y_pred)"
   ]
  },
  {
   "cell_type": "code",
   "execution_count": 78,
   "metadata": {},
   "outputs": [
    {
     "data": {
      "text/plain": [
       "0    0.88\n",
       "1    0.12\n",
       "Name: HoF, dtype: float64"
      ]
     },
     "execution_count": 78,
     "metadata": {},
     "output_type": "execute_result"
    }
   ],
   "source": [
    "y_test.value_counts(normalize=True)"
   ]
  },
  {
   "cell_type": "markdown",
   "metadata": {},
   "source": [
    "Our pitching model is already performing perfectly on the test data (__12% better than the baseline__), but that is likely just luck, so we will still tune the parameters."
   ]
  },
  {
   "cell_type": "code",
   "execution_count": 79,
   "metadata": {},
   "outputs": [
    {
     "name": "stdout",
     "output_type": "stream",
     "text": [
      "5 0.9390476190476191\n",
      "6 0.9460470085470086\n",
      "7 0.9321892393320966\n",
      "8 0.9392543859649123\n",
      "9 0.9525689905591866\n",
      "10 0.9256410256410257\n",
      "11 0.9437229437229437\n",
      "12 0.9527972027972026\n"
     ]
    }
   ],
   "source": [
    "results=[]\n",
    "for num in range(5,13):\n",
    "    result= np.mean(cross_val_score(rftradpitch,X_train,y_train, cv=num, scoring='accuracy'))\n",
    "    print(num,result)\n",
    "    results.append([num,result])"
   ]
  },
  {
   "cell_type": "markdown",
   "metadata": {},
   "source": [
    "Our grid search will use __cv=12__."
   ]
  },
  {
   "cell_type": "code",
   "execution_count": 257,
   "metadata": {},
   "outputs": [],
   "source": [
    "rftradpitch=RandomForestClassifier(random_state=1,max_features=4)\n",
    "\n",
    "parameters = {\n",
    "    'max_depth': range(1,13),\n",
    "    'n_estimators': range(1,101)\n",
    "}\n",
    "\n",
    "clf=GridSearchCV(rftradpitch, parameters, cv=12, scoring='accuracy',verbose=1)"
   ]
  },
  {
   "cell_type": "code",
   "execution_count": 258,
   "metadata": {},
   "outputs": [
    {
     "name": "stdout",
     "output_type": "stream",
     "text": [
      "Fitting 12 folds for each of 1200 candidates, totalling 14400 fits\n"
     ]
    },
    {
     "name": "stderr",
     "output_type": "stream",
     "text": [
      "[Parallel(n_jobs=1)]: Done 14400 out of 14400 | elapsed: 16.3min finished\n"
     ]
    },
    {
     "data": {
      "text/plain": [
       "GridSearchCV(cv=12, error_score='raise',\n",
       "       estimator=RandomForestClassifier(bootstrap=True, class_weight=None, criterion='gini',\n",
       "            max_depth=None, max_features=4, max_leaf_nodes=None,\n",
       "            min_impurity_decrease=0.0, min_impurity_split=None,\n",
       "            min_samples_leaf=1, min_samples_split=2,\n",
       "            min_weight_fraction_leaf=0.0, n_estimators=10, n_jobs=1,\n",
       "            oob_score=False, random_state=1, verbose=0, warm_start=False),\n",
       "       fit_params=None, iid=True, n_jobs=1,\n",
       "       param_grid={'max_depth': range(1, 13), 'n_estimators': range(1, 101)},\n",
       "       pre_dispatch='2*n_jobs', refit=True, return_train_score='warn',\n",
       "       scoring='accuracy', verbose=1)"
      ]
     },
     "execution_count": 258,
     "metadata": {},
     "output_type": "execute_result"
    }
   ],
   "source": [
    "clf.fit(X_train,y_train)"
   ]
  },
  {
   "cell_type": "code",
   "execution_count": 259,
   "metadata": {},
   "outputs": [
    {
     "name": "stdout",
     "output_type": "stream",
     "text": [
      "{'max_depth': 5, 'n_estimators': 5}\n",
      "0.972972972972973\n"
     ]
    }
   ],
   "source": [
    "print(clf.best_params_)\n",
    "print(clf.best_score_)"
   ]
  },
  {
   "cell_type": "code",
   "execution_count": 80,
   "metadata": {},
   "outputs": [
    {
     "data": {
      "text/plain": [
       "RandomForestClassifier(bootstrap=True, class_weight=None, criterion='gini',\n",
       "            max_depth=5, max_features=4, max_leaf_nodes=None,\n",
       "            min_impurity_decrease=0.0, min_impurity_split=None,\n",
       "            min_samples_leaf=1, min_samples_split=2,\n",
       "            min_weight_fraction_leaf=0.0, n_estimators=5, n_jobs=1,\n",
       "            oob_score=False, random_state=1, verbose=0, warm_start=False)"
      ]
     },
     "execution_count": 80,
     "metadata": {},
     "output_type": "execute_result"
    }
   ],
   "source": [
    "rftradpitch=RandomForestClassifier(n_estimators=5, max_depth=5,max_features=4, random_state=1)\n",
    "rftradpitch.fit(X_train,y_train)"
   ]
  },
  {
   "cell_type": "code",
   "execution_count": 81,
   "metadata": {},
   "outputs": [
    {
     "data": {
      "text/html": [
       "<div>\n",
       "<style scoped>\n",
       "    .dataframe tbody tr th:only-of-type {\n",
       "        vertical-align: middle;\n",
       "    }\n",
       "\n",
       "    .dataframe tbody tr th {\n",
       "        vertical-align: top;\n",
       "    }\n",
       "\n",
       "    .dataframe thead th {\n",
       "        text-align: right;\n",
       "    }\n",
       "</style>\n",
       "<table border=\"1\" class=\"dataframe\">\n",
       "  <thead>\n",
       "    <tr style=\"text-align: right;\">\n",
       "      <th></th>\n",
       "      <th>feature</th>\n",
       "      <th>importance</th>\n",
       "    </tr>\n",
       "  </thead>\n",
       "  <tbody>\n",
       "    <tr>\n",
       "      <th>1</th>\n",
       "      <td>ASG</td>\n",
       "      <td>0.292696</td>\n",
       "    </tr>\n",
       "    <tr>\n",
       "      <th>2</th>\n",
       "      <td>W</td>\n",
       "      <td>0.266893</td>\n",
       "    </tr>\n",
       "    <tr>\n",
       "      <th>7</th>\n",
       "      <td>SHO</td>\n",
       "      <td>0.151782</td>\n",
       "    </tr>\n",
       "    <tr>\n",
       "      <th>4</th>\n",
       "      <td>W-L%</td>\n",
       "      <td>0.071338</td>\n",
       "    </tr>\n",
       "    <tr>\n",
       "      <th>10</th>\n",
       "      <td>ER</td>\n",
       "      <td>0.069612</td>\n",
       "    </tr>\n",
       "    <tr>\n",
       "      <th>8</th>\n",
       "      <td>IP</td>\n",
       "      <td>0.051101</td>\n",
       "    </tr>\n",
       "    <tr>\n",
       "      <th>6</th>\n",
       "      <td>CG</td>\n",
       "      <td>0.033790</td>\n",
       "    </tr>\n",
       "    <tr>\n",
       "      <th>9</th>\n",
       "      <td>H</td>\n",
       "      <td>0.028005</td>\n",
       "    </tr>\n",
       "    <tr>\n",
       "      <th>13</th>\n",
       "      <td>SO</td>\n",
       "      <td>0.018532</td>\n",
       "    </tr>\n",
       "    <tr>\n",
       "      <th>3</th>\n",
       "      <td>L</td>\n",
       "      <td>0.008543</td>\n",
       "    </tr>\n",
       "    <tr>\n",
       "      <th>11</th>\n",
       "      <td>HR</td>\n",
       "      <td>0.007708</td>\n",
       "    </tr>\n",
       "    <tr>\n",
       "      <th>0</th>\n",
       "      <td>Yrs</td>\n",
       "      <td>0.000000</td>\n",
       "    </tr>\n",
       "    <tr>\n",
       "      <th>5</th>\n",
       "      <td>ERA</td>\n",
       "      <td>0.000000</td>\n",
       "    </tr>\n",
       "    <tr>\n",
       "      <th>12</th>\n",
       "      <td>BB</td>\n",
       "      <td>0.000000</td>\n",
       "    </tr>\n",
       "  </tbody>\n",
       "</table>\n",
       "</div>"
      ],
      "text/plain": [
       "   feature  importance\n",
       "1      ASG    0.292696\n",
       "2        W    0.266893\n",
       "7      SHO    0.151782\n",
       "4     W-L%    0.071338\n",
       "10      ER    0.069612\n",
       "8       IP    0.051101\n",
       "6       CG    0.033790\n",
       "9        H    0.028005\n",
       "13      SO    0.018532\n",
       "3        L    0.008543\n",
       "11      HR    0.007708\n",
       "0      Yrs    0.000000\n",
       "5      ERA    0.000000\n",
       "12      BB    0.000000"
      ]
     },
     "execution_count": 81,
     "metadata": {},
     "output_type": "execute_result"
    }
   ],
   "source": [
    "feat_imp=pd.DataFrame({'feature': feature_cols, 'importance':rftradpitch.feature_importances_}).sort_values(by='importance', ascending=False)\n",
    "feat_imp"
   ]
  },
  {
   "cell_type": "code",
   "execution_count": 82,
   "metadata": {},
   "outputs": [
    {
     "data": {
      "text/html": [
       "<div>\n",
       "<style scoped>\n",
       "    .dataframe tbody tr th:only-of-type {\n",
       "        vertical-align: middle;\n",
       "    }\n",
       "\n",
       "    .dataframe tbody tr th {\n",
       "        vertical-align: top;\n",
       "    }\n",
       "\n",
       "    .dataframe thead th {\n",
       "        text-align: right;\n",
       "    }\n",
       "</style>\n",
       "<table border=\"1\" class=\"dataframe\">\n",
       "  <thead>\n",
       "    <tr style=\"text-align: right;\">\n",
       "      <th></th>\n",
       "      <th>feature</th>\n",
       "      <th>importance</th>\n",
       "    </tr>\n",
       "  </thead>\n",
       "  <tbody>\n",
       "    <tr>\n",
       "      <th>1</th>\n",
       "      <td>ASG</td>\n",
       "      <td>0.292696</td>\n",
       "    </tr>\n",
       "    <tr>\n",
       "      <th>2</th>\n",
       "      <td>W</td>\n",
       "      <td>0.266893</td>\n",
       "    </tr>\n",
       "    <tr>\n",
       "      <th>7</th>\n",
       "      <td>SHO</td>\n",
       "      <td>0.151782</td>\n",
       "    </tr>\n",
       "    <tr>\n",
       "      <th>4</th>\n",
       "      <td>W-L%</td>\n",
       "      <td>0.071338</td>\n",
       "    </tr>\n",
       "  </tbody>\n",
       "</table>\n",
       "</div>"
      ],
      "text/plain": [
       "  feature  importance\n",
       "1     ASG    0.292696\n",
       "2       W    0.266893\n",
       "7     SHO    0.151782\n",
       "4    W-L%    0.071338"
      ]
     },
     "execution_count": 82,
     "metadata": {},
     "output_type": "execute_result"
    }
   ],
   "source": [
    "feat_imp.head(4)"
   ]
  },
  {
   "cell_type": "markdown",
   "metadata": {},
   "source": [
    "Our best parameters are __5 estimators__ as well as a __max_depth of 5__, our best cross-validated score is __97.3%__, and our 4 most important traditional features are __All-Star Games, wins, shutouts, and winning percentage__."
   ]
  },
  {
   "cell_type": "code",
   "execution_count": 83,
   "metadata": {},
   "outputs": [
    {
     "data": {
      "text/plain": [
       "0.98"
      ]
     },
     "execution_count": 83,
     "metadata": {},
     "output_type": "execute_result"
    }
   ],
   "source": [
    "y_pred=rftradpitch.predict(X_test)\n",
    "rftradpitch.score(X_test,y_test)"
   ]
  },
  {
   "cell_type": "code",
   "execution_count": 84,
   "metadata": {},
   "outputs": [
    {
     "data": {
      "text/plain": [
       "0    0.88\n",
       "1    0.12\n",
       "Name: HoF, dtype: float64"
      ]
     },
     "execution_count": 84,
     "metadata": {},
     "output_type": "execute_result"
    }
   ],
   "source": [
    "y_test.value_counts(normalize=True)"
   ]
  },
  {
   "cell_type": "code",
   "execution_count": 85,
   "metadata": {},
   "outputs": [
    {
     "data": {
      "text/plain": [
       "Text(0.5,8.74,'Predicted label')"
      ]
     },
     "execution_count": 85,
     "metadata": {},
     "output_type": "execute_result"
    },
    {
     "data": {
      "image/png": "[encoded data removed]",
      "text/plain": [
       "<Figure size 576x432 with 2 Axes>"
      ]
     },
     "metadata": {},
     "output_type": "display_data"
    }
   ],
   "source": [
    "cm = confusion_matrix(y_test, y_pred)\n",
    "\n",
    "sns.heatmap(cm, annot=True, fmt=\"d\", linewidths=.5)\n",
    "\n",
    "plt.ylabel('True label')\n",
    "plt.xlabel('Predicted label')"
   ]
  },
  {
   "cell_type": "markdown",
   "metadata": {},
   "source": [
    "After tuning our Random Forest pitching model, our accuracy score on the test data sits at __98% (10% better than our null baseline)__, picking just one false positive.  Let's see who it was."
   ]
  },
  {
   "cell_type": "code",
   "execution_count": 86,
   "metadata": {},
   "outputs": [
    {
     "name": "stderr",
     "output_type": "stream",
     "text": [
      "/Users/leemac113/anaconda3/lib/python3.6/site-packages/ipykernel_launcher.py:1: SettingWithCopyWarning: \n",
      "A value is trying to be set on a copy of a slice from a DataFrame.\n",
      "Try using .loc[row_indexer,col_indexer] = value instead\n",
      "\n",
      "See the caveats in the documentation: http://pandas.pydata.org/pandas-docs/stable/indexing.html#indexing-view-versus-copy\n",
      "  \"\"\"Entry point for launching an IPython kernel.\n"
     ]
    }
   ],
   "source": [
    "X_test['HoF_prob']=rftradpitch.predict_proba(X_test)[:,1]"
   ]
  },
  {
   "cell_type": "code",
   "execution_count": 87,
   "metadata": {},
   "outputs": [],
   "source": [
    "HoF_test=pd.concat([pitch['HoF'],X_test['HoF_prob']],axis=1, join='inner')"
   ]
  },
  {
   "cell_type": "code",
   "execution_count": 88,
   "metadata": {},
   "outputs": [
    {
     "data": {
      "text/html": [
       "<div>\n",
       "<style scoped>\n",
       "    .dataframe tbody tr th:only-of-type {\n",
       "        vertical-align: middle;\n",
       "    }\n",
       "\n",
       "    .dataframe tbody tr th {\n",
       "        vertical-align: top;\n",
       "    }\n",
       "\n",
       "    .dataframe thead th {\n",
       "        text-align: right;\n",
       "    }\n",
       "</style>\n",
       "<table border=\"1\" class=\"dataframe\">\n",
       "  <thead>\n",
       "    <tr style=\"text-align: right;\">\n",
       "      <th></th>\n",
       "      <th>HoF</th>\n",
       "      <th>HoF_prob</th>\n",
       "    </tr>\n",
       "    <tr>\n",
       "      <th>Name</th>\n",
       "      <th></th>\n",
       "      <th></th>\n",
       "    </tr>\n",
       "  </thead>\n",
       "  <tbody>\n",
       "    <tr>\n",
       "      <th>Juan Marichal</th>\n",
       "      <td>1</td>\n",
       "      <td>1.0</td>\n",
       "    </tr>\n",
       "    <tr>\n",
       "      <th>Tom Seaver</th>\n",
       "      <td>1</td>\n",
       "      <td>1.0</td>\n",
       "    </tr>\n",
       "    <tr>\n",
       "      <th>Bert Blyleven</th>\n",
       "      <td>1</td>\n",
       "      <td>1.0</td>\n",
       "    </tr>\n",
       "    <tr>\n",
       "      <th>Robin Roberts</th>\n",
       "      <td>1</td>\n",
       "      <td>1.0</td>\n",
       "    </tr>\n",
       "    <tr>\n",
       "      <th>Nolan Ryan</th>\n",
       "      <td>1</td>\n",
       "      <td>0.8</td>\n",
       "    </tr>\n",
       "    <tr>\n",
       "      <th>Jim Kaat</th>\n",
       "      <td>0</td>\n",
       "      <td>0.6</td>\n",
       "    </tr>\n",
       "    <tr>\n",
       "      <th>Whitey Ford</th>\n",
       "      <td>1</td>\n",
       "      <td>0.6</td>\n",
       "    </tr>\n",
       "    <tr>\n",
       "      <th>Dave Stieb</th>\n",
       "      <td>0</td>\n",
       "      <td>0.4</td>\n",
       "    </tr>\n",
       "    <tr>\n",
       "      <th>Ron Guidry</th>\n",
       "      <td>0</td>\n",
       "      <td>0.2</td>\n",
       "    </tr>\n",
       "    <tr>\n",
       "      <th>Jack Morris</th>\n",
       "      <td>0</td>\n",
       "      <td>0.2</td>\n",
       "    </tr>\n",
       "    <tr>\n",
       "      <th>Sal Maglie</th>\n",
       "      <td>0</td>\n",
       "      <td>0.2</td>\n",
       "    </tr>\n",
       "    <tr>\n",
       "      <th>Don Newcombe</th>\n",
       "      <td>0</td>\n",
       "      <td>0.2</td>\n",
       "    </tr>\n",
       "    <tr>\n",
       "      <th>Dwight Gooden</th>\n",
       "      <td>0</td>\n",
       "      <td>0.2</td>\n",
       "    </tr>\n",
       "    <tr>\n",
       "      <th>Vic Raschi</th>\n",
       "      <td>0</td>\n",
       "      <td>0.2</td>\n",
       "    </tr>\n",
       "    <tr>\n",
       "      <th>Johnny Sain</th>\n",
       "      <td>0</td>\n",
       "      <td>0.0</td>\n",
       "    </tr>\n",
       "    <tr>\n",
       "      <th>Eddie Lopat</th>\n",
       "      <td>0</td>\n",
       "      <td>0.0</td>\n",
       "    </tr>\n",
       "    <tr>\n",
       "      <th>Larry Dierker</th>\n",
       "      <td>0</td>\n",
       "      <td>0.0</td>\n",
       "    </tr>\n",
       "    <tr>\n",
       "      <th>Tommy Bridges</th>\n",
       "      <td>0</td>\n",
       "      <td>0.0</td>\n",
       "    </tr>\n",
       "    <tr>\n",
       "      <th>Ray Culp</th>\n",
       "      <td>0</td>\n",
       "      <td>0.0</td>\n",
       "    </tr>\n",
       "    <tr>\n",
       "      <th>Jim Colborn</th>\n",
       "      <td>0</td>\n",
       "      <td>0.0</td>\n",
       "    </tr>\n",
       "    <tr>\n",
       "      <th>Milt Pappas</th>\n",
       "      <td>0</td>\n",
       "      <td>0.0</td>\n",
       "    </tr>\n",
       "    <tr>\n",
       "      <th>Juan Pizarro</th>\n",
       "      <td>0</td>\n",
       "      <td>0.0</td>\n",
       "    </tr>\n",
       "    <tr>\n",
       "      <th>Tom Browning</th>\n",
       "      <td>0</td>\n",
       "      <td>0.0</td>\n",
       "    </tr>\n",
       "    <tr>\n",
       "      <th>Ron Darling</th>\n",
       "      <td>0</td>\n",
       "      <td>0.0</td>\n",
       "    </tr>\n",
       "    <tr>\n",
       "      <th>Bill Hands</th>\n",
       "      <td>0</td>\n",
       "      <td>0.0</td>\n",
       "    </tr>\n",
       "    <tr>\n",
       "      <th>Sonny Siebert</th>\n",
       "      <td>0</td>\n",
       "      <td>0.0</td>\n",
       "    </tr>\n",
       "    <tr>\n",
       "      <th>Nelson Briles</th>\n",
       "      <td>0</td>\n",
       "      <td>0.0</td>\n",
       "    </tr>\n",
       "    <tr>\n",
       "      <th>Al Downing</th>\n",
       "      <td>0</td>\n",
       "      <td>0.0</td>\n",
       "    </tr>\n",
       "    <tr>\n",
       "      <th>Livan Hernandez</th>\n",
       "      <td>0</td>\n",
       "      <td>0.0</td>\n",
       "    </tr>\n",
       "    <tr>\n",
       "      <th>Wilbur Wood</th>\n",
       "      <td>0</td>\n",
       "      <td>0.0</td>\n",
       "    </tr>\n",
       "    <tr>\n",
       "      <th>Danny Darwin</th>\n",
       "      <td>0</td>\n",
       "      <td>0.0</td>\n",
       "    </tr>\n",
       "    <tr>\n",
       "      <th>Kenny Rogers</th>\n",
       "      <td>0</td>\n",
       "      <td>0.0</td>\n",
       "    </tr>\n",
       "    <tr>\n",
       "      <th>Woody Williams</th>\n",
       "      <td>0</td>\n",
       "      <td>0.0</td>\n",
       "    </tr>\n",
       "    <tr>\n",
       "      <th>Kevin Brown</th>\n",
       "      <td>0</td>\n",
       "      <td>0.0</td>\n",
       "    </tr>\n",
       "    <tr>\n",
       "      <th>Al Leiter</th>\n",
       "      <td>0</td>\n",
       "      <td>0.0</td>\n",
       "    </tr>\n",
       "    <tr>\n",
       "      <th>Bret Saberhagen</th>\n",
       "      <td>0</td>\n",
       "      <td>0.0</td>\n",
       "    </tr>\n",
       "    <tr>\n",
       "      <th>Orel Hershiser</th>\n",
       "      <td>0</td>\n",
       "      <td>0.0</td>\n",
       "    </tr>\n",
       "    <tr>\n",
       "      <th>Mark Langston</th>\n",
       "      <td>0</td>\n",
       "      <td>0.0</td>\n",
       "    </tr>\n",
       "    <tr>\n",
       "      <th>Jim Abbott</th>\n",
       "      <td>0</td>\n",
       "      <td>0.0</td>\n",
       "    </tr>\n",
       "    <tr>\n",
       "      <th>Doug Drabek</th>\n",
       "      <td>0</td>\n",
       "      <td>0.0</td>\n",
       "    </tr>\n",
       "    <tr>\n",
       "      <th>Ken Holtzman</th>\n",
       "      <td>0</td>\n",
       "      <td>0.0</td>\n",
       "    </tr>\n",
       "    <tr>\n",
       "      <th>Bob Tewksbury</th>\n",
       "      <td>0</td>\n",
       "      <td>0.0</td>\n",
       "    </tr>\n",
       "    <tr>\n",
       "      <th>Frank Viola</th>\n",
       "      <td>0</td>\n",
       "      <td>0.0</td>\n",
       "    </tr>\n",
       "    <tr>\n",
       "      <th>Bruce Hurst</th>\n",
       "      <td>0</td>\n",
       "      <td>0.0</td>\n",
       "    </tr>\n",
       "    <tr>\n",
       "      <th>Charlie Leibrandt</th>\n",
       "      <td>0</td>\n",
       "      <td>0.0</td>\n",
       "    </tr>\n",
       "    <tr>\n",
       "      <th>Mike Witt</th>\n",
       "      <td>0</td>\n",
       "      <td>0.0</td>\n",
       "    </tr>\n",
       "    <tr>\n",
       "      <th>Paul Splittorff</th>\n",
       "      <td>0</td>\n",
       "      <td>0.0</td>\n",
       "    </tr>\n",
       "    <tr>\n",
       "      <th>Jason Schmidt</th>\n",
       "      <td>0</td>\n",
       "      <td>0.0</td>\n",
       "    </tr>\n",
       "    <tr>\n",
       "      <th>Jim Barr</th>\n",
       "      <td>0</td>\n",
       "      <td>0.0</td>\n",
       "    </tr>\n",
       "    <tr>\n",
       "      <th>Rudy May</th>\n",
       "      <td>0</td>\n",
       "      <td>0.0</td>\n",
       "    </tr>\n",
       "  </tbody>\n",
       "</table>\n",
       "</div>"
      ],
      "text/plain": [
       "                   HoF  HoF_prob\n",
       "Name                            \n",
       "Juan Marichal        1       1.0\n",
       "Tom Seaver           1       1.0\n",
       "Bert Blyleven        1       1.0\n",
       "Robin Roberts        1       1.0\n",
       "Nolan Ryan           1       0.8\n",
       "Jim Kaat             0       0.6\n",
       "Whitey Ford          1       0.6\n",
       "Dave Stieb           0       0.4\n",
       "Ron Guidry           0       0.2\n",
       "Jack Morris          0       0.2\n",
       "Sal Maglie           0       0.2\n",
       "Don Newcombe         0       0.2\n",
       "Dwight Gooden        0       0.2\n",
       "Vic Raschi           0       0.2\n",
       "Johnny Sain          0       0.0\n",
       "Eddie Lopat          0       0.0\n",
       "Larry Dierker        0       0.0\n",
       "Tommy Bridges        0       0.0\n",
       "Ray Culp             0       0.0\n",
       "Jim Colborn          0       0.0\n",
       "Milt Pappas          0       0.0\n",
       "Juan Pizarro         0       0.0\n",
       "Tom Browning         0       0.0\n",
       "Ron Darling          0       0.0\n",
       "Bill Hands           0       0.0\n",
       "Sonny Siebert        0       0.0\n",
       "Nelson Briles        0       0.0\n",
       "Al Downing           0       0.0\n",
       "Livan Hernandez      0       0.0\n",
       "Wilbur Wood          0       0.0\n",
       "Danny Darwin         0       0.0\n",
       "Kenny Rogers         0       0.0\n",
       "Woody Williams       0       0.0\n",
       "Kevin Brown          0       0.0\n",
       "Al Leiter            0       0.0\n",
       "Bret Saberhagen      0       0.0\n",
       "Orel Hershiser       0       0.0\n",
       "Mark Langston        0       0.0\n",
       "Jim Abbott           0       0.0\n",
       "Doug Drabek          0       0.0\n",
       "Ken Holtzman         0       0.0\n",
       "Bob Tewksbury        0       0.0\n",
       "Frank Viola          0       0.0\n",
       "Bruce Hurst          0       0.0\n",
       "Charlie Leibrandt    0       0.0\n",
       "Mike Witt            0       0.0\n",
       "Paul Splittorff      0       0.0\n",
       "Jason Schmidt        0       0.0\n",
       "Jim Barr             0       0.0\n",
       "Rudy May             0       0.0"
      ]
     },
     "execution_count": 88,
     "metadata": {},
     "output_type": "execute_result"
    }
   ],
   "source": [
    "HoF_test.sort_values('HoF_prob', ascending=False)"
   ]
  },
  {
   "cell_type": "markdown",
   "metadata": {},
   "source": [
    "Our lone false positive, given a 60% probability of being voted into the Hall of Fame, is __Jim Kaat__, whose 283 career victories (300 being the old magic number that may possibly never be reached again due to changes in the way pitchers are managed) give him plenty of support in the traditional stats community."
   ]
  },
  {
   "cell_type": "markdown",
   "metadata": {},
   "source": [
    "__Option 2:  Logistic Regression__"
   ]
  },
  {
   "cell_type": "markdown",
   "metadata": {},
   "source": [
    "__Wins__ and __All-Star Games__ were the top 2 most highly correlated with HoF in our pitching heatmap, and in the above feature importance for the Random Forest.  The below set of features (which include those, along with strikeouts and innings pitched) are one of several sets of four features I tried in attempting to build a more accurate Logistic Regression model than the above Random Forest.  This is further explained below these results."
   ]
  },
  {
   "cell_type": "code",
   "execution_count": 89,
   "metadata": {},
   "outputs": [],
   "source": [
    "feature_cols=['ASG','W','SO','IP']\n",
    "X=pitch[feature_cols]\n",
    "y=pitch['HoF']\n",
    "\n",
    "X_train,X_test,y_train,y_test = train_test_split(X,y, random_state=1)"
   ]
  },
  {
   "cell_type": "code",
   "execution_count": 90,
   "metadata": {},
   "outputs": [],
   "source": [
    "lrtradpitch=LogisticRegression(random_state=1)"
   ]
  },
  {
   "cell_type": "code",
   "execution_count": 91,
   "metadata": {},
   "outputs": [
    {
     "data": {
      "text/plain": [
       "LogisticRegression(C=1.0, class_weight=None, dual=False, fit_intercept=True,\n",
       "          intercept_scaling=1, max_iter=100, multi_class='ovr', n_jobs=1,\n",
       "          penalty='l2', random_state=1, solver='liblinear', tol=0.0001,\n",
       "          verbose=0, warm_start=False)"
      ]
     },
     "execution_count": 91,
     "metadata": {},
     "output_type": "execute_result"
    }
   ],
   "source": [
    "lrtradpitch.fit(X_train,y_train)"
   ]
  },
  {
   "cell_type": "code",
   "execution_count": 92,
   "metadata": {},
   "outputs": [
    {
     "data": {
      "text/plain": [
       "0.96"
      ]
     },
     "execution_count": 92,
     "metadata": {},
     "output_type": "execute_result"
    }
   ],
   "source": [
    "y_pred=lrtradpitch.predict(X_test)\n",
    "accuracy_score(y_test,y_pred)"
   ]
  },
  {
   "cell_type": "code",
   "execution_count": 93,
   "metadata": {},
   "outputs": [
    {
     "data": {
      "text/plain": [
       "0    0.88\n",
       "1    0.12\n",
       "Name: HoF, dtype: float64"
      ]
     },
     "execution_count": 93,
     "metadata": {},
     "output_type": "execute_result"
    }
   ],
   "source": [
    "y_test.value_counts(normalize=True)"
   ]
  },
  {
   "cell_type": "markdown",
   "metadata": {},
   "source": [
    "Our untuned Logistic Regression model performs __8% better__ on the testing data than our null baseline."
   ]
  },
  {
   "cell_type": "code",
   "execution_count": 94,
   "metadata": {},
   "outputs": [
    {
     "name": "stdout",
     "output_type": "stream",
     "text": [
      "5 0.9257142857142858\n",
      "6 0.9327350427350427\n",
      "7 0.9192022263450835\n",
      "8 0.9195175438596491\n",
      "9 0.9317356572258534\n",
      "10 0.9246153846153847\n",
      "11 0.9253246753246753\n",
      "12 0.9324009324009322\n"
     ]
    }
   ],
   "source": [
    "results=[]\n",
    "for num in range(5,13):\n",
    "    result= np.mean(cross_val_score(lrtradpitch,X_train,y_train, cv=num, scoring='accuracy'))\n",
    "    print(num,result)\n",
    "    results.append([num,result])"
   ]
  },
  {
   "cell_type": "markdown",
   "metadata": {},
   "source": [
    "We use __cv=6__ for the GridSearch."
   ]
  },
  {
   "cell_type": "code",
   "execution_count": 362,
   "metadata": {},
   "outputs": [],
   "source": [
    "lrtradpitch=LogisticRegression(random_state=1)\n",
    "\n",
    "parameters = {\n",
    "    'C': [0.001, 0.01, 0.1, 1, 10, 100, 1000]\n",
    "}\n",
    "\n",
    "clf=GridSearchCV(lrtradpitch, parameters, cv=6, scoring='accuracy',verbose=1)"
   ]
  },
  {
   "cell_type": "code",
   "execution_count": 363,
   "metadata": {},
   "outputs": [
    {
     "name": "stdout",
     "output_type": "stream",
     "text": [
      "Fitting 6 folds for each of 7 candidates, totalling 42 fits\n"
     ]
    },
    {
     "name": "stderr",
     "output_type": "stream",
     "text": [
      "[Parallel(n_jobs=1)]: Done  42 out of  42 | elapsed:    0.2s finished\n"
     ]
    },
    {
     "data": {
      "text/plain": [
       "GridSearchCV(cv=6, error_score='raise',\n",
       "       estimator=LogisticRegression(C=1.0, class_weight=None, dual=False, fit_intercept=True,\n",
       "          intercept_scaling=1, max_iter=100, multi_class='ovr', n_jobs=1,\n",
       "          penalty='l2', random_state=1, solver='liblinear', tol=0.0001,\n",
       "          verbose=0, warm_start=False),\n",
       "       fit_params=None, iid=True, n_jobs=1,\n",
       "       param_grid={'C': [0.001, 0.01, 0.1, 1, 10, 100, 1000]},\n",
       "       pre_dispatch='2*n_jobs', refit=True, return_train_score='warn',\n",
       "       scoring='accuracy', verbose=1)"
      ]
     },
     "execution_count": 363,
     "metadata": {},
     "output_type": "execute_result"
    }
   ],
   "source": [
    "clf.fit(X_train,y_train)"
   ]
  },
  {
   "cell_type": "code",
   "execution_count": 364,
   "metadata": {},
   "outputs": [
    {
     "name": "stdout",
     "output_type": "stream",
     "text": [
      "{'C': 100}\n",
      "0.9594594594594594\n"
     ]
    }
   ],
   "source": [
    "print(clf.best_params_)\n",
    "print(clf.best_score_)"
   ]
  },
  {
   "cell_type": "markdown",
   "metadata": {},
   "source": [
    "Our best parameter for __C__ is __100__, and our best cross-validation score is __95.9%__."
   ]
  },
  {
   "cell_type": "code",
   "execution_count": 95,
   "metadata": {},
   "outputs": [
    {
     "data": {
      "text/plain": [
       "LogisticRegression(C=100, class_weight=None, dual=False, fit_intercept=True,\n",
       "          intercept_scaling=1, max_iter=100, multi_class='ovr', n_jobs=1,\n",
       "          penalty='l2', random_state=1, solver='liblinear', tol=0.0001,\n",
       "          verbose=0, warm_start=False)"
      ]
     },
     "execution_count": 95,
     "metadata": {},
     "output_type": "execute_result"
    }
   ],
   "source": [
    "lrtradpitch=LogisticRegression(random_state=1, C=100)\n",
    "lrtradpitch.fit(X_train,y_train)"
   ]
  },
  {
   "cell_type": "code",
   "execution_count": 96,
   "metadata": {},
   "outputs": [
    {
     "data": {
      "text/plain": [
       "0.96"
      ]
     },
     "execution_count": 96,
     "metadata": {},
     "output_type": "execute_result"
    }
   ],
   "source": [
    "y_pred=lrtradpitch.predict(X_test)\n",
    "lrtradpitch.score(X_test,y_test)"
   ]
  },
  {
   "cell_type": "code",
   "execution_count": 97,
   "metadata": {},
   "outputs": [
    {
     "data": {
      "text/plain": [
       "0    0.88\n",
       "1    0.12\n",
       "Name: HoF, dtype: float64"
      ]
     },
     "execution_count": 97,
     "metadata": {},
     "output_type": "execute_result"
    }
   ],
   "source": [
    "y_test.value_counts(normalize=True)"
   ]
  },
  {
   "cell_type": "code",
   "execution_count": 98,
   "metadata": {},
   "outputs": [
    {
     "data": {
      "text/plain": [
       "Text(0.5,8.74,'Predicted label')"
      ]
     },
     "execution_count": 98,
     "metadata": {},
     "output_type": "execute_result"
    },
    {
     "data": {
      "image/png": "[encoded data removed]",
      "text/plain": [
       "<Figure size 576x432 with 2 Axes>"
      ]
     },
     "metadata": {},
     "output_type": "display_data"
    }
   ],
   "source": [
    "cm = confusion_matrix(y_test, y_pred)\n",
    "\n",
    "sns.heatmap(cm, annot=True, fmt=\"d\", linewidths=.5)\n",
    "\n",
    "plt.ylabel('True label')\n",
    "plt.xlabel('Predicted label')"
   ]
  },
  {
   "cell_type": "markdown",
   "metadata": {},
   "source": [
    "In this case, our accuracy score on the testing data sits at __96%__, which is __8%__ better than our null baseline, but not better than the __98%__ achieved by our Random Forest model, and our best cross-validation score of __95.9%__ does not best the __97.3%__ for our Random Forest model.\n",
    "\n",
    "__Note:__ Along with this set of features (the top 4 from our earlier correlation matrix), I tried every combination of ASG/W/SHO (since shutouts were a close 5th in our correlation matrix, and strongly 3rd in the above feature importances) with strikeouts, innings pitched, winning percentage, and earned runs, and __none of them performed better in cross-validation than the 97.3% exhibited with our Random Forest model__.\n",
    "\n",
    "__Therefore, as with our hitting model, we will use the Random Forest pitching model built from traditional statistics to test against a similar model built from the advanced ones.__"
   ]
  },
  {
   "cell_type": "markdown",
   "metadata": {},
   "source": [
    "# Testing Advanced Stats Models Against Our Traditional Ones"
   ]
  },
  {
   "cell_type": "markdown",
   "metadata": {},
   "source": [
    "__Process (for both advanced hitting and advanced pitching statistics):__\n",
    "\n",
    "__1.__ We first throw our advanced features into the Random Forest models we built around our traditional statistics.  It is assumed they won't perform as well on those statistics.\n",
    "\n",
    "__2.__ We then try to build new Random Forest models around our advanced statistics, and see __whether they do a better job of predicting who gets voted into the Hall of Fame than our traditional models did.__\n",
    "\n",
    "__________________________________________________________________________________________"
   ]
  },
  {
   "cell_type": "markdown",
   "metadata": {},
   "source": [
    "__1. Advanced Hitting Features in Traditional Model__"
   ]
  },
  {
   "cell_type": "code",
   "execution_count": 99,
   "metadata": {},
   "outputs": [],
   "source": [
    "feature_cols=['WAR','JAWS','WAR7','OPS+']\n",
    "X=hit[feature_cols]\n",
    "y=hit['HoF']\n",
    "\n",
    "X_train,X_test,y_train,y_test = train_test_split(X,y, random_state=1)"
   ]
  },
  {
   "cell_type": "code",
   "execution_count": 100,
   "metadata": {},
   "outputs": [
    {
     "data": {
      "text/plain": [
       "RandomForestClassifier(bootstrap=True, class_weight=None, criterion='gini',\n",
       "            max_depth=6, max_features=4, max_leaf_nodes=None,\n",
       "            min_impurity_decrease=0.0, min_impurity_split=None,\n",
       "            min_samples_leaf=1, min_samples_split=2,\n",
       "            min_weight_fraction_leaf=0.0, n_estimators=9, n_jobs=1,\n",
       "            oob_score=False, random_state=1, verbose=0, warm_start=False)"
      ]
     },
     "execution_count": 100,
     "metadata": {},
     "output_type": "execute_result"
    }
   ],
   "source": [
    "rftradhit=RandomForestClassifier(n_estimators=9, max_depth=6,max_features=4, random_state=1)\n",
    "rftradhit.fit(X_train,y_train)"
   ]
  },
  {
   "cell_type": "code",
   "execution_count": 101,
   "metadata": {},
   "outputs": [
    {
     "data": {
      "text/html": [
       "<div>\n",
       "<style scoped>\n",
       "    .dataframe tbody tr th:only-of-type {\n",
       "        vertical-align: middle;\n",
       "    }\n",
       "\n",
       "    .dataframe tbody tr th {\n",
       "        vertical-align: top;\n",
       "    }\n",
       "\n",
       "    .dataframe thead th {\n",
       "        text-align: right;\n",
       "    }\n",
       "</style>\n",
       "<table border=\"1\" class=\"dataframe\">\n",
       "  <thead>\n",
       "    <tr style=\"text-align: right;\">\n",
       "      <th></th>\n",
       "      <th>feature</th>\n",
       "      <th>importance</th>\n",
       "    </tr>\n",
       "  </thead>\n",
       "  <tbody>\n",
       "    <tr>\n",
       "      <th>0</th>\n",
       "      <td>WAR</td>\n",
       "      <td>0.497089</td>\n",
       "    </tr>\n",
       "    <tr>\n",
       "      <th>1</th>\n",
       "      <td>JAWS</td>\n",
       "      <td>0.347719</td>\n",
       "    </tr>\n",
       "    <tr>\n",
       "      <th>3</th>\n",
       "      <td>OPS+</td>\n",
       "      <td>0.090335</td>\n",
       "    </tr>\n",
       "    <tr>\n",
       "      <th>2</th>\n",
       "      <td>WAR7</td>\n",
       "      <td>0.064856</td>\n",
       "    </tr>\n",
       "  </tbody>\n",
       "</table>\n",
       "</div>"
      ],
      "text/plain": [
       "  feature  importance\n",
       "0     WAR    0.497089\n",
       "1    JAWS    0.347719\n",
       "3    OPS+    0.090335\n",
       "2    WAR7    0.064856"
      ]
     },
     "execution_count": 101,
     "metadata": {},
     "output_type": "execute_result"
    }
   ],
   "source": [
    "pd.DataFrame({'feature': feature_cols, 'importance':rftradhit.feature_importances_}).sort_values(by='importance', ascending=False)"
   ]
  },
  {
   "cell_type": "code",
   "execution_count": 102,
   "metadata": {},
   "outputs": [
    {
     "data": {
      "text/plain": [
       "0.9274193548387096"
      ]
     },
     "execution_count": 102,
     "metadata": {},
     "output_type": "execute_result"
    }
   ],
   "source": [
    "y_pred=rftradhit.predict(X_test)\n",
    "rftradhit.score(X_test,y_test)"
   ]
  },
  {
   "cell_type": "code",
   "execution_count": 103,
   "metadata": {},
   "outputs": [
    {
     "data": {
      "text/plain": [
       "0    0.879032\n",
       "1    0.120968\n",
       "Name: HoF, dtype: float64"
      ]
     },
     "execution_count": 103,
     "metadata": {},
     "output_type": "execute_result"
    }
   ],
   "source": [
    "y_test.value_counts(normalize=True)"
   ]
  },
  {
   "cell_type": "code",
   "execution_count": 104,
   "metadata": {},
   "outputs": [
    {
     "data": {
      "text/plain": [
       "Text(0.5,8.74,'Predicted label')"
      ]
     },
     "execution_count": 104,
     "metadata": {},
     "output_type": "execute_result"
    },
    {
     "data": {
      "image/png": "[encoded data removed]",
      "text/plain": [
       "<Figure size 576x432 with 2 Axes>"
      ]
     },
     "metadata": {},
     "output_type": "display_data"
    }
   ],
   "source": [
    "cm = confusion_matrix(y_test, y_pred)\n",
    "\n",
    "sns.heatmap(cm, annot=True, fmt=\"d\", linewidths=.5)\n",
    "\n",
    "plt.ylabel('True label')\n",
    "plt.xlabel('Predicted label')"
   ]
  },
  {
   "cell_type": "markdown",
   "metadata": {},
   "source": [
    "As expected, these features inserted into our traditional Random Forest hitting model don't do a great job of predicting Hall of Famers. However, we'll now try to build a new Random Forest model around these features and see how it does."
   ]
  },
  {
   "cell_type": "markdown",
   "metadata": {},
   "source": [
    "__2. Advanced Hitting Model__"
   ]
  },
  {
   "cell_type": "code",
   "execution_count": 105,
   "metadata": {},
   "outputs": [],
   "source": [
    "feature_cols=['WAR','JAWS','WAR7','OPS+']\n",
    "X=hit[feature_cols]\n",
    "y=hit['HoF']\n",
    "\n",
    "X_train,X_test,y_train,y_test = train_test_split(X,y, random_state=1)"
   ]
  },
  {
   "cell_type": "code",
   "execution_count": 106,
   "metadata": {},
   "outputs": [],
   "source": [
    "ADVhit=RandomForestClassifier(max_features=4, random_state=1)"
   ]
  },
  {
   "cell_type": "code",
   "execution_count": 107,
   "metadata": {},
   "outputs": [
    {
     "data": {
      "text/plain": [
       "RandomForestClassifier(bootstrap=True, class_weight=None, criterion='gini',\n",
       "            max_depth=None, max_features=4, max_leaf_nodes=None,\n",
       "            min_impurity_decrease=0.0, min_impurity_split=None,\n",
       "            min_samples_leaf=1, min_samples_split=2,\n",
       "            min_weight_fraction_leaf=0.0, n_estimators=10, n_jobs=1,\n",
       "            oob_score=False, random_state=1, verbose=0, warm_start=False)"
      ]
     },
     "execution_count": 107,
     "metadata": {},
     "output_type": "execute_result"
    }
   ],
   "source": [
    "ADVhit.fit(X_train,y_train)"
   ]
  },
  {
   "cell_type": "code",
   "execution_count": 108,
   "metadata": {},
   "outputs": [
    {
     "data": {
      "text/plain": [
       "0.9435483870967742"
      ]
     },
     "execution_count": 108,
     "metadata": {},
     "output_type": "execute_result"
    }
   ],
   "source": [
    "y_pred=ADVhit.predict(X_test)\n",
    "accuracy_score(y_test,y_pred)"
   ]
  },
  {
   "cell_type": "code",
   "execution_count": 109,
   "metadata": {},
   "outputs": [
    {
     "data": {
      "text/plain": [
       "0    0.879032\n",
       "1    0.120968\n",
       "Name: HoF, dtype: float64"
      ]
     },
     "execution_count": 109,
     "metadata": {},
     "output_type": "execute_result"
    }
   ],
   "source": [
    "y_test.value_counts(normalize=True) "
   ]
  },
  {
   "cell_type": "markdown",
   "metadata": {},
   "source": [
    "The accuracy score for our relatively untuned advanced hitter model is __6.4% better__ than the baseline, as was the case before we tuned our traditional model as well."
   ]
  },
  {
   "cell_type": "code",
   "execution_count": 110,
   "metadata": {},
   "outputs": [
    {
     "name": "stdout",
     "output_type": "stream",
     "text": [
      "5 0.9247518203134641\n",
      "6 0.9138861608454416\n",
      "7 0.9113007886592793\n",
      "8 0.9192780604378662\n",
      "9 0.9246806039488966\n",
      "10 0.9086691955113008\n",
      "11 0.9192847593582887\n",
      "12 0.9169466845878137\n"
     ]
    }
   ],
   "source": [
    "results=[]\n",
    "for num in range(5,13):\n",
    "    result= np.mean(cross_val_score(ADVhit,X_train,y_train, cv=num, scoring='accuracy'))\n",
    "    print(num,result)\n",
    "    results.append([num,result])"
   ]
  },
  {
   "cell_type": "markdown",
   "metadata": {},
   "source": [
    "We will use __cv=5__, since that fares the best above."
   ]
  },
  {
   "cell_type": "code",
   "execution_count": 396,
   "metadata": {},
   "outputs": [],
   "source": [
    "ADVhit=RandomForestClassifier(random_state=1,max_features=4)\n",
    "\n",
    "parameters = {\n",
    "    'max_depth': range(1,13),\n",
    "    'n_estimators': range(1,101)\n",
    "}\n",
    "\n",
    "clf=GridSearchCV(ADVhit, parameters, cv=5, scoring='accuracy',verbose=1)"
   ]
  },
  {
   "cell_type": "code",
   "execution_count": 397,
   "metadata": {},
   "outputs": [
    {
     "name": "stdout",
     "output_type": "stream",
     "text": [
      "Fitting 5 folds for each of 1200 candidates, totalling 6000 fits\n"
     ]
    },
    {
     "name": "stderr",
     "output_type": "stream",
     "text": [
      "[Parallel(n_jobs=1)]: Done 6000 out of 6000 | elapsed:  7.5min finished\n"
     ]
    },
    {
     "data": {
      "text/plain": [
       "GridSearchCV(cv=5, error_score='raise',\n",
       "       estimator=RandomForestClassifier(bootstrap=True, class_weight=None, criterion='gini',\n",
       "            max_depth=None, max_features=4, max_leaf_nodes=None,\n",
       "            min_impurity_decrease=0.0, min_impurity_split=None,\n",
       "            min_samples_leaf=1, min_samples_split=2,\n",
       "            min_weight_fraction_leaf=0.0, n_estimators=10, n_jobs=1,\n",
       "            oob_score=False, random_state=1, verbose=0, warm_start=False),\n",
       "       fit_params=None, iid=True, n_jobs=1,\n",
       "       param_grid={'max_depth': range(1, 13), 'n_estimators': range(1, 101)},\n",
       "       pre_dispatch='2*n_jobs', refit=True, return_train_score='warn',\n",
       "       scoring='accuracy', verbose=1)"
      ]
     },
     "execution_count": 397,
     "metadata": {},
     "output_type": "execute_result"
    }
   ],
   "source": [
    "clf.fit(X_train,y_train)"
   ]
  },
  {
   "cell_type": "code",
   "execution_count": 398,
   "metadata": {},
   "outputs": [
    {
     "name": "stdout",
     "output_type": "stream",
     "text": [
      "{'max_depth': 1, 'n_estimators': 10}\n",
      "0.9354838709677419\n"
     ]
    }
   ],
   "source": [
    "print(clf.best_params_)\n",
    "print(clf.best_score_)"
   ]
  },
  {
   "cell_type": "code",
   "execution_count": 111,
   "metadata": {},
   "outputs": [
    {
     "data": {
      "text/plain": [
       "RandomForestClassifier(bootstrap=True, class_weight=None, criterion='gini',\n",
       "            max_depth=1, max_features=4, max_leaf_nodes=None,\n",
       "            min_impurity_decrease=0.0, min_impurity_split=None,\n",
       "            min_samples_leaf=1, min_samples_split=2,\n",
       "            min_weight_fraction_leaf=0.0, n_estimators=10, n_jobs=1,\n",
       "            oob_score=False, random_state=1, verbose=0, warm_start=False)"
      ]
     },
     "execution_count": 111,
     "metadata": {},
     "output_type": "execute_result"
    }
   ],
   "source": [
    "ADVhit=RandomForestClassifier(n_estimators=10, max_depth=1,max_features=4, random_state=1)\n",
    "ADVhit.fit(X_train,y_train)"
   ]
  },
  {
   "cell_type": "code",
   "execution_count": 112,
   "metadata": {},
   "outputs": [
    {
     "data": {
      "text/html": [
       "<div>\n",
       "<style scoped>\n",
       "    .dataframe tbody tr th:only-of-type {\n",
       "        vertical-align: middle;\n",
       "    }\n",
       "\n",
       "    .dataframe tbody tr th {\n",
       "        vertical-align: top;\n",
       "    }\n",
       "\n",
       "    .dataframe thead th {\n",
       "        text-align: right;\n",
       "    }\n",
       "</style>\n",
       "<table border=\"1\" class=\"dataframe\">\n",
       "  <thead>\n",
       "    <tr style=\"text-align: right;\">\n",
       "      <th></th>\n",
       "      <th>feature</th>\n",
       "      <th>importance</th>\n",
       "    </tr>\n",
       "  </thead>\n",
       "  <tbody>\n",
       "    <tr>\n",
       "      <th>0</th>\n",
       "      <td>WAR</td>\n",
       "      <td>0.6</td>\n",
       "    </tr>\n",
       "    <tr>\n",
       "      <th>1</th>\n",
       "      <td>JAWS</td>\n",
       "      <td>0.4</td>\n",
       "    </tr>\n",
       "    <tr>\n",
       "      <th>2</th>\n",
       "      <td>WAR7</td>\n",
       "      <td>0.0</td>\n",
       "    </tr>\n",
       "    <tr>\n",
       "      <th>3</th>\n",
       "      <td>OPS+</td>\n",
       "      <td>0.0</td>\n",
       "    </tr>\n",
       "  </tbody>\n",
       "</table>\n",
       "</div>"
      ],
      "text/plain": [
       "  feature  importance\n",
       "0     WAR         0.6\n",
       "1    JAWS         0.4\n",
       "2    WAR7         0.0\n",
       "3    OPS+         0.0"
      ]
     },
     "execution_count": 112,
     "metadata": {},
     "output_type": "execute_result"
    }
   ],
   "source": [
    "pd.DataFrame({'feature': feature_cols, 'importance':ADVhit.feature_importances_}).sort_values(by='importance', ascending=False)"
   ]
  },
  {
   "cell_type": "code",
   "execution_count": 113,
   "metadata": {},
   "outputs": [
    {
     "data": {
      "text/plain": [
       "0.9435483870967742"
      ]
     },
     "execution_count": 113,
     "metadata": {},
     "output_type": "execute_result"
    }
   ],
   "source": [
    "y_pred=ADVhit.predict(X_test)\n",
    "ADVhit.score(X_test,y_test)"
   ]
  },
  {
   "cell_type": "code",
   "execution_count": 114,
   "metadata": {},
   "outputs": [
    {
     "data": {
      "text/plain": [
       "0    0.879032\n",
       "1    0.120968\n",
       "Name: HoF, dtype: float64"
      ]
     },
     "execution_count": 114,
     "metadata": {},
     "output_type": "execute_result"
    }
   ],
   "source": [
    "y_test.value_counts(normalize=True)"
   ]
  },
  {
   "cell_type": "code",
   "execution_count": 115,
   "metadata": {},
   "outputs": [
    {
     "data": {
      "text/plain": [
       "Text(0.5,8.74,'Predicted label')"
      ]
     },
     "execution_count": 115,
     "metadata": {},
     "output_type": "execute_result"
    },
    {
     "data": {
      "image/png": "[encoded data removed]",
      "text/plain": [
       "<Figure size 576x432 with 2 Axes>"
      ]
     },
     "metadata": {},
     "output_type": "display_data"
    }
   ],
   "source": [
    "cm = confusion_matrix(y_test, y_pred)\n",
    "\n",
    "sns.heatmap(cm, annot=True, fmt=\"d\", linewidths=.5)\n",
    "\n",
    "plt.ylabel('True label')\n",
    "plt.xlabel('Predicted label')"
   ]
  },
  {
   "cell_type": "markdown",
   "metadata": {},
   "source": [
    "Even with the best parameters (__max_depth=1, n_estimators=10__), our best cross-validation score is only __93.5%__ (compared with __95.7%__ when we tuned our traditional model), and our testing accuracy score of __94.3%__ is worse than the __96%__ in our traditional model."
   ]
  },
  {
   "cell_type": "code",
   "execution_count": 116,
   "metadata": {},
   "outputs": [
    {
     "name": "stderr",
     "output_type": "stream",
     "text": [
      "/Users/leemac113/anaconda3/lib/python3.6/site-packages/ipykernel_launcher.py:1: SettingWithCopyWarning: \n",
      "A value is trying to be set on a copy of a slice from a DataFrame.\n",
      "Try using .loc[row_indexer,col_indexer] = value instead\n",
      "\n",
      "See the caveats in the documentation: http://pandas.pydata.org/pandas-docs/stable/indexing.html#indexing-view-versus-copy\n",
      "  \"\"\"Entry point for launching an IPython kernel.\n"
     ]
    }
   ],
   "source": [
    "X_test['HoF_prob']=ADVhit.predict_proba(X_test)[:,1]"
   ]
  },
  {
   "cell_type": "code",
   "execution_count": 117,
   "metadata": {},
   "outputs": [],
   "source": [
    "HoF_test=pd.concat([hit['HoF'],X_test['HoF_prob']],axis=1, join='inner')"
   ]
  },
  {
   "cell_type": "code",
   "execution_count": 118,
   "metadata": {},
   "outputs": [
    {
     "data": {
      "text/html": [
       "<div>\n",
       "<style scoped>\n",
       "    .dataframe tbody tr th:only-of-type {\n",
       "        vertical-align: middle;\n",
       "    }\n",
       "\n",
       "    .dataframe tbody tr th {\n",
       "        vertical-align: top;\n",
       "    }\n",
       "\n",
       "    .dataframe thead th {\n",
       "        text-align: right;\n",
       "    }\n",
       "</style>\n",
       "<table border=\"1\" class=\"dataframe\">\n",
       "  <thead>\n",
       "    <tr style=\"text-align: right;\">\n",
       "      <th></th>\n",
       "      <th>HoF</th>\n",
       "      <th>HoF_prob</th>\n",
       "    </tr>\n",
       "    <tr>\n",
       "      <th>Name</th>\n",
       "      <th></th>\n",
       "      <th></th>\n",
       "    </tr>\n",
       "  </thead>\n",
       "  <tbody>\n",
       "    <tr>\n",
       "      <th>Mickey Mantle</th>\n",
       "      <td>1</td>\n",
       "      <td>0.801507</td>\n",
       "    </tr>\n",
       "    <tr>\n",
       "      <th>Al Kaline</th>\n",
       "      <td>1</td>\n",
       "      <td>0.801507</td>\n",
       "    </tr>\n",
       "    <tr>\n",
       "      <th>Brooks Robinson</th>\n",
       "      <td>1</td>\n",
       "      <td>0.801507</td>\n",
       "    </tr>\n",
       "    <tr>\n",
       "      <th>Eddie Mathews</th>\n",
       "      <td>1</td>\n",
       "      <td>0.801507</td>\n",
       "    </tr>\n",
       "    <tr>\n",
       "      <th>Rod Carew</th>\n",
       "      <td>1</td>\n",
       "      <td>0.801507</td>\n",
       "    </tr>\n",
       "    <tr>\n",
       "      <th>Cal Ripken</th>\n",
       "      <td>1</td>\n",
       "      <td>0.801507</td>\n",
       "    </tr>\n",
       "    <tr>\n",
       "      <th>Mike Schmidt</th>\n",
       "      <td>1</td>\n",
       "      <td>0.801507</td>\n",
       "    </tr>\n",
       "    <tr>\n",
       "      <th>Robin Yount</th>\n",
       "      <td>1</td>\n",
       "      <td>0.801507</td>\n",
       "    </tr>\n",
       "    <tr>\n",
       "      <th>Ryne Sandberg</th>\n",
       "      <td>1</td>\n",
       "      <td>0.717138</td>\n",
       "    </tr>\n",
       "    <tr>\n",
       "      <th>Alan Trammell</th>\n",
       "      <td>0</td>\n",
       "      <td>0.717138</td>\n",
       "    </tr>\n",
       "    <tr>\n",
       "      <th>Gary Carter</th>\n",
       "      <td>1</td>\n",
       "      <td>0.717138</td>\n",
       "    </tr>\n",
       "    <tr>\n",
       "      <th>Tim Raines</th>\n",
       "      <td>1</td>\n",
       "      <td>0.634912</td>\n",
       "    </tr>\n",
       "    <tr>\n",
       "      <th>Richie Ashburn</th>\n",
       "      <td>0</td>\n",
       "      <td>0.634912</td>\n",
       "    </tr>\n",
       "    <tr>\n",
       "      <th>Rafael Palmeiro</th>\n",
       "      <td>0</td>\n",
       "      <td>0.634912</td>\n",
       "    </tr>\n",
       "    <tr>\n",
       "      <th>Willie Randolph</th>\n",
       "      <td>0</td>\n",
       "      <td>0.399905</td>\n",
       "    </tr>\n",
       "    <tr>\n",
       "      <th>Vladimir Guerrero</th>\n",
       "      <td>1</td>\n",
       "      <td>0.175813</td>\n",
       "    </tr>\n",
       "    <tr>\n",
       "      <th>Mike Piazza</th>\n",
       "      <td>1</td>\n",
       "      <td>0.175813</td>\n",
       "    </tr>\n",
       "    <tr>\n",
       "      <th>Joe Gordon</th>\n",
       "      <td>0</td>\n",
       "      <td>0.099981</td>\n",
       "    </tr>\n",
       "    <tr>\n",
       "      <th>Johnny Damon</th>\n",
       "      <td>0</td>\n",
       "      <td>0.099981</td>\n",
       "    </tr>\n",
       "    <tr>\n",
       "      <th>John Olerud</th>\n",
       "      <td>0</td>\n",
       "      <td>0.099981</td>\n",
       "    </tr>\n",
       "    <tr>\n",
       "      <th>Enos Slaughter</th>\n",
       "      <td>0</td>\n",
       "      <td>0.099981</td>\n",
       "    </tr>\n",
       "    <tr>\n",
       "      <th>Joe Torre</th>\n",
       "      <td>0</td>\n",
       "      <td>0.099981</td>\n",
       "    </tr>\n",
       "    <tr>\n",
       "      <th>Willie Stargell</th>\n",
       "      <td>1</td>\n",
       "      <td>0.099981</td>\n",
       "    </tr>\n",
       "    <tr>\n",
       "      <th>Ron Cey</th>\n",
       "      <td>0</td>\n",
       "      <td>0.099981</td>\n",
       "    </tr>\n",
       "    <tr>\n",
       "      <th>Del Ennis</th>\n",
       "      <td>0</td>\n",
       "      <td>0.026010</td>\n",
       "    </tr>\n",
       "    <tr>\n",
       "      <th>Augie Galan</th>\n",
       "      <td>0</td>\n",
       "      <td>0.026010</td>\n",
       "    </tr>\n",
       "    <tr>\n",
       "      <th>Darin Erstad</th>\n",
       "      <td>0</td>\n",
       "      <td>0.026010</td>\n",
       "    </tr>\n",
       "    <tr>\n",
       "      <th>Devon White</th>\n",
       "      <td>0</td>\n",
       "      <td>0.026010</td>\n",
       "    </tr>\n",
       "    <tr>\n",
       "      <th>Lou Piniella</th>\n",
       "      <td>0</td>\n",
       "      <td>0.026010</td>\n",
       "    </tr>\n",
       "    <tr>\n",
       "      <th>Larry Stahl</th>\n",
       "      <td>0</td>\n",
       "      <td>0.026010</td>\n",
       "    </tr>\n",
       "    <tr>\n",
       "      <th>...</th>\n",
       "      <td>...</td>\n",
       "      <td>...</td>\n",
       "    </tr>\n",
       "    <tr>\n",
       "      <th>Rick Dempsey</th>\n",
       "      <td>0</td>\n",
       "      <td>0.026010</td>\n",
       "    </tr>\n",
       "    <tr>\n",
       "      <th>Terry Steinbach</th>\n",
       "      <td>0</td>\n",
       "      <td>0.026010</td>\n",
       "    </tr>\n",
       "    <tr>\n",
       "      <th>Rich Dauer</th>\n",
       "      <td>0</td>\n",
       "      <td>0.026010</td>\n",
       "    </tr>\n",
       "    <tr>\n",
       "      <th>Bobby Richardson</th>\n",
       "      <td>0</td>\n",
       "      <td>0.026010</td>\n",
       "    </tr>\n",
       "    <tr>\n",
       "      <th>B.J. Surhoff</th>\n",
       "      <td>0</td>\n",
       "      <td>0.026010</td>\n",
       "    </tr>\n",
       "    <tr>\n",
       "      <th>Billy Martin</th>\n",
       "      <td>0</td>\n",
       "      <td>0.026010</td>\n",
       "    </tr>\n",
       "    <tr>\n",
       "      <th>Rondell White</th>\n",
       "      <td>0</td>\n",
       "      <td>0.026010</td>\n",
       "    </tr>\n",
       "    <tr>\n",
       "      <th>Moises Alou</th>\n",
       "      <td>0</td>\n",
       "      <td>0.026010</td>\n",
       "    </tr>\n",
       "    <tr>\n",
       "      <th>Pat Burrell</th>\n",
       "      <td>0</td>\n",
       "      <td>0.026010</td>\n",
       "    </tr>\n",
       "    <tr>\n",
       "      <th>Carlos Lee</th>\n",
       "      <td>0</td>\n",
       "      <td>0.026010</td>\n",
       "    </tr>\n",
       "    <tr>\n",
       "      <th>Frankie Crosetti</th>\n",
       "      <td>0</td>\n",
       "      <td>0.026010</td>\n",
       "    </tr>\n",
       "    <tr>\n",
       "      <th>Paul Lo Duca</th>\n",
       "      <td>0</td>\n",
       "      <td>0.026010</td>\n",
       "    </tr>\n",
       "    <tr>\n",
       "      <th>Al Dark</th>\n",
       "      <td>0</td>\n",
       "      <td>0.026010</td>\n",
       "    </tr>\n",
       "    <tr>\n",
       "      <th>Maury Wills</th>\n",
       "      <td>0</td>\n",
       "      <td>0.026010</td>\n",
       "    </tr>\n",
       "    <tr>\n",
       "      <th>Leo Cardenas</th>\n",
       "      <td>0</td>\n",
       "      <td>0.026010</td>\n",
       "    </tr>\n",
       "    <tr>\n",
       "      <th>Don Kessinger</th>\n",
       "      <td>0</td>\n",
       "      <td>0.026010</td>\n",
       "    </tr>\n",
       "    <tr>\n",
       "      <th>Rick Burleson</th>\n",
       "      <td>0</td>\n",
       "      <td>0.026010</td>\n",
       "    </tr>\n",
       "    <tr>\n",
       "      <th>Dave Concepcion</th>\n",
       "      <td>0</td>\n",
       "      <td>0.026010</td>\n",
       "    </tr>\n",
       "    <tr>\n",
       "      <th>Hubie Brooks</th>\n",
       "      <td>0</td>\n",
       "      <td>0.026010</td>\n",
       "    </tr>\n",
       "    <tr>\n",
       "      <th>Jay Bell</th>\n",
       "      <td>0</td>\n",
       "      <td>0.026010</td>\n",
       "    </tr>\n",
       "    <tr>\n",
       "      <th>Orlando Cabrera</th>\n",
       "      <td>0</td>\n",
       "      <td>0.026010</td>\n",
       "    </tr>\n",
       "    <tr>\n",
       "      <th>Grady Hatton</th>\n",
       "      <td>0</td>\n",
       "      <td>0.026010</td>\n",
       "    </tr>\n",
       "    <tr>\n",
       "      <th>Bill Melton</th>\n",
       "      <td>0</td>\n",
       "      <td>0.026010</td>\n",
       "    </tr>\n",
       "    <tr>\n",
       "      <th>Bob Bailey</th>\n",
       "      <td>0</td>\n",
       "      <td>0.026010</td>\n",
       "    </tr>\n",
       "    <tr>\n",
       "      <th>Toby Harrah</th>\n",
       "      <td>0</td>\n",
       "      <td>0.026010</td>\n",
       "    </tr>\n",
       "    <tr>\n",
       "      <th>Gary Gaetti</th>\n",
       "      <td>0</td>\n",
       "      <td>0.026010</td>\n",
       "    </tr>\n",
       "    <tr>\n",
       "      <th>Travis Fryman</th>\n",
       "      <td>0</td>\n",
       "      <td>0.026010</td>\n",
       "    </tr>\n",
       "    <tr>\n",
       "      <th>Phil Nevin</th>\n",
       "      <td>0</td>\n",
       "      <td>0.026010</td>\n",
       "    </tr>\n",
       "    <tr>\n",
       "      <th>Casey Blake</th>\n",
       "      <td>0</td>\n",
       "      <td>0.026010</td>\n",
       "    </tr>\n",
       "    <tr>\n",
       "      <th>Jimmy Stewart</th>\n",
       "      <td>0</td>\n",
       "      <td>0.026010</td>\n",
       "    </tr>\n",
       "  </tbody>\n",
       "</table>\n",
       "<p>124 rows × 2 columns</p>\n",
       "</div>"
      ],
      "text/plain": [
       "                   HoF  HoF_prob\n",
       "Name                            \n",
       "Mickey Mantle        1  0.801507\n",
       "Al Kaline            1  0.801507\n",
       "Brooks Robinson      1  0.801507\n",
       "Eddie Mathews        1  0.801507\n",
       "Rod Carew            1  0.801507\n",
       "Cal Ripken           1  0.801507\n",
       "Mike Schmidt         1  0.801507\n",
       "Robin Yount          1  0.801507\n",
       "Ryne Sandberg        1  0.717138\n",
       "Alan Trammell        0  0.717138\n",
       "Gary Carter          1  0.717138\n",
       "Tim Raines           1  0.634912\n",
       "Richie Ashburn       0  0.634912\n",
       "Rafael Palmeiro      0  0.634912\n",
       "Willie Randolph      0  0.399905\n",
       "Vladimir Guerrero    1  0.175813\n",
       "Mike Piazza          1  0.175813\n",
       "Joe Gordon           0  0.099981\n",
       "Johnny Damon         0  0.099981\n",
       "John Olerud          0  0.099981\n",
       "Enos Slaughter       0  0.099981\n",
       "Joe Torre            0  0.099981\n",
       "Willie Stargell      1  0.099981\n",
       "Ron Cey              0  0.099981\n",
       "Del Ennis            0  0.026010\n",
       "Augie Galan          0  0.026010\n",
       "Darin Erstad         0  0.026010\n",
       "Devon White          0  0.026010\n",
       "Lou Piniella         0  0.026010\n",
       "Larry Stahl          0  0.026010\n",
       "...                ...       ...\n",
       "Rick Dempsey         0  0.026010\n",
       "Terry Steinbach      0  0.026010\n",
       "Rich Dauer           0  0.026010\n",
       "Bobby Richardson     0  0.026010\n",
       "B.J. Surhoff         0  0.026010\n",
       "Billy Martin         0  0.026010\n",
       "Rondell White        0  0.026010\n",
       "Moises Alou          0  0.026010\n",
       "Pat Burrell          0  0.026010\n",
       "Carlos Lee           0  0.026010\n",
       "Frankie Crosetti     0  0.026010\n",
       "Paul Lo Duca         0  0.026010\n",
       "Al Dark              0  0.026010\n",
       "Maury Wills          0  0.026010\n",
       "Leo Cardenas         0  0.026010\n",
       "Don Kessinger        0  0.026010\n",
       "Rick Burleson        0  0.026010\n",
       "Dave Concepcion      0  0.026010\n",
       "Hubie Brooks         0  0.026010\n",
       "Jay Bell             0  0.026010\n",
       "Orlando Cabrera      0  0.026010\n",
       "Grady Hatton         0  0.026010\n",
       "Bill Melton          0  0.026010\n",
       "Bob Bailey           0  0.026010\n",
       "Toby Harrah          0  0.026010\n",
       "Gary Gaetti          0  0.026010\n",
       "Travis Fryman        0  0.026010\n",
       "Phil Nevin           0  0.026010\n",
       "Casey Blake          0  0.026010\n",
       "Jimmy Stewart        0  0.026010\n",
       "\n",
       "[124 rows x 2 columns]"
      ]
     },
     "execution_count": 118,
     "metadata": {},
     "output_type": "execute_result"
    }
   ],
   "source": [
    "HoF_test.sort_values('HoF_prob', ascending=False)"
   ]
  },
  {
   "cell_type": "markdown",
   "metadata": {},
   "source": [
    "__Cool note here__:  Chief among the above false positives is __Alan Trammell__, a darling of advanced statistical analysis (which led to the development of stats like WAR and OPS+) who was always thought to be overlooked by the writers, and was finally voted into the Hall of Fame by a Veterans Committee last year, 22 years after his retirement."
   ]
  },
  {
   "cell_type": "code",
   "execution_count": 119,
   "metadata": {},
   "outputs": [
    {
     "data": {
      "text/html": [
       "<div>\n",
       "<style scoped>\n",
       "    .dataframe tbody tr th:only-of-type {\n",
       "        vertical-align: middle;\n",
       "    }\n",
       "\n",
       "    .dataframe tbody tr th {\n",
       "        vertical-align: top;\n",
       "    }\n",
       "\n",
       "    .dataframe thead th {\n",
       "        text-align: right;\n",
       "    }\n",
       "</style>\n",
       "<table border=\"1\" class=\"dataframe\">\n",
       "  <thead>\n",
       "    <tr style=\"text-align: right;\">\n",
       "      <th></th>\n",
       "      <th>HoF</th>\n",
       "      <th>HoF_prob</th>\n",
       "    </tr>\n",
       "    <tr>\n",
       "      <th>Name</th>\n",
       "      <th></th>\n",
       "      <th></th>\n",
       "    </tr>\n",
       "  </thead>\n",
       "  <tbody>\n",
       "    <tr>\n",
       "      <th>Rod Carew</th>\n",
       "      <td>1</td>\n",
       "      <td>0.801507</td>\n",
       "    </tr>\n",
       "    <tr>\n",
       "      <th>Mike Schmidt</th>\n",
       "      <td>1</td>\n",
       "      <td>0.801507</td>\n",
       "    </tr>\n",
       "    <tr>\n",
       "      <th>Brooks Robinson</th>\n",
       "      <td>1</td>\n",
       "      <td>0.801507</td>\n",
       "    </tr>\n",
       "    <tr>\n",
       "      <th>Eddie Mathews</th>\n",
       "      <td>1</td>\n",
       "      <td>0.801507</td>\n",
       "    </tr>\n",
       "    <tr>\n",
       "      <th>Cal Ripken</th>\n",
       "      <td>1</td>\n",
       "      <td>0.801507</td>\n",
       "    </tr>\n",
       "    <tr>\n",
       "      <th>Robin Yount</th>\n",
       "      <td>1</td>\n",
       "      <td>0.801507</td>\n",
       "    </tr>\n",
       "    <tr>\n",
       "      <th>Mickey Mantle</th>\n",
       "      <td>1</td>\n",
       "      <td>0.801507</td>\n",
       "    </tr>\n",
       "    <tr>\n",
       "      <th>Al Kaline</th>\n",
       "      <td>1</td>\n",
       "      <td>0.801507</td>\n",
       "    </tr>\n",
       "    <tr>\n",
       "      <th>Gary Carter</th>\n",
       "      <td>1</td>\n",
       "      <td>0.717138</td>\n",
       "    </tr>\n",
       "    <tr>\n",
       "      <th>Ryne Sandberg</th>\n",
       "      <td>1</td>\n",
       "      <td>0.717138</td>\n",
       "    </tr>\n",
       "    <tr>\n",
       "      <th>Tim Raines</th>\n",
       "      <td>1</td>\n",
       "      <td>0.634912</td>\n",
       "    </tr>\n",
       "    <tr>\n",
       "      <th>Mike Piazza</th>\n",
       "      <td>1</td>\n",
       "      <td>0.175813</td>\n",
       "    </tr>\n",
       "    <tr>\n",
       "      <th>Vladimir Guerrero</th>\n",
       "      <td>1</td>\n",
       "      <td>0.175813</td>\n",
       "    </tr>\n",
       "    <tr>\n",
       "      <th>Willie Stargell</th>\n",
       "      <td>1</td>\n",
       "      <td>0.099981</td>\n",
       "    </tr>\n",
       "    <tr>\n",
       "      <th>Kirby Puckett</th>\n",
       "      <td>1</td>\n",
       "      <td>0.026010</td>\n",
       "    </tr>\n",
       "  </tbody>\n",
       "</table>\n",
       "</div>"
      ],
      "text/plain": [
       "                   HoF  HoF_prob\n",
       "Name                            \n",
       "Rod Carew            1  0.801507\n",
       "Mike Schmidt         1  0.801507\n",
       "Brooks Robinson      1  0.801507\n",
       "Eddie Mathews        1  0.801507\n",
       "Cal Ripken           1  0.801507\n",
       "Robin Yount          1  0.801507\n",
       "Mickey Mantle        1  0.801507\n",
       "Al Kaline            1  0.801507\n",
       "Gary Carter          1  0.717138\n",
       "Ryne Sandberg        1  0.717138\n",
       "Tim Raines           1  0.634912\n",
       "Mike Piazza          1  0.175813\n",
       "Vladimir Guerrero    1  0.175813\n",
       "Willie Stargell      1  0.099981\n",
       "Kirby Puckett        1  0.026010"
      ]
     },
     "execution_count": 119,
     "metadata": {},
     "output_type": "execute_result"
    }
   ],
   "source": [
    "HoF_test.loc[HoF_test.HoF==1,:].sort_values('HoF_prob', ascending=False)"
   ]
  },
  {
   "cell_type": "markdown",
   "metadata": {},
   "source": [
    "__Note:__ For the sake of completeness, I didn't want to reject the advanced stats model for hitters without running the GridSearch with the same number of k-folds (7) as I had with the traditional hitter model, just in case."
   ]
  },
  {
   "cell_type": "code",
   "execution_count": 120,
   "metadata": {},
   "outputs": [],
   "source": [
    "X_train,X_test,y_train,y_test = train_test_split(X,y, random_state=1) "
   ]
  },
  {
   "cell_type": "code",
   "execution_count": 408,
   "metadata": {},
   "outputs": [],
   "source": [
    "ADVhit=RandomForestClassifier(random_state=1,max_features=4)\n",
    "\n",
    "parameters = {\n",
    "    'max_depth': range(1,13),\n",
    "    'n_estimators': range(1,101)\n",
    "}\n",
    "\n",
    "clf=GridSearchCV(ADVhit, parameters, cv=7, scoring='accuracy',verbose=1)"
   ]
  },
  {
   "cell_type": "code",
   "execution_count": 409,
   "metadata": {},
   "outputs": [
    {
     "name": "stdout",
     "output_type": "stream",
     "text": [
      "Fitting 7 folds for each of 1200 candidates, totalling 8400 fits\n"
     ]
    },
    {
     "name": "stderr",
     "output_type": "stream",
     "text": [
      "[Parallel(n_jobs=1)]: Done 8400 out of 8400 | elapsed: 10.6min finished\n"
     ]
    },
    {
     "data": {
      "text/plain": [
       "GridSearchCV(cv=7, error_score='raise',\n",
       "       estimator=RandomForestClassifier(bootstrap=True, class_weight=None, criterion='gini',\n",
       "            max_depth=None, max_features=4, max_leaf_nodes=None,\n",
       "            min_impurity_decrease=0.0, min_impurity_split=None,\n",
       "            min_samples_leaf=1, min_samples_split=2,\n",
       "            min_weight_fraction_leaf=0.0, n_estimators=10, n_jobs=1,\n",
       "            oob_score=False, random_state=1, verbose=0, warm_start=False),\n",
       "       fit_params=None, iid=True, n_jobs=1,\n",
       "       param_grid={'max_depth': range(1, 13), 'n_estimators': range(1, 101)},\n",
       "       pre_dispatch='2*n_jobs', refit=True, return_train_score='warn',\n",
       "       scoring='accuracy', verbose=1)"
      ]
     },
     "execution_count": 409,
     "metadata": {},
     "output_type": "execute_result"
    }
   ],
   "source": [
    "clf.fit(X_train,y_train)"
   ]
  },
  {
   "cell_type": "code",
   "execution_count": 410,
   "metadata": {},
   "outputs": [
    {
     "name": "stdout",
     "output_type": "stream",
     "text": [
      "{'max_depth': 1, 'n_estimators': 3}\n",
      "0.9381720430107527\n"
     ]
    }
   ],
   "source": [
    "print(clf.best_params_)\n",
    "print(clf.best_score_)"
   ]
  },
  {
   "cell_type": "markdown",
   "metadata": {},
   "source": [
    "Still did worse on the cross-validation!  We can be confident in these results!"
   ]
  },
  {
   "cell_type": "code",
   "execution_count": 121,
   "metadata": {},
   "outputs": [
    {
     "data": {
      "text/plain": [
       "RandomForestClassifier(bootstrap=True, class_weight=None, criterion='gini',\n",
       "            max_depth=1, max_features=4, max_leaf_nodes=None,\n",
       "            min_impurity_decrease=0.0, min_impurity_split=None,\n",
       "            min_samples_leaf=1, min_samples_split=2,\n",
       "            min_weight_fraction_leaf=0.0, n_estimators=3, n_jobs=1,\n",
       "            oob_score=False, random_state=1, verbose=0, warm_start=False)"
      ]
     },
     "execution_count": 121,
     "metadata": {},
     "output_type": "execute_result"
    }
   ],
   "source": [
    "ADVhit=RandomForestClassifier(n_estimators=3, max_depth=1,max_features=4, random_state=1)\n",
    "ADVhit.fit(X_train,y_train)"
   ]
  },
  {
   "cell_type": "code",
   "execution_count": 603,
   "metadata": {},
   "outputs": [
    {
     "data": {
      "text/html": [
       "<div>\n",
       "<style scoped>\n",
       "    .dataframe tbody tr th:only-of-type {\n",
       "        vertical-align: middle;\n",
       "    }\n",
       "\n",
       "    .dataframe tbody tr th {\n",
       "        vertical-align: top;\n",
       "    }\n",
       "\n",
       "    .dataframe thead th {\n",
       "        text-align: right;\n",
       "    }\n",
       "</style>\n",
       "<table border=\"1\" class=\"dataframe\">\n",
       "  <thead>\n",
       "    <tr style=\"text-align: right;\">\n",
       "      <th></th>\n",
       "      <th>feature</th>\n",
       "      <th>importance</th>\n",
       "    </tr>\n",
       "  </thead>\n",
       "  <tbody>\n",
       "    <tr>\n",
       "      <th>1</th>\n",
       "      <td>JAWS</td>\n",
       "      <td>0.666667</td>\n",
       "    </tr>\n",
       "    <tr>\n",
       "      <th>0</th>\n",
       "      <td>WAR</td>\n",
       "      <td>0.333333</td>\n",
       "    </tr>\n",
       "    <tr>\n",
       "      <th>2</th>\n",
       "      <td>WAR7</td>\n",
       "      <td>0.000000</td>\n",
       "    </tr>\n",
       "    <tr>\n",
       "      <th>3</th>\n",
       "      <td>OPS+</td>\n",
       "      <td>0.000000</td>\n",
       "    </tr>\n",
       "  </tbody>\n",
       "</table>\n",
       "</div>"
      ],
      "text/plain": [
       "  feature  importance\n",
       "1    JAWS    0.666667\n",
       "0     WAR    0.333333\n",
       "2    WAR7    0.000000\n",
       "3    OPS+    0.000000"
      ]
     },
     "execution_count": 603,
     "metadata": {},
     "output_type": "execute_result"
    }
   ],
   "source": [
    "pd.DataFrame({'feature': feature_cols, 'importance':ADVhit.feature_importances_}).sort_values(by='importance', ascending=False)"
   ]
  },
  {
   "cell_type": "code",
   "execution_count": 122,
   "metadata": {},
   "outputs": [
    {
     "data": {
      "text/plain": [
       "0.9435483870967742"
      ]
     },
     "execution_count": 122,
     "metadata": {},
     "output_type": "execute_result"
    }
   ],
   "source": [
    "y_pred=ADVhit.predict(X_test)\n",
    "ADVhit.score(X_test,y_test)"
   ]
  },
  {
   "cell_type": "code",
   "execution_count": 608,
   "metadata": {},
   "outputs": [
    {
     "data": {
      "text/plain": [
       "0    0.879032\n",
       "1    0.120968\n",
       "Name: HoF, dtype: float64"
      ]
     },
     "execution_count": 608,
     "metadata": {},
     "output_type": "execute_result"
    }
   ],
   "source": [
    "y_test.value_counts(normalize=True)"
   ]
  },
  {
   "cell_type": "code",
   "execution_count": 123,
   "metadata": {},
   "outputs": [
    {
     "data": {
      "text/plain": [
       "Text(0.5,8.74,'Predicted label')"
      ]
     },
     "execution_count": 123,
     "metadata": {},
     "output_type": "execute_result"
    },
    {
     "data": {
      "image/png": "[encoded data removed]",
      "text/plain": [
       "<Figure size 576x432 with 2 Axes>"
      ]
     },
     "metadata": {},
     "output_type": "display_data"
    }
   ],
   "source": [
    "cm = confusion_matrix(y_test, y_pred)\n",
    "\n",
    "sns.heatmap(cm, annot=True, fmt=\"d\", linewidths=.5)\n",
    "\n",
    "plt.ylabel('True label')\n",
    "plt.xlabel('Predicted label')"
   ]
  },
  {
   "cell_type": "markdown",
   "metadata": {},
   "source": [
    "Again, __our Random Forest model built and tuned around our advanced hitting statistics (WAR, JAWS, WAR7, and OPS+) does not fare as well as the one we built around traditional hitting statistics.__\n",
    "\n",
    "Now, we will execute the same process for advanced pitching statistics."
   ]
  },
  {
   "cell_type": "markdown",
   "metadata": {},
   "source": [
    "__1. Advanced Pitching Features in Traditional Model__"
   ]
  },
  {
   "cell_type": "code",
   "execution_count": 124,
   "metadata": {},
   "outputs": [],
   "source": [
    "feature_cols=['WAR','JAWS','WAR7','ERA+']\n",
    "X=pitch[feature_cols]\n",
    "y=pitch['HoF']\n",
    "\n",
    "X_train,X_test,y_train,y_test = train_test_split(X,y, random_state=1)"
   ]
  },
  {
   "cell_type": "code",
   "execution_count": 125,
   "metadata": {},
   "outputs": [
    {
     "data": {
      "text/plain": [
       "RandomForestClassifier(bootstrap=True, class_weight=None, criterion='gini',\n",
       "            max_depth=5, max_features=4, max_leaf_nodes=None,\n",
       "            min_impurity_decrease=0.0, min_impurity_split=None,\n",
       "            min_samples_leaf=1, min_samples_split=2,\n",
       "            min_weight_fraction_leaf=0.0, n_estimators=5, n_jobs=1,\n",
       "            oob_score=False, random_state=1, verbose=0, warm_start=False)"
      ]
     },
     "execution_count": 125,
     "metadata": {},
     "output_type": "execute_result"
    }
   ],
   "source": [
    "rftradpitch=RandomForestClassifier(n_estimators=5, max_depth=5,max_features=4, random_state=1)\n",
    "rftradpitch.fit(X_train,y_train)"
   ]
  },
  {
   "cell_type": "code",
   "execution_count": 126,
   "metadata": {},
   "outputs": [
    {
     "data": {
      "text/html": [
       "<div>\n",
       "<style scoped>\n",
       "    .dataframe tbody tr th:only-of-type {\n",
       "        vertical-align: middle;\n",
       "    }\n",
       "\n",
       "    .dataframe tbody tr th {\n",
       "        vertical-align: top;\n",
       "    }\n",
       "\n",
       "    .dataframe thead th {\n",
       "        text-align: right;\n",
       "    }\n",
       "</style>\n",
       "<table border=\"1\" class=\"dataframe\">\n",
       "  <thead>\n",
       "    <tr style=\"text-align: right;\">\n",
       "      <th></th>\n",
       "      <th>feature</th>\n",
       "      <th>importance</th>\n",
       "    </tr>\n",
       "  </thead>\n",
       "  <tbody>\n",
       "    <tr>\n",
       "      <th>0</th>\n",
       "      <td>WAR</td>\n",
       "      <td>0.598098</td>\n",
       "    </tr>\n",
       "    <tr>\n",
       "      <th>2</th>\n",
       "      <td>WAR7</td>\n",
       "      <td>0.213244</td>\n",
       "    </tr>\n",
       "    <tr>\n",
       "      <th>1</th>\n",
       "      <td>JAWS</td>\n",
       "      <td>0.097797</td>\n",
       "    </tr>\n",
       "    <tr>\n",
       "      <th>3</th>\n",
       "      <td>ERA+</td>\n",
       "      <td>0.090861</td>\n",
       "    </tr>\n",
       "  </tbody>\n",
       "</table>\n",
       "</div>"
      ],
      "text/plain": [
       "  feature  importance\n",
       "0     WAR    0.598098\n",
       "2    WAR7    0.213244\n",
       "1    JAWS    0.097797\n",
       "3    ERA+    0.090861"
      ]
     },
     "execution_count": 126,
     "metadata": {},
     "output_type": "execute_result"
    }
   ],
   "source": [
    "pd.DataFrame({'feature': feature_cols, 'importance':rftradpitch.feature_importances_}).sort_values(by='importance', ascending=False)"
   ]
  },
  {
   "cell_type": "code",
   "execution_count": 127,
   "metadata": {},
   "outputs": [
    {
     "data": {
      "text/plain": [
       "0.9"
      ]
     },
     "execution_count": 127,
     "metadata": {},
     "output_type": "execute_result"
    }
   ],
   "source": [
    "y_pred=rftradpitch.predict(X_test)\n",
    "rftradpitch.score(X_test,y_test)"
   ]
  },
  {
   "cell_type": "code",
   "execution_count": 128,
   "metadata": {},
   "outputs": [
    {
     "data": {
      "text/plain": [
       "0    0.88\n",
       "1    0.12\n",
       "Name: HoF, dtype: float64"
      ]
     },
     "execution_count": 128,
     "metadata": {},
     "output_type": "execute_result"
    }
   ],
   "source": [
    "y_test.value_counts(normalize=True)"
   ]
  },
  {
   "cell_type": "code",
   "execution_count": 129,
   "metadata": {},
   "outputs": [
    {
     "data": {
      "text/plain": [
       "Text(0.5,8.74,'Predicted label')"
      ]
     },
     "execution_count": 129,
     "metadata": {},
     "output_type": "execute_result"
    },
    {
     "data": {
      "image/png": "[encoded data removed]",
      "text/plain": [
       "<Figure size 576x432 with 2 Axes>"
      ]
     },
     "metadata": {},
     "output_type": "display_data"
    }
   ],
   "source": [
    "cm = confusion_matrix(y_test, y_pred)\n",
    "\n",
    "sns.heatmap(cm, annot=True, fmt=\"d\", linewidths=.5)\n",
    "\n",
    "plt.ylabel('True label')\n",
    "plt.xlabel('Predicted label')"
   ]
  },
  {
   "cell_type": "markdown",
   "metadata": {},
   "source": [
    "Once again, as expected, these features inserted into our traditional Random Forest pitching model do a pretty poor job of predicting Hall of Famers (4 of our 6 true Hall of Famers end up as false negatives).  Now, we'll try to build a new Random Forest model around these features and see how it does."
   ]
  },
  {
   "cell_type": "markdown",
   "metadata": {},
   "source": [
    "__2. Advanced Pitching Model__"
   ]
  },
  {
   "cell_type": "code",
   "execution_count": 130,
   "metadata": {},
   "outputs": [],
   "source": [
    "feature_cols=['WAR','JAWS','WAR7','ERA+']\n",
    "X=pitch[feature_cols]\n",
    "y=pitch['HoF']\n",
    "\n",
    "X_train,X_test,y_train,y_test = train_test_split(X,y, random_state=1)"
   ]
  },
  {
   "cell_type": "code",
   "execution_count": 131,
   "metadata": {},
   "outputs": [],
   "source": [
    "ADVpitch=RandomForestClassifier(max_features=4, random_state=1)"
   ]
  },
  {
   "cell_type": "code",
   "execution_count": 132,
   "metadata": {},
   "outputs": [
    {
     "data": {
      "text/plain": [
       "RandomForestClassifier(bootstrap=True, class_weight=None, criterion='gini',\n",
       "            max_depth=None, max_features=4, max_leaf_nodes=None,\n",
       "            min_impurity_decrease=0.0, min_impurity_split=None,\n",
       "            min_samples_leaf=1, min_samples_split=2,\n",
       "            min_weight_fraction_leaf=0.0, n_estimators=10, n_jobs=1,\n",
       "            oob_score=False, random_state=1, verbose=0, warm_start=False)"
      ]
     },
     "execution_count": 132,
     "metadata": {},
     "output_type": "execute_result"
    }
   ],
   "source": [
    "ADVpitch.fit(X_train,y_train)"
   ]
  },
  {
   "cell_type": "code",
   "execution_count": 133,
   "metadata": {},
   "outputs": [
    {
     "data": {
      "text/plain": [
       "0.9"
      ]
     },
     "execution_count": 133,
     "metadata": {},
     "output_type": "execute_result"
    }
   ],
   "source": [
    "y_pred=ADVpitch.predict(X_test)\n",
    "accuracy_score(y_test,y_pred)"
   ]
  },
  {
   "cell_type": "code",
   "execution_count": 134,
   "metadata": {},
   "outputs": [
    {
     "data": {
      "text/plain": [
       "0    0.88\n",
       "1    0.12\n",
       "Name: HoF, dtype: float64"
      ]
     },
     "execution_count": 134,
     "metadata": {},
     "output_type": "execute_result"
    }
   ],
   "source": [
    "y_test.value_counts(normalize=True)"
   ]
  },
  {
   "cell_type": "code",
   "execution_count": 135,
   "metadata": {},
   "outputs": [
    {
     "name": "stdout",
     "output_type": "stream",
     "text": [
      "5 0.9452380952380952\n",
      "6 0.9588675213675214\n",
      "7 0.9243970315398887\n",
      "8 0.9319444444444445\n",
      "9 0.9452160493827161\n",
      "10 0.9400000000000001\n",
      "11 0.9383116883116883\n",
      "12 0.95750777000777\n"
     ]
    }
   ],
   "source": [
    "results=[]\n",
    "for num in range(5,13):\n",
    "    result= np.mean(cross_val_score(ADVpitch,X_train,y_train, cv=num, scoring='accuracy'))\n",
    "    print(num,result)\n",
    "    results.append([num,result])"
   ]
  },
  {
   "cell_type": "markdown",
   "metadata": {},
   "source": [
    "__Note:__ We used __cv=12__ for the cross-validation of our traditional pitching model, and while __cv=6__ fares a hair better here, it's close enough that I'm happy to run the GridSearch with the same number of folds for the sake of symmetry."
   ]
  },
  {
   "cell_type": "code",
   "execution_count": 431,
   "metadata": {},
   "outputs": [],
   "source": [
    "ADVpitch=RandomForestClassifier(random_state=1,max_features=4)\n",
    "\n",
    "parameters = {\n",
    "    'max_depth': range(1,13),\n",
    "    'n_estimators': range(1,101)\n",
    "}\n",
    "\n",
    "clf=GridSearchCV(ADVpitch, parameters, cv=12, scoring='accuracy',verbose=1)"
   ]
  },
  {
   "cell_type": "code",
   "execution_count": 432,
   "metadata": {},
   "outputs": [
    {
     "name": "stdout",
     "output_type": "stream",
     "text": [
      "Fitting 12 folds for each of 1200 candidates, totalling 14400 fits\n"
     ]
    },
    {
     "name": "stderr",
     "output_type": "stream",
     "text": [
      "[Parallel(n_jobs=1)]: Done 14400 out of 14400 | elapsed: 16.6min finished\n"
     ]
    },
    {
     "data": {
      "text/plain": [
       "GridSearchCV(cv=12, error_score='raise',\n",
       "       estimator=RandomForestClassifier(bootstrap=True, class_weight=None, criterion='gini',\n",
       "            max_depth=None, max_features=4, max_leaf_nodes=None,\n",
       "            min_impurity_decrease=0.0, min_impurity_split=None,\n",
       "            min_samples_leaf=1, min_samples_split=2,\n",
       "            min_weight_fraction_leaf=0.0, n_estimators=10, n_jobs=1,\n",
       "            oob_score=False, random_state=1, verbose=0, warm_start=False),\n",
       "       fit_params=None, iid=True, n_jobs=1,\n",
       "       param_grid={'max_depth': range(1, 13), 'n_estimators': range(1, 101)},\n",
       "       pre_dispatch='2*n_jobs', refit=True, return_train_score='warn',\n",
       "       scoring='accuracy', verbose=1)"
      ]
     },
     "execution_count": 432,
     "metadata": {},
     "output_type": "execute_result"
    }
   ],
   "source": [
    "clf.fit(X_train,y_train)"
   ]
  },
  {
   "cell_type": "code",
   "execution_count": 433,
   "metadata": {},
   "outputs": [
    {
     "name": "stdout",
     "output_type": "stream",
     "text": [
      "{'max_depth': 6, 'n_estimators': 6}\n",
      "0.9662162162162162\n"
     ]
    }
   ],
   "source": [
    "print(clf.best_params_)\n",
    "print(clf.best_score_)"
   ]
  },
  {
   "cell_type": "markdown",
   "metadata": {},
   "source": [
    "This comes a lot closer to our cross-validation score on our traditional model for pitchers than the corresponding one on the hitters side, __but this best score of 96.6% still doesn't beat 97.3%__."
   ]
  },
  {
   "cell_type": "code",
   "execution_count": 136,
   "metadata": {},
   "outputs": [
    {
     "data": {
      "text/plain": [
       "RandomForestClassifier(bootstrap=True, class_weight=None, criterion='gini',\n",
       "            max_depth=6, max_features=4, max_leaf_nodes=None,\n",
       "            min_impurity_decrease=0.0, min_impurity_split=None,\n",
       "            min_samples_leaf=1, min_samples_split=2,\n",
       "            min_weight_fraction_leaf=0.0, n_estimators=6, n_jobs=1,\n",
       "            oob_score=False, random_state=1, verbose=0, warm_start=False)"
      ]
     },
     "execution_count": 136,
     "metadata": {},
     "output_type": "execute_result"
    }
   ],
   "source": [
    "ADVpitch=RandomForestClassifier(n_estimators=6, max_depth=6,max_features=4, random_state=1)\n",
    "ADVpitch.fit(X_train,y_train)"
   ]
  },
  {
   "cell_type": "code",
   "execution_count": 137,
   "metadata": {},
   "outputs": [
    {
     "data": {
      "text/html": [
       "<div>\n",
       "<style scoped>\n",
       "    .dataframe tbody tr th:only-of-type {\n",
       "        vertical-align: middle;\n",
       "    }\n",
       "\n",
       "    .dataframe tbody tr th {\n",
       "        vertical-align: top;\n",
       "    }\n",
       "\n",
       "    .dataframe thead th {\n",
       "        text-align: right;\n",
       "    }\n",
       "</style>\n",
       "<table border=\"1\" class=\"dataframe\">\n",
       "  <thead>\n",
       "    <tr style=\"text-align: right;\">\n",
       "      <th></th>\n",
       "      <th>feature</th>\n",
       "      <th>importance</th>\n",
       "    </tr>\n",
       "  </thead>\n",
       "  <tbody>\n",
       "    <tr>\n",
       "      <th>0</th>\n",
       "      <td>WAR</td>\n",
       "      <td>0.637828</td>\n",
       "    </tr>\n",
       "    <tr>\n",
       "      <th>2</th>\n",
       "      <td>WAR7</td>\n",
       "      <td>0.192266</td>\n",
       "    </tr>\n",
       "    <tr>\n",
       "      <th>1</th>\n",
       "      <td>JAWS</td>\n",
       "      <td>0.087921</td>\n",
       "    </tr>\n",
       "    <tr>\n",
       "      <th>3</th>\n",
       "      <td>ERA+</td>\n",
       "      <td>0.081984</td>\n",
       "    </tr>\n",
       "  </tbody>\n",
       "</table>\n",
       "</div>"
      ],
      "text/plain": [
       "  feature  importance\n",
       "0     WAR    0.637828\n",
       "2    WAR7    0.192266\n",
       "1    JAWS    0.087921\n",
       "3    ERA+    0.081984"
      ]
     },
     "execution_count": 137,
     "metadata": {},
     "output_type": "execute_result"
    }
   ],
   "source": [
    "pd.DataFrame({'feature': feature_cols, 'importance':ADVpitch.feature_importances_}).sort_values(by='importance', ascending=False)"
   ]
  },
  {
   "cell_type": "code",
   "execution_count": 138,
   "metadata": {},
   "outputs": [
    {
     "data": {
      "text/plain": [
       "0.9"
      ]
     },
     "execution_count": 138,
     "metadata": {},
     "output_type": "execute_result"
    }
   ],
   "source": [
    "y_pred=ADVpitch.predict(X_test)\n",
    "ADVpitch.score(X_test,y_test)"
   ]
  },
  {
   "cell_type": "code",
   "execution_count": 139,
   "metadata": {},
   "outputs": [
    {
     "data": {
      "text/plain": [
       "0    0.88\n",
       "1    0.12\n",
       "Name: HoF, dtype: float64"
      ]
     },
     "execution_count": 139,
     "metadata": {},
     "output_type": "execute_result"
    }
   ],
   "source": [
    "y_test.value_counts(normalize=True)"
   ]
  },
  {
   "cell_type": "code",
   "execution_count": 140,
   "metadata": {},
   "outputs": [
    {
     "data": {
      "text/plain": [
       "Text(0.5,8.74,'Predicted label')"
      ]
     },
     "execution_count": 140,
     "metadata": {},
     "output_type": "execute_result"
    },
    {
     "data": {
      "image/png": "[encoded data removed]",
      "text/plain": [
       "<Figure size 576x432 with 2 Axes>"
      ]
     },
     "metadata": {},
     "output_type": "display_data"
    }
   ],
   "source": [
    "cm = confusion_matrix(y_test, y_pred)\n",
    "\n",
    "sns.heatmap(cm, annot=True, fmt=\"d\", linewidths=.5)\n",
    "\n",
    "plt.ylabel('True label')\n",
    "plt.xlabel('Predicted label')"
   ]
  },
  {
   "cell_type": "markdown",
   "metadata": {},
   "source": [
    "As far as accuracy on our test score, this new model is still only predicting with __90%__ accuracy (far below the __98%__ standard in our traditional model), and more important, __it only gets 2 of our 6 Hall of Famers right__."
   ]
  },
  {
   "cell_type": "code",
   "execution_count": 141,
   "metadata": {},
   "outputs": [
    {
     "name": "stderr",
     "output_type": "stream",
     "text": [
      "/Users/leemac113/anaconda3/lib/python3.6/site-packages/ipykernel_launcher.py:1: SettingWithCopyWarning: \n",
      "A value is trying to be set on a copy of a slice from a DataFrame.\n",
      "Try using .loc[row_indexer,col_indexer] = value instead\n",
      "\n",
      "See the caveats in the documentation: http://pandas.pydata.org/pandas-docs/stable/indexing.html#indexing-view-versus-copy\n",
      "  \"\"\"Entry point for launching an IPython kernel.\n"
     ]
    }
   ],
   "source": [
    "X_test['HoF_prob']=ADVpitch.predict_proba(X_test)[:,1]"
   ]
  },
  {
   "cell_type": "code",
   "execution_count": 142,
   "metadata": {},
   "outputs": [],
   "source": [
    "HoF_test=pd.concat([pitch['HoF'],X_test['HoF_prob']],axis=1, join='inner')"
   ]
  },
  {
   "cell_type": "code",
   "execution_count": 143,
   "metadata": {},
   "outputs": [
    {
     "data": {
      "text/html": [
       "<div>\n",
       "<style scoped>\n",
       "    .dataframe tbody tr th:only-of-type {\n",
       "        vertical-align: middle;\n",
       "    }\n",
       "\n",
       "    .dataframe tbody tr th {\n",
       "        vertical-align: top;\n",
       "    }\n",
       "\n",
       "    .dataframe thead th {\n",
       "        text-align: right;\n",
       "    }\n",
       "</style>\n",
       "<table border=\"1\" class=\"dataframe\">\n",
       "  <thead>\n",
       "    <tr style=\"text-align: right;\">\n",
       "      <th></th>\n",
       "      <th>HoF</th>\n",
       "      <th>HoF_prob</th>\n",
       "    </tr>\n",
       "    <tr>\n",
       "      <th>Name</th>\n",
       "      <th></th>\n",
       "      <th></th>\n",
       "    </tr>\n",
       "  </thead>\n",
       "  <tbody>\n",
       "    <tr>\n",
       "      <th>Tom Seaver</th>\n",
       "      <td>1</td>\n",
       "      <td>1.000000</td>\n",
       "    </tr>\n",
       "    <tr>\n",
       "      <th>Kevin Brown</th>\n",
       "      <td>0</td>\n",
       "      <td>1.000000</td>\n",
       "    </tr>\n",
       "    <tr>\n",
       "      <th>Bert Blyleven</th>\n",
       "      <td>1</td>\n",
       "      <td>1.000000</td>\n",
       "    </tr>\n",
       "    <tr>\n",
       "      <th>Frank Viola</th>\n",
       "      <td>0</td>\n",
       "      <td>0.500000</td>\n",
       "    </tr>\n",
       "    <tr>\n",
       "      <th>Wilbur Wood</th>\n",
       "      <td>0</td>\n",
       "      <td>0.333333</td>\n",
       "    </tr>\n",
       "    <tr>\n",
       "      <th>Ron Guidry</th>\n",
       "      <td>0</td>\n",
       "      <td>0.333333</td>\n",
       "    </tr>\n",
       "    <tr>\n",
       "      <th>Don Newcombe</th>\n",
       "      <td>0</td>\n",
       "      <td>0.333333</td>\n",
       "    </tr>\n",
       "    <tr>\n",
       "      <th>Mark Langston</th>\n",
       "      <td>0</td>\n",
       "      <td>0.166667</td>\n",
       "    </tr>\n",
       "    <tr>\n",
       "      <th>Robin Roberts</th>\n",
       "      <td>1</td>\n",
       "      <td>0.166667</td>\n",
       "    </tr>\n",
       "    <tr>\n",
       "      <th>Juan Marichal</th>\n",
       "      <td>1</td>\n",
       "      <td>0.166667</td>\n",
       "    </tr>\n",
       "    <tr>\n",
       "      <th>Kenny Rogers</th>\n",
       "      <td>0</td>\n",
       "      <td>0.166667</td>\n",
       "    </tr>\n",
       "    <tr>\n",
       "      <th>Dwight Gooden</th>\n",
       "      <td>0</td>\n",
       "      <td>0.166667</td>\n",
       "    </tr>\n",
       "    <tr>\n",
       "      <th>Orel Hershiser</th>\n",
       "      <td>0</td>\n",
       "      <td>0.166667</td>\n",
       "    </tr>\n",
       "    <tr>\n",
       "      <th>Tom Browning</th>\n",
       "      <td>0</td>\n",
       "      <td>0.000000</td>\n",
       "    </tr>\n",
       "    <tr>\n",
       "      <th>Ron Darling</th>\n",
       "      <td>0</td>\n",
       "      <td>0.000000</td>\n",
       "    </tr>\n",
       "    <tr>\n",
       "      <th>Sonny Siebert</th>\n",
       "      <td>0</td>\n",
       "      <td>0.000000</td>\n",
       "    </tr>\n",
       "    <tr>\n",
       "      <th>Bill Hands</th>\n",
       "      <td>0</td>\n",
       "      <td>0.000000</td>\n",
       "    </tr>\n",
       "    <tr>\n",
       "      <th>Juan Pizarro</th>\n",
       "      <td>0</td>\n",
       "      <td>0.000000</td>\n",
       "    </tr>\n",
       "    <tr>\n",
       "      <th>Milt Pappas</th>\n",
       "      <td>0</td>\n",
       "      <td>0.000000</td>\n",
       "    </tr>\n",
       "    <tr>\n",
       "      <th>Nelson Briles</th>\n",
       "      <td>0</td>\n",
       "      <td>0.000000</td>\n",
       "    </tr>\n",
       "    <tr>\n",
       "      <th>Vic Raschi</th>\n",
       "      <td>0</td>\n",
       "      <td>0.000000</td>\n",
       "    </tr>\n",
       "    <tr>\n",
       "      <th>Whitey Ford</th>\n",
       "      <td>1</td>\n",
       "      <td>0.000000</td>\n",
       "    </tr>\n",
       "    <tr>\n",
       "      <th>Jim Colborn</th>\n",
       "      <td>0</td>\n",
       "      <td>0.000000</td>\n",
       "    </tr>\n",
       "    <tr>\n",
       "      <th>Sal Maglie</th>\n",
       "      <td>0</td>\n",
       "      <td>0.000000</td>\n",
       "    </tr>\n",
       "    <tr>\n",
       "      <th>Johnny Sain</th>\n",
       "      <td>0</td>\n",
       "      <td>0.000000</td>\n",
       "    </tr>\n",
       "    <tr>\n",
       "      <th>Al Downing</th>\n",
       "      <td>0</td>\n",
       "      <td>0.000000</td>\n",
       "    </tr>\n",
       "    <tr>\n",
       "      <th>Eddie Lopat</th>\n",
       "      <td>0</td>\n",
       "      <td>0.000000</td>\n",
       "    </tr>\n",
       "    <tr>\n",
       "      <th>Tommy Bridges</th>\n",
       "      <td>0</td>\n",
       "      <td>0.000000</td>\n",
       "    </tr>\n",
       "    <tr>\n",
       "      <th>Ray Culp</th>\n",
       "      <td>0</td>\n",
       "      <td>0.000000</td>\n",
       "    </tr>\n",
       "    <tr>\n",
       "      <th>Livan Hernandez</th>\n",
       "      <td>0</td>\n",
       "      <td>0.000000</td>\n",
       "    </tr>\n",
       "    <tr>\n",
       "      <th>Jim Kaat</th>\n",
       "      <td>0</td>\n",
       "      <td>0.000000</td>\n",
       "    </tr>\n",
       "    <tr>\n",
       "      <th>Larry Dierker</th>\n",
       "      <td>0</td>\n",
       "      <td>0.000000</td>\n",
       "    </tr>\n",
       "    <tr>\n",
       "      <th>Bob Tewksbury</th>\n",
       "      <td>0</td>\n",
       "      <td>0.000000</td>\n",
       "    </tr>\n",
       "    <tr>\n",
       "      <th>Woody Williams</th>\n",
       "      <td>0</td>\n",
       "      <td>0.000000</td>\n",
       "    </tr>\n",
       "    <tr>\n",
       "      <th>Al Leiter</th>\n",
       "      <td>0</td>\n",
       "      <td>0.000000</td>\n",
       "    </tr>\n",
       "    <tr>\n",
       "      <th>Bret Saberhagen</th>\n",
       "      <td>0</td>\n",
       "      <td>0.000000</td>\n",
       "    </tr>\n",
       "    <tr>\n",
       "      <th>Jim Abbott</th>\n",
       "      <td>0</td>\n",
       "      <td>0.000000</td>\n",
       "    </tr>\n",
       "    <tr>\n",
       "      <th>Dave Stieb</th>\n",
       "      <td>0</td>\n",
       "      <td>0.000000</td>\n",
       "    </tr>\n",
       "    <tr>\n",
       "      <th>Danny Darwin</th>\n",
       "      <td>0</td>\n",
       "      <td>0.000000</td>\n",
       "    </tr>\n",
       "    <tr>\n",
       "      <th>Doug Drabek</th>\n",
       "      <td>0</td>\n",
       "      <td>0.000000</td>\n",
       "    </tr>\n",
       "    <tr>\n",
       "      <th>Jack Morris</th>\n",
       "      <td>0</td>\n",
       "      <td>0.000000</td>\n",
       "    </tr>\n",
       "    <tr>\n",
       "      <th>Ken Holtzman</th>\n",
       "      <td>0</td>\n",
       "      <td>0.000000</td>\n",
       "    </tr>\n",
       "    <tr>\n",
       "      <th>Bruce Hurst</th>\n",
       "      <td>0</td>\n",
       "      <td>0.000000</td>\n",
       "    </tr>\n",
       "    <tr>\n",
       "      <th>Nolan Ryan</th>\n",
       "      <td>1</td>\n",
       "      <td>0.000000</td>\n",
       "    </tr>\n",
       "    <tr>\n",
       "      <th>Charlie Leibrandt</th>\n",
       "      <td>0</td>\n",
       "      <td>0.000000</td>\n",
       "    </tr>\n",
       "    <tr>\n",
       "      <th>Mike Witt</th>\n",
       "      <td>0</td>\n",
       "      <td>0.000000</td>\n",
       "    </tr>\n",
       "    <tr>\n",
       "      <th>Paul Splittorff</th>\n",
       "      <td>0</td>\n",
       "      <td>0.000000</td>\n",
       "    </tr>\n",
       "    <tr>\n",
       "      <th>Jason Schmidt</th>\n",
       "      <td>0</td>\n",
       "      <td>0.000000</td>\n",
       "    </tr>\n",
       "    <tr>\n",
       "      <th>Jim Barr</th>\n",
       "      <td>0</td>\n",
       "      <td>0.000000</td>\n",
       "    </tr>\n",
       "    <tr>\n",
       "      <th>Rudy May</th>\n",
       "      <td>0</td>\n",
       "      <td>0.000000</td>\n",
       "    </tr>\n",
       "  </tbody>\n",
       "</table>\n",
       "</div>"
      ],
      "text/plain": [
       "                   HoF  HoF_prob\n",
       "Name                            \n",
       "Tom Seaver           1  1.000000\n",
       "Kevin Brown          0  1.000000\n",
       "Bert Blyleven        1  1.000000\n",
       "Frank Viola          0  0.500000\n",
       "Wilbur Wood          0  0.333333\n",
       "Ron Guidry           0  0.333333\n",
       "Don Newcombe         0  0.333333\n",
       "Mark Langston        0  0.166667\n",
       "Robin Roberts        1  0.166667\n",
       "Juan Marichal        1  0.166667\n",
       "Kenny Rogers         0  0.166667\n",
       "Dwight Gooden        0  0.166667\n",
       "Orel Hershiser       0  0.166667\n",
       "Tom Browning         0  0.000000\n",
       "Ron Darling          0  0.000000\n",
       "Sonny Siebert        0  0.000000\n",
       "Bill Hands           0  0.000000\n",
       "Juan Pizarro         0  0.000000\n",
       "Milt Pappas          0  0.000000\n",
       "Nelson Briles        0  0.000000\n",
       "Vic Raschi           0  0.000000\n",
       "Whitey Ford          1  0.000000\n",
       "Jim Colborn          0  0.000000\n",
       "Sal Maglie           0  0.000000\n",
       "Johnny Sain          0  0.000000\n",
       "Al Downing           0  0.000000\n",
       "Eddie Lopat          0  0.000000\n",
       "Tommy Bridges        0  0.000000\n",
       "Ray Culp             0  0.000000\n",
       "Livan Hernandez      0  0.000000\n",
       "Jim Kaat             0  0.000000\n",
       "Larry Dierker        0  0.000000\n",
       "Bob Tewksbury        0  0.000000\n",
       "Woody Williams       0  0.000000\n",
       "Al Leiter            0  0.000000\n",
       "Bret Saberhagen      0  0.000000\n",
       "Jim Abbott           0  0.000000\n",
       "Dave Stieb           0  0.000000\n",
       "Danny Darwin         0  0.000000\n",
       "Doug Drabek          0  0.000000\n",
       "Jack Morris          0  0.000000\n",
       "Ken Holtzman         0  0.000000\n",
       "Bruce Hurst          0  0.000000\n",
       "Nolan Ryan           1  0.000000\n",
       "Charlie Leibrandt    0  0.000000\n",
       "Mike Witt            0  0.000000\n",
       "Paul Splittorff      0  0.000000\n",
       "Jason Schmidt        0  0.000000\n",
       "Jim Barr             0  0.000000\n",
       "Rudy May             0  0.000000"
      ]
     },
     "execution_count": 143,
     "metadata": {},
     "output_type": "execute_result"
    }
   ],
   "source": [
    "HoF_test.sort_values('HoF_prob', ascending=False)"
   ]
  },
  {
   "cell_type": "markdown",
   "metadata": {},
   "source": [
    "__Another fun note:__ Again, Kevin Brown, who is given a 100% chance of being voted into the Hall of Fame by the writers in this model, has a huge group of supporters among the analytically-minded baseball community who believe he was robbed."
   ]
  },
  {
   "cell_type": "code",
   "execution_count": 144,
   "metadata": {},
   "outputs": [
    {
     "data": {
      "text/html": [
       "<div>\n",
       "<style scoped>\n",
       "    .dataframe tbody tr th:only-of-type {\n",
       "        vertical-align: middle;\n",
       "    }\n",
       "\n",
       "    .dataframe tbody tr th {\n",
       "        vertical-align: top;\n",
       "    }\n",
       "\n",
       "    .dataframe thead th {\n",
       "        text-align: right;\n",
       "    }\n",
       "</style>\n",
       "<table border=\"1\" class=\"dataframe\">\n",
       "  <thead>\n",
       "    <tr style=\"text-align: right;\">\n",
       "      <th></th>\n",
       "      <th>HoF</th>\n",
       "      <th>HoF_prob</th>\n",
       "    </tr>\n",
       "    <tr>\n",
       "      <th>Name</th>\n",
       "      <th></th>\n",
       "      <th></th>\n",
       "    </tr>\n",
       "  </thead>\n",
       "  <tbody>\n",
       "    <tr>\n",
       "      <th>Bert Blyleven</th>\n",
       "      <td>1</td>\n",
       "      <td>1.000000</td>\n",
       "    </tr>\n",
       "    <tr>\n",
       "      <th>Tom Seaver</th>\n",
       "      <td>1</td>\n",
       "      <td>1.000000</td>\n",
       "    </tr>\n",
       "    <tr>\n",
       "      <th>Juan Marichal</th>\n",
       "      <td>1</td>\n",
       "      <td>0.166667</td>\n",
       "    </tr>\n",
       "    <tr>\n",
       "      <th>Robin Roberts</th>\n",
       "      <td>1</td>\n",
       "      <td>0.166667</td>\n",
       "    </tr>\n",
       "    <tr>\n",
       "      <th>Nolan Ryan</th>\n",
       "      <td>1</td>\n",
       "      <td>0.000000</td>\n",
       "    </tr>\n",
       "    <tr>\n",
       "      <th>Whitey Ford</th>\n",
       "      <td>1</td>\n",
       "      <td>0.000000</td>\n",
       "    </tr>\n",
       "  </tbody>\n",
       "</table>\n",
       "</div>"
      ],
      "text/plain": [
       "               HoF  HoF_prob\n",
       "Name                        \n",
       "Bert Blyleven    1  1.000000\n",
       "Tom Seaver       1  1.000000\n",
       "Juan Marichal    1  0.166667\n",
       "Robin Roberts    1  0.166667\n",
       "Nolan Ryan       1  0.000000\n",
       "Whitey Ford      1  0.000000"
      ]
     },
     "execution_count": 144,
     "metadata": {},
     "output_type": "execute_result"
    }
   ],
   "source": [
    "HoF_test.loc[HoF_test.HoF==1,:].sort_values('HoF_prob', ascending=False)"
   ]
  },
  {
   "cell_type": "markdown",
   "metadata": {},
   "source": [
    "# Solution"
   ]
  },
  {
   "cell_type": "markdown",
   "metadata": {},
   "source": [
    "Through the above process, I have achieved what I set out to:  I have built models from exclusively traditional statistics (one for hitters, one for pitchers) that did a better job of predicting who the writers would vote into the Hall of Fame than corresponding models using exclusively advanced metrics.\n",
    "\n",
    "__Hitting Model:__ RandomForestClassifier(n_estimators=9, max_depth=6,max_features=4, random_state=1), __Best CV Score:__ 0.956989247311828, __Testing Accuracy:__ 0.9596774193548387\n",
    "\n",
    "__Pitching Model:__ RandomForestClassifier(n_estimators=5, max_depth=5,max_features=4, random_state=1), __Best CV Score:__ 0.972972972972973, __Testing Accuracy:__ 0.98"
   ]
  },
  {
   "cell_type": "markdown",
   "metadata": {},
   "source": [
    "# Predicting Future Hall of Famers"
   ]
  },
  {
   "cell_type": "markdown",
   "metadata": {},
   "source": [
    "__Quick EDA__"
   ]
  },
  {
   "cell_type": "code",
   "execution_count": 145,
   "metadata": {},
   "outputs": [],
   "source": [
    "hit2019=pd.read_csv('Ind_CSVs/2019BallotHitters.csv')\n",
    "\n",
    "pitch2019=pd.read_csv('Ind_CSVs/2019BallotPitchers.csv')\n",
    "\n",
    "hitfuture=pd.read_csv('Ind_CSVs/AllEligibleHitters.csv')\n",
    "\n",
    "pitchfuture=pd.read_csv('Ind_CSVs/AllEligiblePitchers.csv')"
   ]
  },
  {
   "cell_type": "code",
   "execution_count": 146,
   "metadata": {},
   "outputs": [],
   "source": [
    "hit2019=hit2019.set_index('Name')\n",
    "\n",
    "pitch2019=pitch2019.set_index('Name')\n",
    "\n",
    "hitfuture=hitfuture.set_index('Name')\n",
    "\n",
    "pitchfuture=pitchfuture.set_index('Name')"
   ]
  },
  {
   "cell_type": "code",
   "execution_count": 147,
   "metadata": {},
   "outputs": [],
   "source": [
    "hit2019=hit2019.drop(['From','To','G','PA','2B','3B','SB','CS','SO'], axis='columns')\n",
    "\n",
    "hitfuture=hitfuture.drop(['From','To','G','PA','2B','3B','SB','CS','SO'], axis='columns')"
   ]
  },
  {
   "cell_type": "code",
   "execution_count": 148,
   "metadata": {},
   "outputs": [],
   "source": [
    "pitch2019=pitch2019.drop(['From','To','G','GS','GF','SV','R','IBB','HBP','BK','WP','BF'], axis='columns')\n",
    "\n",
    "pitchfuture=pitchfuture.drop(['From','To','G','GS','GF','SV','R','IBB','HBP','BK','WP','BF'], axis='columns')"
   ]
  },
  {
   "cell_type": "code",
   "execution_count": 149,
   "metadata": {},
   "outputs": [
    {
     "name": "stdout",
     "output_type": "stream",
     "text": [
      "(22, 16)\n"
     ]
    },
    {
     "data": {
      "text/html": [
       "<div>\n",
       "<style scoped>\n",
       "    .dataframe tbody tr th:only-of-type {\n",
       "        vertical-align: middle;\n",
       "    }\n",
       "\n",
       "    .dataframe tbody tr th {\n",
       "        vertical-align: top;\n",
       "    }\n",
       "\n",
       "    .dataframe thead th {\n",
       "        text-align: right;\n",
       "    }\n",
       "</style>\n",
       "<table border=\"1\" class=\"dataframe\">\n",
       "  <thead>\n",
       "    <tr style=\"text-align: right;\">\n",
       "      <th></th>\n",
       "      <th>WAR</th>\n",
       "      <th>WAR7</th>\n",
       "      <th>JAWS</th>\n",
       "      <th>Yrs</th>\n",
       "      <th>ASG</th>\n",
       "      <th>AB</th>\n",
       "      <th>R</th>\n",
       "      <th>H</th>\n",
       "      <th>HR</th>\n",
       "      <th>RBI</th>\n",
       "      <th>BB</th>\n",
       "      <th>BA</th>\n",
       "      <th>OBP</th>\n",
       "      <th>SLG</th>\n",
       "      <th>OPS</th>\n",
       "      <th>OPS+</th>\n",
       "    </tr>\n",
       "    <tr>\n",
       "      <th>Name</th>\n",
       "      <th></th>\n",
       "      <th></th>\n",
       "      <th></th>\n",
       "      <th></th>\n",
       "      <th></th>\n",
       "      <th></th>\n",
       "      <th></th>\n",
       "      <th></th>\n",
       "      <th></th>\n",
       "      <th></th>\n",
       "      <th></th>\n",
       "      <th></th>\n",
       "      <th></th>\n",
       "      <th></th>\n",
       "      <th></th>\n",
       "      <th></th>\n",
       "    </tr>\n",
       "  </thead>\n",
       "  <tbody>\n",
       "    <tr>\n",
       "      <th>Rick Ankiel</th>\n",
       "      <td>5.3</td>\n",
       "      <td>6.5</td>\n",
       "      <td>5.9</td>\n",
       "      <td>11</td>\n",
       "      <td>0</td>\n",
       "      <td>1921</td>\n",
       "      <td>260</td>\n",
       "      <td>462</td>\n",
       "      <td>76</td>\n",
       "      <td>251</td>\n",
       "      <td>162</td>\n",
       "      <td>0.240</td>\n",
       "      <td>0.302</td>\n",
       "      <td>0.422</td>\n",
       "      <td>0.724</td>\n",
       "      <td>92</td>\n",
       "    </tr>\n",
       "    <tr>\n",
       "      <th>Edgar Martinez</th>\n",
       "      <td>68.4</td>\n",
       "      <td>43.7</td>\n",
       "      <td>56.0</td>\n",
       "      <td>18</td>\n",
       "      <td>7</td>\n",
       "      <td>7213</td>\n",
       "      <td>1219</td>\n",
       "      <td>2247</td>\n",
       "      <td>309</td>\n",
       "      <td>1261</td>\n",
       "      <td>1283</td>\n",
       "      <td>0.312</td>\n",
       "      <td>0.418</td>\n",
       "      <td>0.515</td>\n",
       "      <td>0.933</td>\n",
       "      <td>147</td>\n",
       "    </tr>\n",
       "    <tr>\n",
       "      <th>Barry Bonds</th>\n",
       "      <td>162.8</td>\n",
       "      <td>72.7</td>\n",
       "      <td>117.8</td>\n",
       "      <td>22</td>\n",
       "      <td>14</td>\n",
       "      <td>9847</td>\n",
       "      <td>2227</td>\n",
       "      <td>2935</td>\n",
       "      <td>762</td>\n",
       "      <td>1996</td>\n",
       "      <td>2558</td>\n",
       "      <td>0.298</td>\n",
       "      <td>0.444</td>\n",
       "      <td>0.607</td>\n",
       "      <td>1.051</td>\n",
       "      <td>182</td>\n",
       "    </tr>\n",
       "    <tr>\n",
       "      <th>Omar Vizquel</th>\n",
       "      <td>45.6</td>\n",
       "      <td>26.8</td>\n",
       "      <td>36.2</td>\n",
       "      <td>24</td>\n",
       "      <td>3</td>\n",
       "      <td>10586</td>\n",
       "      <td>1445</td>\n",
       "      <td>2877</td>\n",
       "      <td>80</td>\n",
       "      <td>951</td>\n",
       "      <td>1028</td>\n",
       "      <td>0.272</td>\n",
       "      <td>0.336</td>\n",
       "      <td>0.352</td>\n",
       "      <td>0.688</td>\n",
       "      <td>82</td>\n",
       "    </tr>\n",
       "    <tr>\n",
       "      <th>Larry Walker</th>\n",
       "      <td>72.7</td>\n",
       "      <td>44.7</td>\n",
       "      <td>58.7</td>\n",
       "      <td>17</td>\n",
       "      <td>5</td>\n",
       "      <td>6907</td>\n",
       "      <td>1355</td>\n",
       "      <td>2160</td>\n",
       "      <td>383</td>\n",
       "      <td>1311</td>\n",
       "      <td>913</td>\n",
       "      <td>0.313</td>\n",
       "      <td>0.400</td>\n",
       "      <td>0.565</td>\n",
       "      <td>0.965</td>\n",
       "      <td>141</td>\n",
       "    </tr>\n",
       "  </tbody>\n",
       "</table>\n",
       "</div>"
      ],
      "text/plain": [
       "                  WAR  WAR7   JAWS  Yrs  ASG     AB     R     H   HR   RBI  \\\n",
       "Name                                                                         \n",
       "Rick Ankiel       5.3   6.5    5.9   11    0   1921   260   462   76   251   \n",
       "Edgar Martinez   68.4  43.7   56.0   18    7   7213  1219  2247  309  1261   \n",
       "Barry Bonds     162.8  72.7  117.8   22   14   9847  2227  2935  762  1996   \n",
       "Omar Vizquel     45.6  26.8   36.2   24    3  10586  1445  2877   80   951   \n",
       "Larry Walker     72.7  44.7   58.7   17    5   6907  1355  2160  383  1311   \n",
       "\n",
       "                  BB     BA    OBP    SLG    OPS  OPS+  \n",
       "Name                                                    \n",
       "Rick Ankiel      162  0.240  0.302  0.422  0.724    92  \n",
       "Edgar Martinez  1283  0.312  0.418  0.515  0.933   147  \n",
       "Barry Bonds     2558  0.298  0.444  0.607  1.051   182  \n",
       "Omar Vizquel    1028  0.272  0.336  0.352  0.688    82  \n",
       "Larry Walker     913  0.313  0.400  0.565  0.965   141  "
      ]
     },
     "execution_count": 149,
     "metadata": {},
     "output_type": "execute_result"
    }
   ],
   "source": [
    "print(hit2019.shape)\n",
    "hit2019.head()"
   ]
  },
  {
   "cell_type": "code",
   "execution_count": 150,
   "metadata": {},
   "outputs": [
    {
     "name": "stdout",
     "output_type": "stream",
     "text": [
      "(220, 16)\n"
     ]
    },
    {
     "data": {
      "text/html": [
       "<div>\n",
       "<style scoped>\n",
       "    .dataframe tbody tr th:only-of-type {\n",
       "        vertical-align: middle;\n",
       "    }\n",
       "\n",
       "    .dataframe tbody tr th {\n",
       "        vertical-align: top;\n",
       "    }\n",
       "\n",
       "    .dataframe thead th {\n",
       "        text-align: right;\n",
       "    }\n",
       "</style>\n",
       "<table border=\"1\" class=\"dataframe\">\n",
       "  <thead>\n",
       "    <tr style=\"text-align: right;\">\n",
       "      <th></th>\n",
       "      <th>WAR</th>\n",
       "      <th>WAR7</th>\n",
       "      <th>JAWS</th>\n",
       "      <th>Yrs</th>\n",
       "      <th>ASG</th>\n",
       "      <th>AB</th>\n",
       "      <th>R</th>\n",
       "      <th>H</th>\n",
       "      <th>HR</th>\n",
       "      <th>RBI</th>\n",
       "      <th>BB</th>\n",
       "      <th>BA</th>\n",
       "      <th>OBP</th>\n",
       "      <th>SLG</th>\n",
       "      <th>OPS</th>\n",
       "      <th>OPS+</th>\n",
       "    </tr>\n",
       "    <tr>\n",
       "      <th>Name</th>\n",
       "      <th></th>\n",
       "      <th></th>\n",
       "      <th></th>\n",
       "      <th></th>\n",
       "      <th></th>\n",
       "      <th></th>\n",
       "      <th></th>\n",
       "      <th></th>\n",
       "      <th></th>\n",
       "      <th></th>\n",
       "      <th></th>\n",
       "      <th></th>\n",
       "      <th></th>\n",
       "      <th></th>\n",
       "      <th></th>\n",
       "      <th></th>\n",
       "    </tr>\n",
       "  </thead>\n",
       "  <tbody>\n",
       "    <tr>\n",
       "      <th>Rick Ankiel</th>\n",
       "      <td>5.3</td>\n",
       "      <td>6.5</td>\n",
       "      <td>5.9</td>\n",
       "      <td>11</td>\n",
       "      <td>0</td>\n",
       "      <td>1921</td>\n",
       "      <td>260</td>\n",
       "      <td>462</td>\n",
       "      <td>76</td>\n",
       "      <td>251</td>\n",
       "      <td>162</td>\n",
       "      <td>0.240</td>\n",
       "      <td>0.302</td>\n",
       "      <td>0.422</td>\n",
       "      <td>0.724</td>\n",
       "      <td>92</td>\n",
       "    </tr>\n",
       "    <tr>\n",
       "      <th>Edgar Martinez</th>\n",
       "      <td>68.4</td>\n",
       "      <td>43.7</td>\n",
       "      <td>56.0</td>\n",
       "      <td>18</td>\n",
       "      <td>7</td>\n",
       "      <td>7213</td>\n",
       "      <td>1219</td>\n",
       "      <td>2247</td>\n",
       "      <td>309</td>\n",
       "      <td>1261</td>\n",
       "      <td>1283</td>\n",
       "      <td>0.312</td>\n",
       "      <td>0.418</td>\n",
       "      <td>0.515</td>\n",
       "      <td>0.933</td>\n",
       "      <td>147</td>\n",
       "    </tr>\n",
       "    <tr>\n",
       "      <th>Barry Bonds</th>\n",
       "      <td>162.8</td>\n",
       "      <td>72.7</td>\n",
       "      <td>117.8</td>\n",
       "      <td>22</td>\n",
       "      <td>14</td>\n",
       "      <td>9847</td>\n",
       "      <td>2227</td>\n",
       "      <td>2935</td>\n",
       "      <td>762</td>\n",
       "      <td>1996</td>\n",
       "      <td>2558</td>\n",
       "      <td>0.298</td>\n",
       "      <td>0.444</td>\n",
       "      <td>0.607</td>\n",
       "      <td>1.051</td>\n",
       "      <td>182</td>\n",
       "    </tr>\n",
       "    <tr>\n",
       "      <th>Omar Vizquel</th>\n",
       "      <td>45.6</td>\n",
       "      <td>26.8</td>\n",
       "      <td>36.2</td>\n",
       "      <td>24</td>\n",
       "      <td>3</td>\n",
       "      <td>10586</td>\n",
       "      <td>1445</td>\n",
       "      <td>2877</td>\n",
       "      <td>80</td>\n",
       "      <td>951</td>\n",
       "      <td>1028</td>\n",
       "      <td>0.272</td>\n",
       "      <td>0.336</td>\n",
       "      <td>0.352</td>\n",
       "      <td>0.688</td>\n",
       "      <td>82</td>\n",
       "    </tr>\n",
       "    <tr>\n",
       "      <th>Larry Walker</th>\n",
       "      <td>72.7</td>\n",
       "      <td>44.7</td>\n",
       "      <td>58.7</td>\n",
       "      <td>17</td>\n",
       "      <td>5</td>\n",
       "      <td>6907</td>\n",
       "      <td>1355</td>\n",
       "      <td>2160</td>\n",
       "      <td>383</td>\n",
       "      <td>1311</td>\n",
       "      <td>913</td>\n",
       "      <td>0.313</td>\n",
       "      <td>0.400</td>\n",
       "      <td>0.565</td>\n",
       "      <td>0.965</td>\n",
       "      <td>141</td>\n",
       "    </tr>\n",
       "  </tbody>\n",
       "</table>\n",
       "</div>"
      ],
      "text/plain": [
       "                  WAR  WAR7   JAWS  Yrs  ASG     AB     R     H   HR   RBI  \\\n",
       "Name                                                                         \n",
       "Rick Ankiel       5.3   6.5    5.9   11    0   1921   260   462   76   251   \n",
       "Edgar Martinez   68.4  43.7   56.0   18    7   7213  1219  2247  309  1261   \n",
       "Barry Bonds     162.8  72.7  117.8   22   14   9847  2227  2935  762  1996   \n",
       "Omar Vizquel     45.6  26.8   36.2   24    3  10586  1445  2877   80   951   \n",
       "Larry Walker     72.7  44.7   58.7   17    5   6907  1355  2160  383  1311   \n",
       "\n",
       "                  BB     BA    OBP    SLG    OPS  OPS+  \n",
       "Name                                                    \n",
       "Rick Ankiel      162  0.240  0.302  0.422  0.724    92  \n",
       "Edgar Martinez  1283  0.312  0.418  0.515  0.933   147  \n",
       "Barry Bonds     2558  0.298  0.444  0.607  1.051   182  \n",
       "Omar Vizquel    1028  0.272  0.336  0.352  0.688    82  \n",
       "Larry Walker     913  0.313  0.400  0.565  0.965   141  "
      ]
     },
     "execution_count": 150,
     "metadata": {},
     "output_type": "execute_result"
    }
   ],
   "source": [
    "print(hitfuture.shape)\n",
    "hitfuture.head()"
   ]
  },
  {
   "cell_type": "code",
   "execution_count": 154,
   "metadata": {},
   "outputs": [],
   "source": [
    "pitch2019=pitch2019.dropna() #one of my datasets showed up with a bunch of NaN rows for some reason, so I fixed it"
   ]
  },
  {
   "cell_type": "code",
   "execution_count": 155,
   "metadata": {},
   "outputs": [
    {
     "name": "stdout",
     "output_type": "stream",
     "text": [
      "(10, 18)\n"
     ]
    },
    {
     "data": {
      "text/html": [
       "<div>\n",
       "<style scoped>\n",
       "    .dataframe tbody tr th:only-of-type {\n",
       "        vertical-align: middle;\n",
       "    }\n",
       "\n",
       "    .dataframe tbody tr th {\n",
       "        vertical-align: top;\n",
       "    }\n",
       "\n",
       "    .dataframe thead th {\n",
       "        text-align: right;\n",
       "    }\n",
       "</style>\n",
       "<table border=\"1\" class=\"dataframe\">\n",
       "  <thead>\n",
       "    <tr style=\"text-align: right;\">\n",
       "      <th></th>\n",
       "      <th>WAR</th>\n",
       "      <th>WAR7</th>\n",
       "      <th>JAWS</th>\n",
       "      <th>Yrs</th>\n",
       "      <th>ASG</th>\n",
       "      <th>W</th>\n",
       "      <th>L</th>\n",
       "      <th>W-L%</th>\n",
       "      <th>ERA</th>\n",
       "      <th>ERA+</th>\n",
       "      <th>CG</th>\n",
       "      <th>SHO</th>\n",
       "      <th>IP</th>\n",
       "      <th>H</th>\n",
       "      <th>ER</th>\n",
       "      <th>HR</th>\n",
       "      <th>BB</th>\n",
       "      <th>SO</th>\n",
       "    </tr>\n",
       "    <tr>\n",
       "      <th>Name</th>\n",
       "      <th></th>\n",
       "      <th></th>\n",
       "      <th></th>\n",
       "      <th></th>\n",
       "      <th></th>\n",
       "      <th></th>\n",
       "      <th></th>\n",
       "      <th></th>\n",
       "      <th></th>\n",
       "      <th></th>\n",
       "      <th></th>\n",
       "      <th></th>\n",
       "      <th></th>\n",
       "      <th></th>\n",
       "      <th></th>\n",
       "      <th></th>\n",
       "      <th></th>\n",
       "      <th></th>\n",
       "    </tr>\n",
       "  </thead>\n",
       "  <tbody>\n",
       "    <tr>\n",
       "      <th>Roger Clemens</th>\n",
       "      <td>139.6</td>\n",
       "      <td>66.0</td>\n",
       "      <td>102.8</td>\n",
       "      <td>24.0</td>\n",
       "      <td>11.0</td>\n",
       "      <td>354.0</td>\n",
       "      <td>184.0</td>\n",
       "      <td>0.658</td>\n",
       "      <td>3.12</td>\n",
       "      <td>143.0</td>\n",
       "      <td>118.0</td>\n",
       "      <td>46.0</td>\n",
       "      <td>4916.2</td>\n",
       "      <td>4185.0</td>\n",
       "      <td>1707.0</td>\n",
       "      <td>363.0</td>\n",
       "      <td>1580.0</td>\n",
       "      <td>4672.0</td>\n",
       "    </tr>\n",
       "    <tr>\n",
       "      <th>Curt Schilling</th>\n",
       "      <td>79.6</td>\n",
       "      <td>48.7</td>\n",
       "      <td>64.1</td>\n",
       "      <td>20.0</td>\n",
       "      <td>6.0</td>\n",
       "      <td>216.0</td>\n",
       "      <td>146.0</td>\n",
       "      <td>0.597</td>\n",
       "      <td>3.46</td>\n",
       "      <td>127.0</td>\n",
       "      <td>83.0</td>\n",
       "      <td>20.0</td>\n",
       "      <td>3261.0</td>\n",
       "      <td>2998.0</td>\n",
       "      <td>1253.0</td>\n",
       "      <td>347.0</td>\n",
       "      <td>711.0</td>\n",
       "      <td>3116.0</td>\n",
       "    </tr>\n",
       "    <tr>\n",
       "      <th>Mike Mussina</th>\n",
       "      <td>83.0</td>\n",
       "      <td>44.6</td>\n",
       "      <td>63.8</td>\n",
       "      <td>18.0</td>\n",
       "      <td>5.0</td>\n",
       "      <td>270.0</td>\n",
       "      <td>153.0</td>\n",
       "      <td>0.638</td>\n",
       "      <td>3.68</td>\n",
       "      <td>123.0</td>\n",
       "      <td>57.0</td>\n",
       "      <td>23.0</td>\n",
       "      <td>3562.2</td>\n",
       "      <td>3460.0</td>\n",
       "      <td>1458.0</td>\n",
       "      <td>376.0</td>\n",
       "      <td>785.0</td>\n",
       "      <td>2813.0</td>\n",
       "    </tr>\n",
       "    <tr>\n",
       "      <th>Roy Halladay</th>\n",
       "      <td>64.3</td>\n",
       "      <td>50.6</td>\n",
       "      <td>57.5</td>\n",
       "      <td>16.0</td>\n",
       "      <td>8.0</td>\n",
       "      <td>203.0</td>\n",
       "      <td>105.0</td>\n",
       "      <td>0.659</td>\n",
       "      <td>3.38</td>\n",
       "      <td>131.0</td>\n",
       "      <td>67.0</td>\n",
       "      <td>20.0</td>\n",
       "      <td>2749.1</td>\n",
       "      <td>2646.0</td>\n",
       "      <td>1034.0</td>\n",
       "      <td>236.0</td>\n",
       "      <td>592.0</td>\n",
       "      <td>2117.0</td>\n",
       "    </tr>\n",
       "    <tr>\n",
       "      <th>Andy Pettitte</th>\n",
       "      <td>60.3</td>\n",
       "      <td>34.1</td>\n",
       "      <td>47.2</td>\n",
       "      <td>18.0</td>\n",
       "      <td>3.0</td>\n",
       "      <td>256.0</td>\n",
       "      <td>153.0</td>\n",
       "      <td>0.626</td>\n",
       "      <td>3.85</td>\n",
       "      <td>117.0</td>\n",
       "      <td>26.0</td>\n",
       "      <td>4.0</td>\n",
       "      <td>3316.0</td>\n",
       "      <td>3448.0</td>\n",
       "      <td>1418.0</td>\n",
       "      <td>288.0</td>\n",
       "      <td>1031.0</td>\n",
       "      <td>2448.0</td>\n",
       "    </tr>\n",
       "  </tbody>\n",
       "</table>\n",
       "</div>"
      ],
      "text/plain": [
       "                  WAR  WAR7   JAWS   Yrs   ASG      W      L   W-L%   ERA  \\\n",
       "Name                                                                        \n",
       "Roger Clemens   139.6  66.0  102.8  24.0  11.0  354.0  184.0  0.658  3.12   \n",
       "Curt Schilling   79.6  48.7   64.1  20.0   6.0  216.0  146.0  0.597  3.46   \n",
       "Mike Mussina     83.0  44.6   63.8  18.0   5.0  270.0  153.0  0.638  3.68   \n",
       "Roy Halladay     64.3  50.6   57.5  16.0   8.0  203.0  105.0  0.659  3.38   \n",
       "Andy Pettitte    60.3  34.1   47.2  18.0   3.0  256.0  153.0  0.626  3.85   \n",
       "\n",
       "                 ERA+     CG   SHO      IP       H      ER     HR      BB  \\\n",
       "Name                                                                        \n",
       "Roger Clemens   143.0  118.0  46.0  4916.2  4185.0  1707.0  363.0  1580.0   \n",
       "Curt Schilling  127.0   83.0  20.0  3261.0  2998.0  1253.0  347.0   711.0   \n",
       "Mike Mussina    123.0   57.0  23.0  3562.2  3460.0  1458.0  376.0   785.0   \n",
       "Roy Halladay    131.0   67.0  20.0  2749.1  2646.0  1034.0  236.0   592.0   \n",
       "Andy Pettitte   117.0   26.0   4.0  3316.0  3448.0  1418.0  288.0  1031.0   \n",
       "\n",
       "                    SO  \n",
       "Name                    \n",
       "Roger Clemens   4672.0  \n",
       "Curt Schilling  3116.0  \n",
       "Mike Mussina    2813.0  \n",
       "Roy Halladay    2117.0  \n",
       "Andy Pettitte   2448.0  "
      ]
     },
     "execution_count": 155,
     "metadata": {},
     "output_type": "execute_result"
    }
   ],
   "source": [
    "print(pitch2019.shape)\n",
    "pitch2019.head()"
   ]
  },
  {
   "cell_type": "code",
   "execution_count": 156,
   "metadata": {},
   "outputs": [
    {
     "name": "stdout",
     "output_type": "stream",
     "text": [
      "(51, 18)\n"
     ]
    },
    {
     "data": {
      "text/html": [
       "<div>\n",
       "<style scoped>\n",
       "    .dataframe tbody tr th:only-of-type {\n",
       "        vertical-align: middle;\n",
       "    }\n",
       "\n",
       "    .dataframe tbody tr th {\n",
       "        vertical-align: top;\n",
       "    }\n",
       "\n",
       "    .dataframe thead th {\n",
       "        text-align: right;\n",
       "    }\n",
       "</style>\n",
       "<table border=\"1\" class=\"dataframe\">\n",
       "  <thead>\n",
       "    <tr style=\"text-align: right;\">\n",
       "      <th></th>\n",
       "      <th>WAR</th>\n",
       "      <th>WAR7</th>\n",
       "      <th>JAWS</th>\n",
       "      <th>Yrs</th>\n",
       "      <th>ASG</th>\n",
       "      <th>W</th>\n",
       "      <th>L</th>\n",
       "      <th>W-L%</th>\n",
       "      <th>ERA</th>\n",
       "      <th>ERA+</th>\n",
       "      <th>CG</th>\n",
       "      <th>SHO</th>\n",
       "      <th>IP</th>\n",
       "      <th>H</th>\n",
       "      <th>ER</th>\n",
       "      <th>HR</th>\n",
       "      <th>BB</th>\n",
       "      <th>SO</th>\n",
       "    </tr>\n",
       "    <tr>\n",
       "      <th>Name</th>\n",
       "      <th></th>\n",
       "      <th></th>\n",
       "      <th></th>\n",
       "      <th></th>\n",
       "      <th></th>\n",
       "      <th></th>\n",
       "      <th></th>\n",
       "      <th></th>\n",
       "      <th></th>\n",
       "      <th></th>\n",
       "      <th></th>\n",
       "      <th></th>\n",
       "      <th></th>\n",
       "      <th></th>\n",
       "      <th></th>\n",
       "      <th></th>\n",
       "      <th></th>\n",
       "      <th></th>\n",
       "    </tr>\n",
       "  </thead>\n",
       "  <tbody>\n",
       "    <tr>\n",
       "      <th>Roger Clemens</th>\n",
       "      <td>139.6</td>\n",
       "      <td>66.0</td>\n",
       "      <td>102.8</td>\n",
       "      <td>24</td>\n",
       "      <td>11</td>\n",
       "      <td>354</td>\n",
       "      <td>184</td>\n",
       "      <td>0.658</td>\n",
       "      <td>3.12</td>\n",
       "      <td>143</td>\n",
       "      <td>118</td>\n",
       "      <td>46</td>\n",
       "      <td>4916.2</td>\n",
       "      <td>4185</td>\n",
       "      <td>1707</td>\n",
       "      <td>363</td>\n",
       "      <td>1580</td>\n",
       "      <td>4672</td>\n",
       "    </tr>\n",
       "    <tr>\n",
       "      <th>Curt Schilling</th>\n",
       "      <td>79.6</td>\n",
       "      <td>48.7</td>\n",
       "      <td>64.1</td>\n",
       "      <td>20</td>\n",
       "      <td>6</td>\n",
       "      <td>216</td>\n",
       "      <td>146</td>\n",
       "      <td>0.597</td>\n",
       "      <td>3.46</td>\n",
       "      <td>127</td>\n",
       "      <td>83</td>\n",
       "      <td>20</td>\n",
       "      <td>3261.0</td>\n",
       "      <td>2998</td>\n",
       "      <td>1253</td>\n",
       "      <td>347</td>\n",
       "      <td>711</td>\n",
       "      <td>3116</td>\n",
       "    </tr>\n",
       "    <tr>\n",
       "      <th>Mike Mussina</th>\n",
       "      <td>83.0</td>\n",
       "      <td>44.6</td>\n",
       "      <td>63.8</td>\n",
       "      <td>18</td>\n",
       "      <td>5</td>\n",
       "      <td>270</td>\n",
       "      <td>153</td>\n",
       "      <td>0.638</td>\n",
       "      <td>3.68</td>\n",
       "      <td>123</td>\n",
       "      <td>57</td>\n",
       "      <td>23</td>\n",
       "      <td>3562.2</td>\n",
       "      <td>3460</td>\n",
       "      <td>1458</td>\n",
       "      <td>376</td>\n",
       "      <td>785</td>\n",
       "      <td>2813</td>\n",
       "    </tr>\n",
       "    <tr>\n",
       "      <th>Roy Halladay</th>\n",
       "      <td>64.3</td>\n",
       "      <td>50.6</td>\n",
       "      <td>57.5</td>\n",
       "      <td>16</td>\n",
       "      <td>8</td>\n",
       "      <td>203</td>\n",
       "      <td>105</td>\n",
       "      <td>0.659</td>\n",
       "      <td>3.38</td>\n",
       "      <td>131</td>\n",
       "      <td>67</td>\n",
       "      <td>20</td>\n",
       "      <td>2749.1</td>\n",
       "      <td>2646</td>\n",
       "      <td>1034</td>\n",
       "      <td>236</td>\n",
       "      <td>592</td>\n",
       "      <td>2117</td>\n",
       "    </tr>\n",
       "    <tr>\n",
       "      <th>Andy Pettitte</th>\n",
       "      <td>60.3</td>\n",
       "      <td>34.1</td>\n",
       "      <td>47.2</td>\n",
       "      <td>18</td>\n",
       "      <td>3</td>\n",
       "      <td>256</td>\n",
       "      <td>153</td>\n",
       "      <td>0.626</td>\n",
       "      <td>3.85</td>\n",
       "      <td>117</td>\n",
       "      <td>26</td>\n",
       "      <td>4</td>\n",
       "      <td>3316.0</td>\n",
       "      <td>3448</td>\n",
       "      <td>1418</td>\n",
       "      <td>288</td>\n",
       "      <td>1031</td>\n",
       "      <td>2448</td>\n",
       "    </tr>\n",
       "  </tbody>\n",
       "</table>\n",
       "</div>"
      ],
      "text/plain": [
       "                  WAR  WAR7   JAWS  Yrs  ASG    W    L   W-L%   ERA  ERA+  \\\n",
       "Name                                                                        \n",
       "Roger Clemens   139.6  66.0  102.8   24   11  354  184  0.658  3.12   143   \n",
       "Curt Schilling   79.6  48.7   64.1   20    6  216  146  0.597  3.46   127   \n",
       "Mike Mussina     83.0  44.6   63.8   18    5  270  153  0.638  3.68   123   \n",
       "Roy Halladay     64.3  50.6   57.5   16    8  203  105  0.659  3.38   131   \n",
       "Andy Pettitte    60.3  34.1   47.2   18    3  256  153  0.626  3.85   117   \n",
       "\n",
       "                 CG  SHO      IP     H    ER   HR    BB    SO  \n",
       "Name                                                           \n",
       "Roger Clemens   118   46  4916.2  4185  1707  363  1580  4672  \n",
       "Curt Schilling   83   20  3261.0  2998  1253  347   711  3116  \n",
       "Mike Mussina     57   23  3562.2  3460  1458  376   785  2813  \n",
       "Roy Halladay     67   20  2749.1  2646  1034  236   592  2117  \n",
       "Andy Pettitte    26    4  3316.0  3448  1418  288  1031  2448  "
      ]
     },
     "execution_count": 156,
     "metadata": {},
     "output_type": "execute_result"
    }
   ],
   "source": [
    "print(pitchfuture.shape)\n",
    "pitchfuture.head()"
   ]
  },
  {
   "cell_type": "markdown",
   "metadata": {},
   "source": [
    "__Which hitters will be voted in?__"
   ]
  },
  {
   "cell_type": "code",
   "execution_count": 157,
   "metadata": {},
   "outputs": [],
   "source": [
    "feature_cols=hit.columns.drop(['HoF','WAR','JAWS','WAR7','OPS+'])\n",
    "X=hit[feature_cols]\n",
    "y=hit['HoF']\n",
    "\n",
    "X_train,X_test,y_train,y_test = train_test_split(X,y, random_state=1)"
   ]
  },
  {
   "cell_type": "code",
   "execution_count": 158,
   "metadata": {},
   "outputs": [
    {
     "data": {
      "text/plain": [
       "RandomForestClassifier(bootstrap=True, class_weight=None, criterion='gini',\n",
       "            max_depth=6, max_features=4, max_leaf_nodes=None,\n",
       "            min_impurity_decrease=0.0, min_impurity_split=None,\n",
       "            min_samples_leaf=1, min_samples_split=2,\n",
       "            min_weight_fraction_leaf=0.0, n_estimators=9, n_jobs=1,\n",
       "            oob_score=False, random_state=1, verbose=0, warm_start=False)"
      ]
     },
     "execution_count": 158,
     "metadata": {},
     "output_type": "execute_result"
    }
   ],
   "source": [
    "rftradhit=RandomForestClassifier(n_estimators=9, max_depth=6,max_features=4, random_state=1)\n",
    "rftradhit.fit(X_train,y_train)"
   ]
  },
  {
   "cell_type": "code",
   "execution_count": 159,
   "metadata": {},
   "outputs": [],
   "source": [
    "X=hit2019[feature_cols]"
   ]
  },
  {
   "cell_type": "code",
   "execution_count": 160,
   "metadata": {},
   "outputs": [
    {
     "name": "stderr",
     "output_type": "stream",
     "text": [
      "/Users/leemac113/anaconda3/lib/python3.6/site-packages/ipykernel_launcher.py:1: SettingWithCopyWarning: \n",
      "A value is trying to be set on a copy of a slice from a DataFrame.\n",
      "Try using .loc[row_indexer,col_indexer] = value instead\n",
      "\n",
      "See the caveats in the documentation: http://pandas.pydata.org/pandas-docs/stable/indexing.html#indexing-view-versus-copy\n",
      "  \"\"\"Entry point for launching an IPython kernel.\n"
     ]
    }
   ],
   "source": [
    "X['HoF_prob']=rftradhit.predict_proba(X)[:,1]"
   ]
  },
  {
   "cell_type": "code",
   "execution_count": 161,
   "metadata": {},
   "outputs": [],
   "source": [
    "HoF_pred=pd.concat([hit2019['WAR'],X['HoF_prob']],axis=1, join='inner')"
   ]
  },
  {
   "cell_type": "code",
   "execution_count": 162,
   "metadata": {},
   "outputs": [
    {
     "data": {
      "text/html": [
       "<div>\n",
       "<style scoped>\n",
       "    .dataframe tbody tr th:only-of-type {\n",
       "        vertical-align: middle;\n",
       "    }\n",
       "\n",
       "    .dataframe tbody tr th {\n",
       "        vertical-align: top;\n",
       "    }\n",
       "\n",
       "    .dataframe thead th {\n",
       "        text-align: right;\n",
       "    }\n",
       "</style>\n",
       "<table border=\"1\" class=\"dataframe\">\n",
       "  <thead>\n",
       "    <tr style=\"text-align: right;\">\n",
       "      <th></th>\n",
       "      <th>WAR</th>\n",
       "      <th>HoF_prob</th>\n",
       "    </tr>\n",
       "    <tr>\n",
       "      <th>Name</th>\n",
       "      <th></th>\n",
       "      <th></th>\n",
       "    </tr>\n",
       "  </thead>\n",
       "  <tbody>\n",
       "    <tr>\n",
       "      <th>Gary Sheffield</th>\n",
       "      <td>60.5</td>\n",
       "      <td>1.000000</td>\n",
       "    </tr>\n",
       "    <tr>\n",
       "      <th>Todd Helton</th>\n",
       "      <td>61.2</td>\n",
       "      <td>1.000000</td>\n",
       "    </tr>\n",
       "    <tr>\n",
       "      <th>Barry Bonds</th>\n",
       "      <td>162.8</td>\n",
       "      <td>1.000000</td>\n",
       "    </tr>\n",
       "    <tr>\n",
       "      <th>Manny Ramirez</th>\n",
       "      <td>69.4</td>\n",
       "      <td>1.000000</td>\n",
       "    </tr>\n",
       "    <tr>\n",
       "      <th>Sammy Sosa</th>\n",
       "      <td>58.6</td>\n",
       "      <td>0.888889</td>\n",
       "    </tr>\n",
       "    <tr>\n",
       "      <th>Larry Walker</th>\n",
       "      <td>72.7</td>\n",
       "      <td>0.666667</td>\n",
       "    </tr>\n",
       "    <tr>\n",
       "      <th>Fred McGriff</th>\n",
       "      <td>52.6</td>\n",
       "      <td>0.555556</td>\n",
       "    </tr>\n",
       "    <tr>\n",
       "      <th>Lance Berkman</th>\n",
       "      <td>52.1</td>\n",
       "      <td>0.444444</td>\n",
       "    </tr>\n",
       "    <tr>\n",
       "      <th>Omar Vizquel</th>\n",
       "      <td>45.6</td>\n",
       "      <td>0.333333</td>\n",
       "    </tr>\n",
       "    <tr>\n",
       "      <th>Jeff Kent</th>\n",
       "      <td>55.4</td>\n",
       "      <td>0.316049</td>\n",
       "    </tr>\n",
       "    <tr>\n",
       "      <th>Scott Rolen</th>\n",
       "      <td>70.2</td>\n",
       "      <td>0.111888</td>\n",
       "    </tr>\n",
       "    <tr>\n",
       "      <th>Edgar Martinez</th>\n",
       "      <td>68.4</td>\n",
       "      <td>0.111111</td>\n",
       "    </tr>\n",
       "  </tbody>\n",
       "</table>\n",
       "</div>"
      ],
      "text/plain": [
       "                  WAR  HoF_prob\n",
       "Name                           \n",
       "Gary Sheffield   60.5  1.000000\n",
       "Todd Helton      61.2  1.000000\n",
       "Barry Bonds     162.8  1.000000\n",
       "Manny Ramirez    69.4  1.000000\n",
       "Sammy Sosa       58.6  0.888889\n",
       "Larry Walker     72.7  0.666667\n",
       "Fred McGriff     52.6  0.555556\n",
       "Lance Berkman    52.1  0.444444\n",
       "Omar Vizquel     45.6  0.333333\n",
       "Jeff Kent        55.4  0.316049\n",
       "Scott Rolen      70.2  0.111888\n",
       "Edgar Martinez   68.4  0.111111"
      ]
     },
     "execution_count": 162,
     "metadata": {},
     "output_type": "execute_result"
    }
   ],
   "source": [
    "HoF_pred.sort_values('HoF_prob', ascending=False).head(12)"
   ]
  },
  {
   "cell_type": "markdown",
   "metadata": {},
   "source": [
    "These are the 12 hitters currently on the ballot who are given a better than 10% chance of being voted into the Hall of Fame (eventually, not necessarily this year) based on our model.  This is a tough list to evaluate, of course, because 4 of the top 5 here (all except Helton) have been implicated in steroid-related scandals.  How that affects their ultimate Hall of Fame induction remains to be seen.  Also of note is that exit polls indicate that Edgar Martinez (listed above at 11% likelihood) _will_ be voted in this year, in this his 10th and final year of eligibility."
   ]
  },
  {
   "cell_type": "code",
   "execution_count": 163,
   "metadata": {},
   "outputs": [],
   "source": [
    "X=hitfuture[feature_cols]"
   ]
  },
  {
   "cell_type": "code",
   "execution_count": 164,
   "metadata": {},
   "outputs": [
    {
     "name": "stderr",
     "output_type": "stream",
     "text": [
      "/Users/leemac113/anaconda3/lib/python3.6/site-packages/ipykernel_launcher.py:1: SettingWithCopyWarning: \n",
      "A value is trying to be set on a copy of a slice from a DataFrame.\n",
      "Try using .loc[row_indexer,col_indexer] = value instead\n",
      "\n",
      "See the caveats in the documentation: http://pandas.pydata.org/pandas-docs/stable/indexing.html#indexing-view-versus-copy\n",
      "  \"\"\"Entry point for launching an IPython kernel.\n"
     ]
    }
   ],
   "source": [
    "X['HoF_prob']=rftradhit.predict_proba(X)[:,1]"
   ]
  },
  {
   "cell_type": "code",
   "execution_count": 165,
   "metadata": {},
   "outputs": [],
   "source": [
    "HoF_pred=pd.concat([hitfuture['WAR'],X['HoF_prob']],axis=1, join='inner')"
   ]
  },
  {
   "cell_type": "code",
   "execution_count": 166,
   "metadata": {},
   "outputs": [
    {
     "data": {
      "text/html": [
       "<div>\n",
       "<style scoped>\n",
       "    .dataframe tbody tr th:only-of-type {\n",
       "        vertical-align: middle;\n",
       "    }\n",
       "\n",
       "    .dataframe tbody tr th {\n",
       "        vertical-align: top;\n",
       "    }\n",
       "\n",
       "    .dataframe thead th {\n",
       "        text-align: right;\n",
       "    }\n",
       "</style>\n",
       "<table border=\"1\" class=\"dataframe\">\n",
       "  <thead>\n",
       "    <tr style=\"text-align: right;\">\n",
       "      <th></th>\n",
       "      <th>WAR</th>\n",
       "      <th>HoF_prob</th>\n",
       "    </tr>\n",
       "    <tr>\n",
       "      <th>Name</th>\n",
       "      <th></th>\n",
       "      <th></th>\n",
       "    </tr>\n",
       "  </thead>\n",
       "  <tbody>\n",
       "    <tr>\n",
       "      <th>Barry Bonds</th>\n",
       "      <td>162.8</td>\n",
       "      <td>1.000000</td>\n",
       "    </tr>\n",
       "    <tr>\n",
       "      <th>Manny Ramirez</th>\n",
       "      <td>69.4</td>\n",
       "      <td>1.000000</td>\n",
       "    </tr>\n",
       "    <tr>\n",
       "      <th>Gary Sheffield</th>\n",
       "      <td>60.5</td>\n",
       "      <td>1.000000</td>\n",
       "    </tr>\n",
       "    <tr>\n",
       "      <th>Alex Rodriguez</th>\n",
       "      <td>117.8</td>\n",
       "      <td>1.000000</td>\n",
       "    </tr>\n",
       "    <tr>\n",
       "      <th>Todd Helton</th>\n",
       "      <td>61.2</td>\n",
       "      <td>1.000000</td>\n",
       "    </tr>\n",
       "    <tr>\n",
       "      <th>David Ortiz</th>\n",
       "      <td>55.3</td>\n",
       "      <td>1.000000</td>\n",
       "    </tr>\n",
       "    <tr>\n",
       "      <th>Miguel Cabrera</th>\n",
       "      <td>69.4</td>\n",
       "      <td>1.000000</td>\n",
       "    </tr>\n",
       "    <tr>\n",
       "      <th>Albert Pujols</th>\n",
       "      <td>100.0</td>\n",
       "      <td>1.000000</td>\n",
       "    </tr>\n",
       "    <tr>\n",
       "      <th>Derek Jeter</th>\n",
       "      <td>72.4</td>\n",
       "      <td>0.888889</td>\n",
       "    </tr>\n",
       "    <tr>\n",
       "      <th>Carlos Beltran</th>\n",
       "      <td>69.8</td>\n",
       "      <td>0.888889</td>\n",
       "    </tr>\n",
       "    <tr>\n",
       "      <th>Sammy Sosa</th>\n",
       "      <td>58.6</td>\n",
       "      <td>0.888889</td>\n",
       "    </tr>\n",
       "    <tr>\n",
       "      <th>Ichiro Suzuki</th>\n",
       "      <td>59.3</td>\n",
       "      <td>0.777778</td>\n",
       "    </tr>\n",
       "    <tr>\n",
       "      <th>Larry Walker</th>\n",
       "      <td>72.7</td>\n",
       "      <td>0.666667</td>\n",
       "    </tr>\n",
       "    <tr>\n",
       "      <th>Adrian Beltre</th>\n",
       "      <td>95.7</td>\n",
       "      <td>0.666667</td>\n",
       "    </tr>\n",
       "    <tr>\n",
       "      <th>Fred McGriff</th>\n",
       "      <td>52.6</td>\n",
       "      <td>0.555556</td>\n",
       "    </tr>\n",
       "    <tr>\n",
       "      <th>Jason Giambi</th>\n",
       "      <td>50.5</td>\n",
       "      <td>0.555556</td>\n",
       "    </tr>\n",
       "  </tbody>\n",
       "</table>\n",
       "</div>"
      ],
      "text/plain": [
       "                  WAR  HoF_prob\n",
       "Name                           \n",
       "Barry Bonds     162.8  1.000000\n",
       "Manny Ramirez    69.4  1.000000\n",
       "Gary Sheffield   60.5  1.000000\n",
       "Alex Rodriguez  117.8  1.000000\n",
       "Todd Helton      61.2  1.000000\n",
       "David Ortiz      55.3  1.000000\n",
       "Miguel Cabrera   69.4  1.000000\n",
       "Albert Pujols   100.0  1.000000\n",
       "Derek Jeter      72.4  0.888889\n",
       "Carlos Beltran   69.8  0.888889\n",
       "Sammy Sosa       58.6  0.888889\n",
       "Ichiro Suzuki    59.3  0.777778\n",
       "Larry Walker     72.7  0.666667\n",
       "Adrian Beltre    95.7  0.666667\n",
       "Fred McGriff     52.6  0.555556\n",
       "Jason Giambi     50.5  0.555556"
      ]
     },
     "execution_count": 166,
     "metadata": {},
     "output_type": "execute_result"
    }
   ],
   "source": [
    "HoF_pred.sort_values('HoF_prob', ascending=False).head(16)"
   ]
  },
  {
   "cell_type": "markdown",
   "metadata": {},
   "source": [
    "These are the hitters who at some point will be eligible for Hall of Fame induction (or already are) who are given a better than 50% chance of getting in.  Again, plenty of players on this list have steroid links (which couldn't be factored into the analysis), but the rest of them stand a very good chance of being voted in by the writers eventually (with the exception of Fred McGriff, who seems destined to fall off the ballot this year, though a Veterans Committee should let him in eventually)."
   ]
  },
  {
   "cell_type": "code",
   "execution_count": 167,
   "metadata": {},
   "outputs": [
    {
     "data": {
      "text/html": [
       "<div>\n",
       "<style scoped>\n",
       "    .dataframe tbody tr th:only-of-type {\n",
       "        vertical-align: middle;\n",
       "    }\n",
       "\n",
       "    .dataframe tbody tr th {\n",
       "        vertical-align: top;\n",
       "    }\n",
       "\n",
       "    .dataframe thead th {\n",
       "        text-align: right;\n",
       "    }\n",
       "</style>\n",
       "<table border=\"1\" class=\"dataframe\">\n",
       "  <thead>\n",
       "    <tr style=\"text-align: right;\">\n",
       "      <th></th>\n",
       "      <th>WAR</th>\n",
       "      <th>HoF_prob</th>\n",
       "    </tr>\n",
       "    <tr>\n",
       "      <th>Name</th>\n",
       "      <th></th>\n",
       "      <th></th>\n",
       "    </tr>\n",
       "  </thead>\n",
       "  <tbody>\n",
       "    <tr>\n",
       "      <th>Barry Bonds</th>\n",
       "      <td>162.8</td>\n",
       "      <td>1.000000</td>\n",
       "    </tr>\n",
       "    <tr>\n",
       "      <th>Alex Rodriguez</th>\n",
       "      <td>117.8</td>\n",
       "      <td>1.000000</td>\n",
       "    </tr>\n",
       "    <tr>\n",
       "      <th>Albert Pujols</th>\n",
       "      <td>100.0</td>\n",
       "      <td>1.000000</td>\n",
       "    </tr>\n",
       "    <tr>\n",
       "      <th>Adrian Beltre</th>\n",
       "      <td>95.7</td>\n",
       "      <td>0.666667</td>\n",
       "    </tr>\n",
       "    <tr>\n",
       "      <th>Larry Walker</th>\n",
       "      <td>72.7</td>\n",
       "      <td>0.666667</td>\n",
       "    </tr>\n",
       "    <tr>\n",
       "      <th>Derek Jeter</th>\n",
       "      <td>72.4</td>\n",
       "      <td>0.888889</td>\n",
       "    </tr>\n",
       "    <tr>\n",
       "      <th>Scott Rolen</th>\n",
       "      <td>70.2</td>\n",
       "      <td>0.111888</td>\n",
       "    </tr>\n",
       "    <tr>\n",
       "      <th>Carlos Beltran</th>\n",
       "      <td>69.8</td>\n",
       "      <td>0.888889</td>\n",
       "    </tr>\n",
       "    <tr>\n",
       "      <th>Manny Ramirez</th>\n",
       "      <td>69.4</td>\n",
       "      <td>1.000000</td>\n",
       "    </tr>\n",
       "    <tr>\n",
       "      <th>Miguel Cabrera</th>\n",
       "      <td>69.4</td>\n",
       "      <td>1.000000</td>\n",
       "    </tr>\n",
       "    <tr>\n",
       "      <th>Robinson Cano</th>\n",
       "      <td>69.2</td>\n",
       "      <td>0.111111</td>\n",
       "    </tr>\n",
       "    <tr>\n",
       "      <th>Edgar Martinez</th>\n",
       "      <td>68.4</td>\n",
       "      <td>0.111111</td>\n",
       "    </tr>\n",
       "    <tr>\n",
       "      <th>Chase Utley</th>\n",
       "      <td>65.4</td>\n",
       "      <td>0.000777</td>\n",
       "    </tr>\n",
       "    <tr>\n",
       "      <th>Andruw Jones</th>\n",
       "      <td>62.8</td>\n",
       "      <td>0.000000</td>\n",
       "    </tr>\n",
       "    <tr>\n",
       "      <th>Todd Helton</th>\n",
       "      <td>61.2</td>\n",
       "      <td>1.000000</td>\n",
       "    </tr>\n",
       "    <tr>\n",
       "      <th>Gary Sheffield</th>\n",
       "      <td>60.5</td>\n",
       "      <td>1.000000</td>\n",
       "    </tr>\n",
       "    <tr>\n",
       "      <th>Bobby Abreu</th>\n",
       "      <td>60.0</td>\n",
       "      <td>0.222222</td>\n",
       "    </tr>\n",
       "    <tr>\n",
       "      <th>Ichiro Suzuki</th>\n",
       "      <td>59.3</td>\n",
       "      <td>0.777778</td>\n",
       "    </tr>\n",
       "    <tr>\n",
       "      <th>Joey Votto</th>\n",
       "      <td>58.8</td>\n",
       "      <td>0.111111</td>\n",
       "    </tr>\n",
       "    <tr>\n",
       "      <th>Sammy Sosa</th>\n",
       "      <td>58.6</td>\n",
       "      <td>0.888889</td>\n",
       "    </tr>\n",
       "  </tbody>\n",
       "</table>\n",
       "</div>"
      ],
      "text/plain": [
       "                  WAR  HoF_prob\n",
       "Name                           \n",
       "Barry Bonds     162.8  1.000000\n",
       "Alex Rodriguez  117.8  1.000000\n",
       "Albert Pujols   100.0  1.000000\n",
       "Adrian Beltre    95.7  0.666667\n",
       "Larry Walker     72.7  0.666667\n",
       "Derek Jeter      72.4  0.888889\n",
       "Scott Rolen      70.2  0.111888\n",
       "Carlos Beltran   69.8  0.888889\n",
       "Manny Ramirez    69.4  1.000000\n",
       "Miguel Cabrera   69.4  1.000000\n",
       "Robinson Cano    69.2  0.111111\n",
       "Edgar Martinez   68.4  0.111111\n",
       "Chase Utley      65.4  0.000777\n",
       "Andruw Jones     62.8  0.000000\n",
       "Todd Helton      61.2  1.000000\n",
       "Gary Sheffield   60.5  1.000000\n",
       "Bobby Abreu      60.0  0.222222\n",
       "Ichiro Suzuki    59.3  0.777778\n",
       "Joey Votto       58.8  0.111111\n",
       "Sammy Sosa       58.6  0.888889"
      ]
     },
     "execution_count": 167,
     "metadata": {},
     "output_type": "execute_result"
    }
   ],
   "source": [
    "HoF_pred.sort_values('WAR', ascending=False).head(20)"
   ]
  },
  {
   "cell_type": "markdown",
   "metadata": {},
   "source": [
    "__Which pitchers will be voted in?__"
   ]
  },
  {
   "cell_type": "code",
   "execution_count": 168,
   "metadata": {},
   "outputs": [],
   "source": [
    "feature_cols=pitch.columns.drop(['HoF','WAR','JAWS','WAR7','ERA+'])\n",
    "X=pitch[feature_cols]\n",
    "y=pitch['HoF']\n",
    "\n",
    "X_train,X_test,y_train,y_test = train_test_split(X,y, random_state=1)"
   ]
  },
  {
   "cell_type": "code",
   "execution_count": 169,
   "metadata": {},
   "outputs": [
    {
     "data": {
      "text/plain": [
       "RandomForestClassifier(bootstrap=True, class_weight=None, criterion='gini',\n",
       "            max_depth=5, max_features=4, max_leaf_nodes=None,\n",
       "            min_impurity_decrease=0.0, min_impurity_split=None,\n",
       "            min_samples_leaf=1, min_samples_split=2,\n",
       "            min_weight_fraction_leaf=0.0, n_estimators=5, n_jobs=1,\n",
       "            oob_score=False, random_state=1, verbose=0, warm_start=False)"
      ]
     },
     "execution_count": 169,
     "metadata": {},
     "output_type": "execute_result"
    }
   ],
   "source": [
    "rftradpitch=RandomForestClassifier(n_estimators=5, max_depth=5,max_features=4, random_state=1)\n",
    "rftradpitch.fit(X_train,y_train)"
   ]
  },
  {
   "cell_type": "code",
   "execution_count": 170,
   "metadata": {},
   "outputs": [],
   "source": [
    "X=pitch2019[feature_cols]"
   ]
  },
  {
   "cell_type": "code",
   "execution_count": 171,
   "metadata": {},
   "outputs": [
    {
     "name": "stderr",
     "output_type": "stream",
     "text": [
      "/Users/leemac113/anaconda3/lib/python3.6/site-packages/ipykernel_launcher.py:1: SettingWithCopyWarning: \n",
      "A value is trying to be set on a copy of a slice from a DataFrame.\n",
      "Try using .loc[row_indexer,col_indexer] = value instead\n",
      "\n",
      "See the caveats in the documentation: http://pandas.pydata.org/pandas-docs/stable/indexing.html#indexing-view-versus-copy\n",
      "  \"\"\"Entry point for launching an IPython kernel.\n"
     ]
    }
   ],
   "source": [
    "X['HoF_prob']=rftradpitch.predict_proba(X)[:,1]"
   ]
  },
  {
   "cell_type": "code",
   "execution_count": 172,
   "metadata": {},
   "outputs": [],
   "source": [
    "HoF_pred=pd.concat([pitch2019['WAR'],X['HoF_prob']],axis=1, join='inner')"
   ]
  },
  {
   "cell_type": "code",
   "execution_count": 173,
   "metadata": {},
   "outputs": [
    {
     "data": {
      "text/html": [
       "<div>\n",
       "<style scoped>\n",
       "    .dataframe tbody tr th:only-of-type {\n",
       "        vertical-align: middle;\n",
       "    }\n",
       "\n",
       "    .dataframe tbody tr th {\n",
       "        vertical-align: top;\n",
       "    }\n",
       "\n",
       "    .dataframe thead th {\n",
       "        text-align: right;\n",
       "    }\n",
       "</style>\n",
       "<table border=\"1\" class=\"dataframe\">\n",
       "  <thead>\n",
       "    <tr style=\"text-align: right;\">\n",
       "      <th></th>\n",
       "      <th>WAR</th>\n",
       "      <th>HoF_prob</th>\n",
       "    </tr>\n",
       "    <tr>\n",
       "      <th>Name</th>\n",
       "      <th></th>\n",
       "      <th></th>\n",
       "    </tr>\n",
       "  </thead>\n",
       "  <tbody>\n",
       "    <tr>\n",
       "      <th>Roger Clemens</th>\n",
       "      <td>139.6</td>\n",
       "      <td>0.8</td>\n",
       "    </tr>\n",
       "    <tr>\n",
       "      <th>Roy Halladay</th>\n",
       "      <td>64.3</td>\n",
       "      <td>0.8</td>\n",
       "    </tr>\n",
       "    <tr>\n",
       "      <th>Curt Schilling</th>\n",
       "      <td>79.6</td>\n",
       "      <td>0.2</td>\n",
       "    </tr>\n",
       "    <tr>\n",
       "      <th>Mike Mussina</th>\n",
       "      <td>83.0</td>\n",
       "      <td>0.2</td>\n",
       "    </tr>\n",
       "    <tr>\n",
       "      <th>Andy Pettitte</th>\n",
       "      <td>60.3</td>\n",
       "      <td>0.2</td>\n",
       "    </tr>\n",
       "  </tbody>\n",
       "</table>\n",
       "</div>"
      ],
      "text/plain": [
       "                  WAR  HoF_prob\n",
       "Name                           \n",
       "Roger Clemens   139.6       0.8\n",
       "Roy Halladay     64.3       0.8\n",
       "Curt Schilling   79.6       0.2\n",
       "Mike Mussina     83.0       0.2\n",
       "Andy Pettitte    60.3       0.2"
      ]
     },
     "execution_count": 173,
     "metadata": {},
     "output_type": "execute_result"
    }
   ],
   "source": [
    "HoF_pred.sort_values('HoF_prob', ascending=False).head()"
   ]
  },
  {
   "cell_type": "markdown",
   "metadata": {},
   "source": [
    "The above 5 pitchers are the only ones currently on the ballot who are given any shot of getting voted in by our model.  Of them, Clemens would be a slam-dunk if not for his steroid ties, Halladay looks like he'll be voted in this year (according to exit polls), and Schilling and Mussina probably will be in the next 2 or 3."
   ]
  },
  {
   "cell_type": "code",
   "execution_count": 174,
   "metadata": {},
   "outputs": [],
   "source": [
    "X=pitchfuture[feature_cols]"
   ]
  },
  {
   "cell_type": "code",
   "execution_count": 175,
   "metadata": {},
   "outputs": [
    {
     "name": "stderr",
     "output_type": "stream",
     "text": [
      "/Users/leemac113/anaconda3/lib/python3.6/site-packages/ipykernel_launcher.py:1: SettingWithCopyWarning: \n",
      "A value is trying to be set on a copy of a slice from a DataFrame.\n",
      "Try using .loc[row_indexer,col_indexer] = value instead\n",
      "\n",
      "See the caveats in the documentation: http://pandas.pydata.org/pandas-docs/stable/indexing.html#indexing-view-versus-copy\n",
      "  \"\"\"Entry point for launching an IPython kernel.\n"
     ]
    }
   ],
   "source": [
    "X['HoF_prob']=rftradpitch.predict_proba(X)[:,1]"
   ]
  },
  {
   "cell_type": "code",
   "execution_count": 176,
   "metadata": {},
   "outputs": [],
   "source": [
    "HoF_pred=pd.concat([pitchfuture['WAR'],X['HoF_prob']],axis=1, join='inner')"
   ]
  },
  {
   "cell_type": "code",
   "execution_count": 177,
   "metadata": {},
   "outputs": [
    {
     "data": {
      "text/html": [
       "<div>\n",
       "<style scoped>\n",
       "    .dataframe tbody tr th:only-of-type {\n",
       "        vertical-align: middle;\n",
       "    }\n",
       "\n",
       "    .dataframe tbody tr th {\n",
       "        vertical-align: top;\n",
       "    }\n",
       "\n",
       "    .dataframe thead th {\n",
       "        text-align: right;\n",
       "    }\n",
       "</style>\n",
       "<table border=\"1\" class=\"dataframe\">\n",
       "  <thead>\n",
       "    <tr style=\"text-align: right;\">\n",
       "      <th></th>\n",
       "      <th>WAR</th>\n",
       "      <th>HoF_prob</th>\n",
       "    </tr>\n",
       "    <tr>\n",
       "      <th>Name</th>\n",
       "      <th></th>\n",
       "      <th></th>\n",
       "    </tr>\n",
       "  </thead>\n",
       "  <tbody>\n",
       "    <tr>\n",
       "      <th>Roger Clemens</th>\n",
       "      <td>139.6</td>\n",
       "      <td>0.8</td>\n",
       "    </tr>\n",
       "    <tr>\n",
       "      <th>Roy Halladay</th>\n",
       "      <td>64.3</td>\n",
       "      <td>0.8</td>\n",
       "    </tr>\n",
       "    <tr>\n",
       "      <th>Justin Verlander</th>\n",
       "      <td>63.4</td>\n",
       "      <td>0.6</td>\n",
       "    </tr>\n",
       "    <tr>\n",
       "      <th>Clayton Kershaw</th>\n",
       "      <td>64.6</td>\n",
       "      <td>0.6</td>\n",
       "    </tr>\n",
       "  </tbody>\n",
       "</table>\n",
       "</div>"
      ],
      "text/plain": [
       "                    WAR  HoF_prob\n",
       "Name                             \n",
       "Roger Clemens     139.6       0.8\n",
       "Roy Halladay       64.3       0.8\n",
       "Justin Verlander   63.4       0.6\n",
       "Clayton Kershaw    64.6       0.6"
      ]
     },
     "execution_count": 177,
     "metadata": {},
     "output_type": "execute_result"
    }
   ],
   "source": [
    "HoF_pred.sort_values('HoF_prob', ascending=False).head(4)"
   ]
  },
  {
   "cell_type": "markdown",
   "metadata": {},
   "source": [
    "This would indicate that, according to our model, if Justin Verlander and Clayton Kershaw were to retire today, they would have a 60% chance of getting voted into the Hall of Fame.  Both are still close to the top of their games (and will not in fact retire today), and my best guess is that they will one day be enshrined."
   ]
  },
  {
   "cell_type": "code",
   "execution_count": 178,
   "metadata": {},
   "outputs": [
    {
     "data": {
      "text/html": [
       "<div>\n",
       "<style scoped>\n",
       "    .dataframe tbody tr th:only-of-type {\n",
       "        vertical-align: middle;\n",
       "    }\n",
       "\n",
       "    .dataframe tbody tr th {\n",
       "        vertical-align: top;\n",
       "    }\n",
       "\n",
       "    .dataframe thead th {\n",
       "        text-align: right;\n",
       "    }\n",
       "</style>\n",
       "<table border=\"1\" class=\"dataframe\">\n",
       "  <thead>\n",
       "    <tr style=\"text-align: right;\">\n",
       "      <th></th>\n",
       "      <th>WAR</th>\n",
       "      <th>HoF_prob</th>\n",
       "    </tr>\n",
       "    <tr>\n",
       "      <th>Name</th>\n",
       "      <th></th>\n",
       "      <th></th>\n",
       "    </tr>\n",
       "  </thead>\n",
       "  <tbody>\n",
       "    <tr>\n",
       "      <th>Roger Clemens</th>\n",
       "      <td>139.6</td>\n",
       "      <td>0.8</td>\n",
       "    </tr>\n",
       "    <tr>\n",
       "      <th>Mike Mussina</th>\n",
       "      <td>83.0</td>\n",
       "      <td>0.2</td>\n",
       "    </tr>\n",
       "    <tr>\n",
       "      <th>Curt Schilling</th>\n",
       "      <td>79.6</td>\n",
       "      <td>0.2</td>\n",
       "    </tr>\n",
       "    <tr>\n",
       "      <th>Zack Greinke</th>\n",
       "      <td>65.7</td>\n",
       "      <td>0.0</td>\n",
       "    </tr>\n",
       "    <tr>\n",
       "      <th>Clayton Kershaw</th>\n",
       "      <td>64.6</td>\n",
       "      <td>0.6</td>\n",
       "    </tr>\n",
       "    <tr>\n",
       "      <th>Roy Halladay</th>\n",
       "      <td>64.3</td>\n",
       "      <td>0.8</td>\n",
       "    </tr>\n",
       "    <tr>\n",
       "      <th>Justin Verlander</th>\n",
       "      <td>63.4</td>\n",
       "      <td>0.6</td>\n",
       "    </tr>\n",
       "    <tr>\n",
       "      <th>CC Sabathia</th>\n",
       "      <td>62.7</td>\n",
       "      <td>0.2</td>\n",
       "    </tr>\n",
       "    <tr>\n",
       "      <th>Andy Pettitte</th>\n",
       "      <td>60.3</td>\n",
       "      <td>0.2</td>\n",
       "    </tr>\n",
       "    <tr>\n",
       "      <th>Mark Buehrle</th>\n",
       "      <td>59.3</td>\n",
       "      <td>0.0</td>\n",
       "    </tr>\n",
       "  </tbody>\n",
       "</table>\n",
       "</div>"
      ],
      "text/plain": [
       "                    WAR  HoF_prob\n",
       "Name                             \n",
       "Roger Clemens     139.6       0.8\n",
       "Mike Mussina       83.0       0.2\n",
       "Curt Schilling     79.6       0.2\n",
       "Zack Greinke       65.7       0.0\n",
       "Clayton Kershaw    64.6       0.6\n",
       "Roy Halladay       64.3       0.8\n",
       "Justin Verlander   63.4       0.6\n",
       "CC Sabathia        62.7       0.2\n",
       "Andy Pettitte      60.3       0.2\n",
       "Mark Buehrle       59.3       0.0"
      ]
     },
     "execution_count": 178,
     "metadata": {},
     "output_type": "execute_result"
    }
   ],
   "source": [
    "HoF_pred.sort_values('WAR', ascending=False).head(10)"
   ]
  },
  {
   "cell_type": "markdown",
   "metadata": {},
   "source": [
    "# Limitations/Future Analysis"
   ]
  },
  {
   "cell_type": "markdown",
   "metadata": {},
   "source": [
    "__Limitations__"
   ]
  },
  {
   "cell_type": "markdown",
   "metadata": {},
   "source": [
    "1. The nature of this project treats the BBWAA as if it was one voting body, when in fact the voters (and of course the players and the game itself) are changing, as are their views on statistics and their analysis.  In a world where the BBWAA was a set group of immortal baseball writers, this analysis would obviously be more precise.\n",
    "\n",
    "2. There are many external factors which enter into Hall of Fame voting outside of statistics that couldn't be accounted for in an analysis such as this.  Performance-enhancing drugs are a more recent example we can point to, but there are other factors, such as the places someone played (one is more likely to gain notoriety in New York than in Seattle) or their previous interactions with the media (who could be biased to vote against them if said interactions were negative).\n",
    "\n",
    "3. The cutline of 1966 for my analysis, while not an arbitrary one, was not the only option I could have chosen, as many changes to Hall of Fame voting have occurred before and after (full list here: https://baseballhall.org/hall-of-famers/rules/voting-rules-history).\n",
    "\n",
    "4. This is mentioned above, but the caveat is worth mentioning again:  even though my Random Forests built on traditional statistics were built with max_features=4, they were still allowed to choose any four from the bunch, while the ones built on advanced statistics were only allowed to choose from the specific 4 (WAR, WAR7, JAWS, ERA+/OPS+).  Thus, one can't draw a conclusion such as \"traditional statistics are a better measure of Hall of Fame induction than advanced statistics\".\n",
    "\n",
    "Despite these limitations, however, I am satisified with my results-- __I succeeded in building Random Forest models exclusively on traditional statistics that serve as strong predictors of Hall of Fame election by the BBWAA.__"
   ]
  },
  {
   "cell_type": "markdown",
   "metadata": {},
   "source": [
    "__Potential Next Steps__"
   ]
  },
  {
   "cell_type": "markdown",
   "metadata": {},
   "source": [
    "1. A similar analysis could be done __by position__ (not just by hitters and pitchers), as the Hall of Fame standards for certain positions are different than those for others.\n",
    "\n",
    "2. While my goal here wasn't to build the __best possible predictive model of Hall of Fame induction in general__ (as I've repeated ad nauseam), that would certainly be a worthwhile endeavor to embark on."
   ]
  },
  {
   "cell_type": "code",
   "execution_count": null,
   "metadata": {},
   "outputs": [],
   "source": []
  }
 ],
 "metadata": {
  "kernelspec": {
   "display_name": "Python 3",
   "language": "python",
   "name": "python3"
  },
  "language_info": {
   "codemirror_mode": {
    "name": "ipython",
    "version": 3
   },
   "file_extension": ".py",
   "mimetype": "text/x-python",
   "name": "python",
   "nbconvert_exporter": "python",
   "pygments_lexer": "ipython3",
   "version": "3.6.4"
  }
 },
 "nbformat": 4,
 "nbformat_minor": 2
}
